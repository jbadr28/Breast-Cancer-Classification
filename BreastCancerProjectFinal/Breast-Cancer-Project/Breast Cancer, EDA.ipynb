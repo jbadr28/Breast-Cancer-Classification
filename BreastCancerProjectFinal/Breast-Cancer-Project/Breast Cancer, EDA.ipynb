{
 "cells": [
  {
   "cell_type": "markdown",
   "metadata": {
    "cell_id": "222d902975c54e368b56c2c5b8b3d3a8",
    "deepnote_cell_type": "markdown",
    "tags": []
   },
   "source": [
    "<h1 style=\"color: red; text-align: center;\">Breast Cancer, EDA</h1>\n",
    "<h2 style=\"color: blue; text-align: center;\">National School of Applied Science</h2>\n",
    "<h3 style=\"color: green; text-align: center;\">Supervisor:  Pr.Hayat ROUTAIB</h3>\n",
    "<hr width: 5px>\n",
    "<h3>❖ Authors:</h3>\n",
    "<p>TATI Mohammed<br>JALILI Badr Eddine</p>\n",
    "<p style=\"text-align: right;\"><b>03-DEC | <span style=\"color: green;\">2022</span></b></p> "
   ]
  },
  {
   "cell_type": "markdown",
   "metadata": {
    "cell_id": "cc659da985ed411cb9374d1560c030e3",
    "deepnote_cell_type": "markdown",
    "tags": []
   },
   "source": [
    "<h1 style=\"color: green;\">Data Description</h1>"
   ]
  },
  {
   "cell_type": "markdown",
   "metadata": {
    "cell_id": "625277d6b6974b30b80049aeb9b4f4f2",
    "deepnote_cell_type": "text-cell-p",
    "formattedRanges": [],
    "is_collapsed": false,
    "tags": []
   },
   "source": [
    "Breast cancer is cancer that forms in the cells of the breasts."
   ]
  },
  {
   "cell_type": "markdown",
   "metadata": {
    "cell_id": "81494bab-d008-4ae9-ba66-7bc6420064f9",
    "deepnote_cell_type": "text-cell-p",
    "formattedRanges": [],
    "is_collapsed": false,
    "tags": []
   },
   "source": [
    "After skin cancer, breast cancer is the most common cancer diagnosed in women in the United States. Breast cancer can occur in both men and women, but it's far more common in women."
   ]
  },
  {
   "cell_type": "markdown",
   "metadata": {
    "cell_id": "d71444d7f96945aa91b6aa5449a44e0b",
    "deepnote_cell_type": "text-cell-h3",
    "formattedRanges": [],
    "is_collapsed": false,
    "tags": []
   },
   "source": [
    "### Importing the data"
   ]
  },
  {
   "cell_type": "code",
   "execution_count": null,
   "metadata": {
    "cell_id": "39630a9b3fb94fa990ae7daf13ef068d",
    "deepnote_cell_type": "code",
    "deepnote_table_loading": false,
    "deepnote_table_state": {
     "filters": [],
     "pageIndex": 0,
     "pageSize": 10,
     "sortBy": []
    },
    "deepnote_to_be_reexecuted": false,
    "execution_millis": 245,
    "execution_start": 1670398524571,
    "source_hash": "1e28b420",
    "tags": []
   },
   "outputs": [
    {
     "data": {
      "application/vnd.deepnote.dataframe.v3+json": {
       "column_count": 32,
       "columns": [
        {
         "dtype": "int64",
         "name": "id",
         "stats": {
          "histogram": [
           {
            "bin_end": 9193912,
            "bin_start": 842302,
            "count": 2
           },
           {
            "bin_end": 17545522,
            "bin_start": 9193912,
            "count": 0
           },
           {
            "bin_end": 25897132,
            "bin_start": 17545522,
            "count": 0
           },
           {
            "bin_end": 34248742,
            "bin_start": 25897132,
            "count": 0
           },
           {
            "bin_end": 42600352,
            "bin_start": 34248742,
            "count": 0
           },
           {
            "bin_end": 50951962,
            "bin_start": 42600352,
            "count": 0
           },
           {
            "bin_end": 59303572,
            "bin_start": 50951962,
            "count": 0
           },
           {
            "bin_end": 67655182,
            "bin_start": 59303572,
            "count": 0
           },
           {
            "bin_end": 76006792,
            "bin_start": 67655182,
            "count": 0
           },
           {
            "bin_end": 84358402,
            "bin_start": 76006792,
            "count": 3
           }
          ],
          "max": "84358402",
          "min": "842302",
          "nan_count": 0,
          "unique_count": 5
         }
        },
        {
         "dtype": "object",
         "name": "diagnosis",
         "stats": {
          "categories": [
           {
            "count": 5,
            "name": "M"
           }
          ],
          "nan_count": 0,
          "unique_count": 1
         }
        },
        {
         "dtype": "float64",
         "name": "Radius_mean",
         "stats": {
          "histogram": [
           {
            "bin_end": 12.335,
            "bin_start": 11.42,
            "count": 1
           },
           {
            "bin_end": 13.25,
            "bin_start": 12.335,
            "count": 0
           },
           {
            "bin_end": 14.165,
            "bin_start": 13.25,
            "count": 0
           },
           {
            "bin_end": 15.08,
            "bin_start": 14.165,
            "count": 0
           },
           {
            "bin_end": 15.995000000000001,
            "bin_start": 15.08,
            "count": 0
           },
           {
            "bin_end": 16.91,
            "bin_start": 15.995000000000001,
            "count": 0
           },
           {
            "bin_end": 17.825,
            "bin_start": 16.91,
            "count": 0
           },
           {
            "bin_end": 18.740000000000002,
            "bin_start": 17.825,
            "count": 1
           },
           {
            "bin_end": 19.655,
            "bin_start": 18.740000000000002,
            "count": 0
           },
           {
            "bin_end": 20.57,
            "bin_start": 19.655,
            "count": 3
           }
          ],
          "max": "20.57",
          "min": "11.42",
          "nan_count": 0,
          "unique_count": 5
         }
        },
        {
         "dtype": "float64",
         "name": "Texture_mean",
         "stats": {
          "histogram": [
           {
            "bin_end": 11.519,
            "bin_start": 10.38,
            "count": 1
           },
           {
            "bin_end": 12.658000000000001,
            "bin_start": 11.519,
            "count": 0
           },
           {
            "bin_end": 13.797,
            "bin_start": 12.658000000000001,
            "count": 0
           },
           {
            "bin_end": 14.936,
            "bin_start": 13.797,
            "count": 1
           },
           {
            "bin_end": 16.075,
            "bin_start": 14.936,
            "count": 0
           },
           {
            "bin_end": 17.214,
            "bin_start": 16.075,
            "count": 0
           },
           {
            "bin_end": 18.353,
            "bin_start": 17.214,
            "count": 0
           },
           {
            "bin_end": 19.491999999999997,
            "bin_start": 18.353,
            "count": 0
           },
           {
            "bin_end": 20.631,
            "bin_start": 19.491999999999997,
            "count": 1
           },
           {
            "bin_end": 21.77,
            "bin_start": 20.631,
            "count": 2
           }
          ],
          "max": "21.77",
          "min": "10.38",
          "nan_count": 0,
          "unique_count": 5
         }
        },
        {
         "dtype": "float64",
         "name": "perimeter_mean",
         "stats": {
          "histogram": [
           {
            "bin_end": 83.332,
            "bin_start": 77.58,
            "count": 1
           },
           {
            "bin_end": 89.084,
            "bin_start": 83.332,
            "count": 0
           },
           {
            "bin_end": 94.836,
            "bin_start": 89.084,
            "count": 0
           },
           {
            "bin_end": 100.588,
            "bin_start": 94.836,
            "count": 0
           },
           {
            "bin_end": 106.34,
            "bin_start": 100.588,
            "count": 0
           },
           {
            "bin_end": 112.092,
            "bin_start": 106.34,
            "count": 0
           },
           {
            "bin_end": 117.844,
            "bin_start": 112.092,
            "count": 0
           },
           {
            "bin_end": 123.596,
            "bin_start": 117.844,
            "count": 1
           },
           {
            "bin_end": 129.348,
            "bin_start": 123.596,
            "count": 0
           },
           {
            "bin_end": 135.1,
            "bin_start": 129.348,
            "count": 3
           }
          ],
          "max": "135.1",
          "min": "77.58",
          "nan_count": 0,
          "unique_count": 5
         }
        },
        {
         "dtype": "float64",
         "name": "area_mean",
         "stats": {
          "histogram": [
           {
            "bin_end": 480.09000000000003,
            "bin_start": 386.1,
            "count": 1
           },
           {
            "bin_end": 574.08,
            "bin_start": 480.09000000000003,
            "count": 0
           },
           {
            "bin_end": 668.0699999999999,
            "bin_start": 574.08,
            "count": 0
           },
           {
            "bin_end": 762.06,
            "bin_start": 668.0699999999999,
            "count": 0
           },
           {
            "bin_end": 856.05,
            "bin_start": 762.06,
            "count": 0
           },
           {
            "bin_end": 950.04,
            "bin_start": 856.05,
            "count": 0
           },
           {
            "bin_end": 1044.03,
            "bin_start": 950.04,
            "count": 1
           },
           {
            "bin_end": 1138.02,
            "bin_start": 1044.03,
            "count": 0
           },
           {
            "bin_end": 1232.01,
            "bin_start": 1138.02,
            "count": 1
           },
           {
            "bin_end": 1326,
            "bin_start": 1232.01,
            "count": 2
           }
          ],
          "max": "1326.0",
          "min": "386.1",
          "nan_count": 0,
          "unique_count": 5
         }
        },
        {
         "dtype": "float64",
         "name": "smoothness_mean",
         "stats": {
          "histogram": [
           {
            "bin_end": 0.090516,
            "bin_start": 0.08474,
            "count": 1
           },
           {
            "bin_end": 0.09629199999999999,
            "bin_start": 0.090516,
            "count": 0
           },
           {
            "bin_end": 0.10206799999999999,
            "bin_start": 0.09629199999999999,
            "count": 1
           },
           {
            "bin_end": 0.107844,
            "bin_start": 0.10206799999999999,
            "count": 0
           },
           {
            "bin_end": 0.11362,
            "bin_start": 0.107844,
            "count": 1
           },
           {
            "bin_end": 0.11939599999999999,
            "bin_start": 0.11362,
            "count": 1
           },
           {
            "bin_end": 0.125172,
            "bin_start": 0.11939599999999999,
            "count": 0
           },
           {
            "bin_end": 0.13094799999999998,
            "bin_start": 0.125172,
            "count": 0
           },
           {
            "bin_end": 0.13672399999999998,
            "bin_start": 0.13094799999999998,
            "count": 0
           },
           {
            "bin_end": 0.1425,
            "bin_start": 0.13672399999999998,
            "count": 1
           }
          ],
          "max": "0.1425",
          "min": "0.08474",
          "nan_count": 0,
          "unique_count": 5
         }
        },
        {
         "dtype": "float64",
         "name": "compactness_mean",
         "stats": {
          "histogram": [
           {
            "bin_end": 0.099166,
            "bin_start": 0.07864,
            "count": 1
           },
           {
            "bin_end": 0.11969199999999999,
            "bin_start": 0.099166,
            "count": 0
           },
           {
            "bin_end": 0.140218,
            "bin_start": 0.11969199999999999,
            "count": 1
           },
           {
            "bin_end": 0.160744,
            "bin_start": 0.140218,
            "count": 1
           },
           {
            "bin_end": 0.18127,
            "bin_start": 0.160744,
            "count": 0
           },
           {
            "bin_end": 0.20179599999999998,
            "bin_start": 0.18127,
            "count": 0
           },
           {
            "bin_end": 0.22232200000000002,
            "bin_start": 0.20179599999999998,
            "count": 0
           },
           {
            "bin_end": 0.242848,
            "bin_start": 0.22232200000000002,
            "count": 0
           },
           {
            "bin_end": 0.263374,
            "bin_start": 0.242848,
            "count": 0
           },
           {
            "bin_end": 0.2839,
            "bin_start": 0.263374,
            "count": 2
           }
          ],
          "max": "0.2839",
          "min": "0.07864",
          "nan_count": 0,
          "unique_count": 5
         }
        },
        {
         "dtype": "float64",
         "name": "concavity_mean",
         "stats": {
          "histogram": [
           {
            "bin_end": 0.10822000000000001,
            "bin_start": 0.0869,
            "count": 1
           },
           {
            "bin_end": 0.12954,
            "bin_start": 0.10822000000000001,
            "count": 0
           },
           {
            "bin_end": 0.15086,
            "bin_start": 0.12954,
            "count": 0
           },
           {
            "bin_end": 0.17218,
            "bin_start": 0.15086,
            "count": 0
           },
           {
            "bin_end": 0.1935,
            "bin_start": 0.17218,
            "count": 0
           },
           {
            "bin_end": 0.21481999999999998,
            "bin_start": 0.1935,
            "count": 2
           },
           {
            "bin_end": 0.23614,
            "bin_start": 0.21481999999999998,
            "count": 0
           },
           {
            "bin_end": 0.25746,
            "bin_start": 0.23614,
            "count": 1
           },
           {
            "bin_end": 0.27878000000000003,
            "bin_start": 0.25746,
            "count": 0
           },
           {
            "bin_end": 0.3001,
            "bin_start": 0.27878000000000003,
            "count": 1
           }
          ],
          "max": "0.3001",
          "min": "0.0869",
          "nan_count": 0,
          "unique_count": 5
         }
        },
        {
         "dtype": "float64",
         "name": "concave points_mean",
         "stats": {
          "histogram": [
           {
            "bin_end": 0.077863,
            "bin_start": 0.07017,
            "count": 1
           },
           {
            "bin_end": 0.085556,
            "bin_start": 0.077863,
            "count": 0
           },
           {
            "bin_end": 0.093249,
            "bin_start": 0.085556,
            "count": 0
           },
           {
            "bin_end": 0.100942,
            "bin_start": 0.093249,
            "count": 0
           },
           {
            "bin_end": 0.10863500000000001,
            "bin_start": 0.100942,
            "count": 2
           },
           {
            "bin_end": 0.116328,
            "bin_start": 0.10863500000000001,
            "count": 0
           },
           {
            "bin_end": 0.124021,
            "bin_start": 0.116328,
            "count": 0
           },
           {
            "bin_end": 0.131714,
            "bin_start": 0.124021,
            "count": 1
           },
           {
            "bin_end": 0.139407,
            "bin_start": 0.131714,
            "count": 0
           },
           {
            "bin_end": 0.1471,
            "bin_start": 0.139407,
            "count": 1
           }
          ],
          "max": "0.1471",
          "min": "0.07017",
          "nan_count": 0,
          "unique_count": 5
         }
        },
        {
         "dtype": "float64",
         "name": "symmetry_mean",
         "stats": {
          "histogram": [
           {
            "bin_end": 0.18878,
            "bin_start": 0.1809,
            "count": 2
           },
           {
            "bin_end": 0.19666,
            "bin_start": 0.18878,
            "count": 0
           },
           {
            "bin_end": 0.20454,
            "bin_start": 0.19666,
            "count": 0
           },
           {
            "bin_end": 0.21242,
            "bin_start": 0.20454,
            "count": 1
           },
           {
            "bin_end": 0.2203,
            "bin_start": 0.21242,
            "count": 0
           },
           {
            "bin_end": 0.22818,
            "bin_start": 0.2203,
            "count": 0
           },
           {
            "bin_end": 0.23606,
            "bin_start": 0.22818,
            "count": 0
           },
           {
            "bin_end": 0.24394,
            "bin_start": 0.23606,
            "count": 1
           },
           {
            "bin_end": 0.25182,
            "bin_start": 0.24394,
            "count": 0
           },
           {
            "bin_end": 0.2597,
            "bin_start": 0.25182,
            "count": 1
           }
          ],
          "max": "0.2597",
          "min": "0.1809",
          "nan_count": 0,
          "unique_count": 5
         }
        },
        {
         "dtype": "float64",
         "name": "fractal_dimension_mean",
         "stats": {
          "histogram": [
           {
            "bin_end": 0.060746999999999995,
            "bin_start": 0.05667,
            "count": 3
           },
           {
            "bin_end": 0.06482399999999999,
            "bin_start": 0.060746999999999995,
            "count": 0
           },
           {
            "bin_end": 0.06890099999999999,
            "bin_start": 0.06482399999999999,
            "count": 0
           },
           {
            "bin_end": 0.072978,
            "bin_start": 0.06890099999999999,
            "count": 0
           },
           {
            "bin_end": 0.077055,
            "bin_start": 0.072978,
            "count": 0
           },
           {
            "bin_end": 0.081132,
            "bin_start": 0.077055,
            "count": 1
           },
           {
            "bin_end": 0.085209,
            "bin_start": 0.081132,
            "count": 0
           },
           {
            "bin_end": 0.089286,
            "bin_start": 0.085209,
            "count": 0
           },
           {
            "bin_end": 0.093363,
            "bin_start": 0.089286,
            "count": 0
           },
           {
            "bin_end": 0.09744,
            "bin_start": 0.093363,
            "count": 1
           }
          ],
          "max": "0.09744",
          "min": "0.05667",
          "nan_count": 0,
          "unique_count": 5
         }
        },
        {
         "dtype": "float64",
         "name": "radius_se",
         "stats": {
          "histogram": [
           {
            "bin_end": 0.5555399999999999,
            "bin_start": 0.4956,
            "count": 2
           },
           {
            "bin_end": 0.61548,
            "bin_start": 0.5555399999999999,
            "count": 0
           },
           {
            "bin_end": 0.6754199999999999,
            "bin_start": 0.61548,
            "count": 0
           },
           {
            "bin_end": 0.73536,
            "bin_start": 0.6754199999999999,
            "count": 0
           },
           {
            "bin_end": 0.7952999999999999,
            "bin_start": 0.73536,
            "count": 2
           },
           {
            "bin_end": 0.85524,
            "bin_start": 0.7952999999999999,
            "count": 0
           },
           {
            "bin_end": 0.9151799999999999,
            "bin_start": 0.85524,
            "count": 0
           },
           {
            "bin_end": 0.97512,
            "bin_start": 0.9151799999999999,
            "count": 0
           },
           {
            "bin_end": 1.0350599999999999,
            "bin_start": 0.97512,
            "count": 0
           },
           {
            "bin_end": 1.095,
            "bin_start": 1.0350599999999999,
            "count": 1
           }
          ],
          "max": "1.095",
          "min": "0.4956",
          "nan_count": 0,
          "unique_count": 5
         }
        },
        {
         "dtype": "float64",
         "name": "texture_se",
         "stats": {
          "histogram": [
           {
            "bin_end": 0.77611,
            "bin_start": 0.7339,
            "count": 1
           },
           {
            "bin_end": 0.8183199999999999,
            "bin_start": 0.77611,
            "count": 2
           },
           {
            "bin_end": 0.86053,
            "bin_start": 0.8183199999999999,
            "count": 0
           },
           {
            "bin_end": 0.90274,
            "bin_start": 0.86053,
            "count": 0
           },
           {
            "bin_end": 0.94495,
            "bin_start": 0.90274,
            "count": 1
           },
           {
            "bin_end": 0.9871599999999999,
            "bin_start": 0.94495,
            "count": 0
           },
           {
            "bin_end": 1.02937,
            "bin_start": 0.9871599999999999,
            "count": 0
           },
           {
            "bin_end": 1.07158,
            "bin_start": 1.02937,
            "count": 0
           },
           {
            "bin_end": 1.1137899999999998,
            "bin_start": 1.07158,
            "count": 0
           },
           {
            "bin_end": 1.156,
            "bin_start": 1.1137899999999998,
            "count": 1
           }
          ],
          "max": "1.156",
          "min": "0.7339",
          "nan_count": 0,
          "unique_count": 5
         }
        },
        {
         "dtype": "float64",
         "name": "perimeter_se",
         "stats": {
          "histogram": [
           {
            "bin_end": 3.9171000000000005,
            "bin_start": 3.398,
            "count": 2
           },
           {
            "bin_end": 4.4362,
            "bin_start": 3.9171000000000005,
            "count": 0
           },
           {
            "bin_end": 4.9553,
            "bin_start": 4.4362,
            "count": 1
           },
           {
            "bin_end": 5.474400000000001,
            "bin_start": 4.9553,
            "count": 1
           },
           {
            "bin_end": 5.993500000000001,
            "bin_start": 5.474400000000001,
            "count": 0
           },
           {
            "bin_end": 6.512600000000001,
            "bin_start": 5.993500000000001,
            "count": 0
           },
           {
            "bin_end": 7.031700000000001,
            "bin_start": 6.512600000000001,
            "count": 0
           },
           {
            "bin_end": 7.550800000000001,
            "bin_start": 7.031700000000001,
            "count": 0
           },
           {
            "bin_end": 8.0699,
            "bin_start": 7.550800000000001,
            "count": 0
           },
           {
            "bin_end": 8.589,
            "bin_start": 8.0699,
            "count": 1
           }
          ],
          "max": "8.589",
          "min": "3.398",
          "nan_count": 0,
          "unique_count": 5
         }
        },
        {
         "dtype": "float64",
         "name": "area_se",
         "stats": {
          "histogram": [
           {
            "bin_end": 39.847,
            "bin_start": 27.23,
            "count": 1
           },
           {
            "bin_end": 52.464,
            "bin_start": 39.847,
            "count": 0
           },
           {
            "bin_end": 65.081,
            "bin_start": 52.464,
            "count": 0
           },
           {
            "bin_end": 77.69800000000001,
            "bin_start": 65.081,
            "count": 1
           },
           {
            "bin_end": 90.31500000000001,
            "bin_start": 77.69800000000001,
            "count": 0
           },
           {
            "bin_end": 102.932,
            "bin_start": 90.31500000000001,
            "count": 2
           },
           {
            "bin_end": 115.549,
            "bin_start": 102.932,
            "count": 0
           },
           {
            "bin_end": 128.166,
            "bin_start": 115.549,
            "count": 0
           },
           {
            "bin_end": 140.78300000000002,
            "bin_start": 128.166,
            "count": 0
           },
           {
            "bin_end": 153.4,
            "bin_start": 140.78300000000002,
            "count": 1
           }
          ],
          "max": "153.4",
          "min": "27.23",
          "nan_count": 0,
          "unique_count": 5
         }
        },
        {
         "dtype": "float64",
         "name": "smoothness_se",
         "stats": {
          "histogram": [
           {
            "bin_end": 0.0058515,
            "bin_start": 0.005225,
            "count": 1
           },
           {
            "bin_end": 0.006477999999999999,
            "bin_start": 0.0058515,
            "count": 2
           },
           {
            "bin_end": 0.0071045,
            "bin_start": 0.006477999999999999,
            "count": 0
           },
           {
            "bin_end": 0.007731,
            "bin_start": 0.0071045,
            "count": 0
           },
           {
            "bin_end": 0.0083575,
            "bin_start": 0.007731,
            "count": 0
           },
           {
            "bin_end": 0.008984,
            "bin_start": 0.0083575,
            "count": 0
           },
           {
            "bin_end": 0.009610500000000001,
            "bin_start": 0.008984,
            "count": 1
           },
           {
            "bin_end": 0.010237,
            "bin_start": 0.009610500000000001,
            "count": 0
           },
           {
            "bin_end": 0.010863500000000002,
            "bin_start": 0.010237,
            "count": 0
           },
           {
            "bin_end": 0.01149,
            "bin_start": 0.010863500000000002,
            "count": 1
           }
          ],
          "max": "0.01149",
          "min": "0.005225",
          "nan_count": 0,
          "unique_count": 5
         }
        },
        {
         "dtype": "float64",
         "name": "compactness_se",
         "stats": {
          "histogram": [
           {
            "bin_end": 0.019229999999999997,
            "bin_start": 0.01308,
            "count": 1
           },
           {
            "bin_end": 0.02538,
            "bin_start": 0.019229999999999997,
            "count": 1
           },
           {
            "bin_end": 0.031529999999999996,
            "bin_start": 0.02538,
            "count": 0
           },
           {
            "bin_end": 0.03768,
            "bin_start": 0.031529999999999996,
            "count": 0
           },
           {
            "bin_end": 0.043829999999999994,
            "bin_start": 0.03768,
            "count": 1
           },
           {
            "bin_end": 0.04998,
            "bin_start": 0.043829999999999994,
            "count": 1
           },
           {
            "bin_end": 0.05612999999999999,
            "bin_start": 0.04998,
            "count": 0
           },
           {
            "bin_end": 0.062279999999999995,
            "bin_start": 0.05612999999999999,
            "count": 0
           },
           {
            "bin_end": 0.06842999999999999,
            "bin_start": 0.062279999999999995,
            "count": 0
           },
           {
            "bin_end": 0.07458,
            "bin_start": 0.06842999999999999,
            "count": 1
           }
          ],
          "max": "0.07458",
          "min": "0.01308",
          "nan_count": 0,
          "unique_count": 5
         }
        },
        {
         "dtype": "float64",
         "name": "concavity_se",
         "stats": {
          "histogram": [
           {
            "bin_end": 0.022428,
            "bin_start": 0.0186,
            "count": 1
           },
           {
            "bin_end": 0.026255999999999998,
            "bin_start": 0.022428,
            "count": 0
           },
           {
            "bin_end": 0.030084,
            "bin_start": 0.026255999999999998,
            "count": 0
           },
           {
            "bin_end": 0.033912,
            "bin_start": 0.030084,
            "count": 0
           },
           {
            "bin_end": 0.037739999999999996,
            "bin_start": 0.033912,
            "count": 0
           },
           {
            "bin_end": 0.041568,
            "bin_start": 0.037739999999999996,
            "count": 1
           },
           {
            "bin_end": 0.045396,
            "bin_start": 0.041568,
            "count": 0
           },
           {
            "bin_end": 0.049224000000000004,
            "bin_start": 0.045396,
            "count": 0
           },
           {
            "bin_end": 0.053052,
            "bin_start": 0.049224000000000004,
            "count": 0
           },
           {
            "bin_end": 0.05688,
            "bin_start": 0.053052,
            "count": 3
           }
          ],
          "max": "0.05688",
          "min": "0.0186",
          "nan_count": 0,
          "unique_count": 5
         }
        },
        {
         "dtype": "float64",
         "name": "concave points_se",
         "stats": {
          "histogram": [
           {
            "bin_end": 0.014118,
            "bin_start": 0.0134,
            "count": 1
           },
           {
            "bin_end": 0.014836,
            "bin_start": 0.014118,
            "count": 0
           },
           {
            "bin_end": 0.015554000000000002,
            "bin_start": 0.014836,
            "count": 0
           },
           {
            "bin_end": 0.016272000000000002,
            "bin_start": 0.015554000000000002,
            "count": 1
           },
           {
            "bin_end": 0.01699,
            "bin_start": 0.016272000000000002,
            "count": 0
           },
           {
            "bin_end": 0.017708,
            "bin_start": 0.01699,
            "count": 0
           },
           {
            "bin_end": 0.018426,
            "bin_start": 0.017708,
            "count": 0
           },
           {
            "bin_end": 0.019144,
            "bin_start": 0.018426,
            "count": 2
           },
           {
            "bin_end": 0.019862,
            "bin_start": 0.019144,
            "count": 0
           },
           {
            "bin_end": 0.02058,
            "bin_start": 0.019862,
            "count": 1
           }
          ],
          "max": "0.02058",
          "min": "0.0134",
          "nan_count": 0,
          "unique_count": 5
         }
        },
        {
         "dtype": "float64",
         "name": "symmetry_se",
         "stats": {
          "histogram": [
           {
            "bin_end": 0.018464,
            "bin_start": 0.01389,
            "count": 2
           },
           {
            "bin_end": 0.023038,
            "bin_start": 0.018464,
            "count": 1
           },
           {
            "bin_end": 0.027611999999999998,
            "bin_start": 0.023038,
            "count": 0
           },
           {
            "bin_end": 0.032186,
            "bin_start": 0.027611999999999998,
            "count": 1
           },
           {
            "bin_end": 0.03676,
            "bin_start": 0.032186,
            "count": 0
           },
           {
            "bin_end": 0.041333999999999996,
            "bin_start": 0.03676,
            "count": 0
           },
           {
            "bin_end": 0.045908,
            "bin_start": 0.041333999999999996,
            "count": 0
           },
           {
            "bin_end": 0.050482,
            "bin_start": 0.045908,
            "count": 0
           },
           {
            "bin_end": 0.055056,
            "bin_start": 0.050482,
            "count": 0
           },
           {
            "bin_end": 0.05963,
            "bin_start": 0.055056,
            "count": 1
           }
          ],
          "max": "0.05963",
          "min": "0.01389",
          "nan_count": 0,
          "unique_count": 5
         }
        },
        {
         "dtype": "float64",
         "name": "fractal_dimension_se",
         "stats": {
          "histogram": [
           {
            "bin_end": 0.0040996,
            "bin_start": 0.003532,
            "count": 1
           },
           {
            "bin_end": 0.0046672,
            "bin_start": 0.0040996,
            "count": 1
           },
           {
            "bin_end": 0.0052347999999999995,
            "bin_start": 0.0046672,
            "count": 1
           },
           {
            "bin_end": 0.005802399999999999,
            "bin_start": 0.0052347999999999995,
            "count": 0
           },
           {
            "bin_end": 0.006369999999999999,
            "bin_start": 0.005802399999999999,
            "count": 1
           },
           {
            "bin_end": 0.0069375999999999995,
            "bin_start": 0.006369999999999999,
            "count": 0
           },
           {
            "bin_end": 0.0075052,
            "bin_start": 0.0069375999999999995,
            "count": 0
           },
           {
            "bin_end": 0.0080728,
            "bin_start": 0.0075052,
            "count": 0
           },
           {
            "bin_end": 0.0086404,
            "bin_start": 0.0080728,
            "count": 0
           },
           {
            "bin_end": 0.009208,
            "bin_start": 0.0086404,
            "count": 1
           }
          ],
          "max": "0.009208",
          "min": "0.003532",
          "nan_count": 0,
          "unique_count": 5
         }
        },
        {
         "dtype": "float64",
         "name": "radius_worst",
         "stats": {
          "histogram": [
           {
            "bin_end": 15.957,
            "bin_start": 14.91,
            "count": 1
           },
           {
            "bin_end": 17.004,
            "bin_start": 15.957,
            "count": 0
           },
           {
            "bin_end": 18.051000000000002,
            "bin_start": 17.004,
            "count": 0
           },
           {
            "bin_end": 19.098,
            "bin_start": 18.051000000000002,
            "count": 0
           },
           {
            "bin_end": 20.145,
            "bin_start": 19.098,
            "count": 0
           },
           {
            "bin_end": 21.192,
            "bin_start": 20.145,
            "count": 0
           },
           {
            "bin_end": 22.239,
            "bin_start": 21.192,
            "count": 0
           },
           {
            "bin_end": 23.286,
            "bin_start": 22.239,
            "count": 1
           },
           {
            "bin_end": 24.333,
            "bin_start": 23.286,
            "count": 1
           },
           {
            "bin_end": 25.38,
            "bin_start": 24.333,
            "count": 2
           }
          ],
          "max": "25.38",
          "min": "14.91",
          "nan_count": 0,
          "unique_count": 5
         }
        },
        {
         "dtype": "float64",
         "name": "texture_worst",
         "stats": {
          "histogram": [
           {
            "bin_end": 17.653000000000002,
            "bin_start": 16.67,
            "count": 2
           },
           {
            "bin_end": 18.636000000000003,
            "bin_start": 17.653000000000002,
            "count": 0
           },
           {
            "bin_end": 19.619,
            "bin_start": 18.636000000000003,
            "count": 0
           },
           {
            "bin_end": 20.602,
            "bin_start": 19.619,
            "count": 0
           },
           {
            "bin_end": 21.585,
            "bin_start": 20.602,
            "count": 0
           },
           {
            "bin_end": 22.568,
            "bin_start": 21.585,
            "count": 0
           },
           {
            "bin_end": 23.551000000000002,
            "bin_start": 22.568,
            "count": 1
           },
           {
            "bin_end": 24.534,
            "bin_start": 23.551000000000002,
            "count": 0
           },
           {
            "bin_end": 25.517000000000003,
            "bin_start": 24.534,
            "count": 0
           },
           {
            "bin_end": 26.5,
            "bin_start": 25.517000000000003,
            "count": 2
           }
          ],
          "max": "26.5",
          "min": "16.67",
          "nan_count": 0,
          "unique_count": 5
         }
        },
        {
         "dtype": "float64",
         "name": "perimeter_worst",
         "stats": {
          "histogram": [
           {
            "bin_end": 107.443,
            "bin_start": 98.87,
            "count": 1
           },
           {
            "bin_end": 116.016,
            "bin_start": 107.443,
            "count": 0
           },
           {
            "bin_end": 124.589,
            "bin_start": 116.016,
            "count": 0
           },
           {
            "bin_end": 133.162,
            "bin_start": 124.589,
            "count": 0
           },
           {
            "bin_end": 141.735,
            "bin_start": 133.162,
            "count": 0
           },
           {
            "bin_end": 150.308,
            "bin_start": 141.735,
            "count": 0
           },
           {
            "bin_end": 158.881,
            "bin_start": 150.308,
            "count": 3
           },
           {
            "bin_end": 167.454,
            "bin_start": 158.881,
            "count": 0
           },
           {
            "bin_end": 176.027,
            "bin_start": 167.454,
            "count": 0
           },
           {
            "bin_end": 184.6,
            "bin_start": 176.027,
            "count": 1
           }
          ],
          "max": "184.6",
          "min": "98.87",
          "nan_count": 0,
          "unique_count": 5
         }
        },
        {
         "dtype": "float64",
         "name": "area_worst",
         "stats": {
          "histogram": [
           {
            "bin_end": 712.83,
            "bin_start": 567.7,
            "count": 1
           },
           {
            "bin_end": 857.96,
            "bin_start": 712.83,
            "count": 0
           },
           {
            "bin_end": 1003.09,
            "bin_start": 857.96,
            "count": 0
           },
           {
            "bin_end": 1148.22,
            "bin_start": 1003.09,
            "count": 0
           },
           {
            "bin_end": 1293.35,
            "bin_start": 1148.22,
            "count": 0
           },
           {
            "bin_end": 1438.48,
            "bin_start": 1293.35,
            "count": 0
           },
           {
            "bin_end": 1583.6100000000001,
            "bin_start": 1438.48,
            "count": 1
           },
           {
            "bin_end": 1728.74,
            "bin_start": 1583.6100000000001,
            "count": 1
           },
           {
            "bin_end": 1873.8700000000001,
            "bin_start": 1728.74,
            "count": 0
           },
           {
            "bin_end": 2019,
            "bin_start": 1873.8700000000001,
            "count": 2
           }
          ],
          "max": "2019.0",
          "min": "567.7",
          "nan_count": 0,
          "unique_count": 5
         }
        },
        {
         "dtype": "float64",
         "name": "smoothness_worst",
         "stats": {
          "histogram": [
           {
            "bin_end": 0.1324,
            "bin_start": 0.1238,
            "count": 1
           },
           {
            "bin_end": 0.141,
            "bin_start": 0.1324,
            "count": 1
           },
           {
            "bin_end": 0.14959999999999998,
            "bin_start": 0.141,
            "count": 1
           },
           {
            "bin_end": 0.1582,
            "bin_start": 0.14959999999999998,
            "count": 0
           },
           {
            "bin_end": 0.1668,
            "bin_start": 0.1582,
            "count": 1
           },
           {
            "bin_end": 0.1754,
            "bin_start": 0.1668,
            "count": 0
           },
           {
            "bin_end": 0.184,
            "bin_start": 0.1754,
            "count": 0
           },
           {
            "bin_end": 0.1926,
            "bin_start": 0.184,
            "count": 0
           },
           {
            "bin_end": 0.2012,
            "bin_start": 0.1926,
            "count": 0
           },
           {
            "bin_end": 0.2098,
            "bin_start": 0.2012,
            "count": 1
           }
          ],
          "max": "0.2098",
          "min": "0.1238",
          "nan_count": 0,
          "unique_count": 5
         }
        },
        {
         "dtype": "float64",
         "name": "compactness_worst",
         "stats": {
          "histogram": [
           {
            "bin_end": 0.25456999999999996,
            "bin_start": 0.1866,
            "count": 2
           },
           {
            "bin_end": 0.32254,
            "bin_start": 0.25456999999999996,
            "count": 0
           },
           {
            "bin_end": 0.39051,
            "bin_start": 0.32254,
            "count": 0
           },
           {
            "bin_end": 0.45848,
            "bin_start": 0.39051,
            "count": 1
           },
           {
            "bin_end": 0.52645,
            "bin_start": 0.45848,
            "count": 0
           },
           {
            "bin_end": 0.59442,
            "bin_start": 0.52645,
            "count": 0
           },
           {
            "bin_end": 0.66239,
            "bin_start": 0.59442,
            "count": 0
           },
           {
            "bin_end": 0.73036,
            "bin_start": 0.66239,
            "count": 1
           },
           {
            "bin_end": 0.79833,
            "bin_start": 0.73036,
            "count": 0
           },
           {
            "bin_end": 0.8663,
            "bin_start": 0.79833,
            "count": 1
           }
          ],
          "max": "0.8663",
          "min": "0.1866",
          "nan_count": 0,
          "unique_count": 5
         }
        },
        {
         "dtype": "float64",
         "name": "concavity_worst",
         "stats": {
          "histogram": [
           {
            "bin_end": 0.28863,
            "bin_start": 0.2416,
            "count": 1
           },
           {
            "bin_end": 0.33566,
            "bin_start": 0.28863,
            "count": 0
           },
           {
            "bin_end": 0.38269,
            "bin_start": 0.33566,
            "count": 0
           },
           {
            "bin_end": 0.42972,
            "bin_start": 0.38269,
            "count": 1
           },
           {
            "bin_end": 0.47675,
            "bin_start": 0.42972,
            "count": 1
           },
           {
            "bin_end": 0.52378,
            "bin_start": 0.47675,
            "count": 0
           },
           {
            "bin_end": 0.5708099999999999,
            "bin_start": 0.52378,
            "count": 0
           },
           {
            "bin_end": 0.61784,
            "bin_start": 0.5708099999999999,
            "count": 0
           },
           {
            "bin_end": 0.66487,
            "bin_start": 0.61784,
            "count": 0
           },
           {
            "bin_end": 0.7119,
            "bin_start": 0.66487,
            "count": 2
           }
          ],
          "max": "0.7119",
          "min": "0.2416",
          "nan_count": 0,
          "unique_count": 5
         }
        },
        {
         "dtype": "float64",
         "name": "concave points_worst",
         "stats": {
          "histogram": [
           {
            "bin_end": 0.17279,
            "bin_start": 0.1625,
            "count": 1
           },
           {
            "bin_end": 0.18308000000000002,
            "bin_start": 0.17279,
            "count": 0
           },
           {
            "bin_end": 0.19337000000000001,
            "bin_start": 0.18308000000000002,
            "count": 1
           },
           {
            "bin_end": 0.20366,
            "bin_start": 0.19337000000000001,
            "count": 0
           },
           {
            "bin_end": 0.21395000000000003,
            "bin_start": 0.20366,
            "count": 0
           },
           {
            "bin_end": 0.22424000000000002,
            "bin_start": 0.21395000000000003,
            "count": 0
           },
           {
            "bin_end": 0.23453000000000002,
            "bin_start": 0.22424000000000002,
            "count": 0
           },
           {
            "bin_end": 0.24482000000000004,
            "bin_start": 0.23453000000000002,
            "count": 1
           },
           {
            "bin_end": 0.25511000000000006,
            "bin_start": 0.24482000000000004,
            "count": 0
           },
           {
            "bin_end": 0.2654,
            "bin_start": 0.25511000000000006,
            "count": 2
           }
          ],
          "max": "0.2654",
          "min": "0.1625",
          "nan_count": 0,
          "unique_count": 5
         }
        },
        {
         "dtype": "float64",
         "name": "symmetry_worst",
         "stats": {
          "histogram": [
           {
            "bin_end": 0.27914,
            "bin_start": 0.2364,
            "count": 2
           },
           {
            "bin_end": 0.32188,
            "bin_start": 0.27914,
            "count": 0
           },
           {
            "bin_end": 0.36461999999999994,
            "bin_start": 0.32188,
            "count": 1
           },
           {
            "bin_end": 0.40735999999999994,
            "bin_start": 0.36461999999999994,
            "count": 0
           },
           {
            "bin_end": 0.45009999999999994,
            "bin_start": 0.40735999999999994,
            "count": 0
           },
           {
            "bin_end": 0.49283999999999994,
            "bin_start": 0.45009999999999994,
            "count": 1
           },
           {
            "bin_end": 0.53558,
            "bin_start": 0.49283999999999994,
            "count": 0
           },
           {
            "bin_end": 0.57832,
            "bin_start": 0.53558,
            "count": 0
           },
           {
            "bin_end": 0.62106,
            "bin_start": 0.57832,
            "count": 0
           },
           {
            "bin_end": 0.6638,
            "bin_start": 0.62106,
            "count": 1
           }
          ],
          "max": "0.6638",
          "min": "0.2364",
          "nan_count": 0,
          "unique_count": 5
         }
        },
        {
         "dtype": "float64",
         "name": "fractal_dimension_worst",
         "stats": {
          "histogram": [
           {
            "bin_end": 0.086402,
            "bin_start": 0.07678,
            "count": 1
           },
           {
            "bin_end": 0.096024,
            "bin_start": 0.086402,
            "count": 2
           },
           {
            "bin_end": 0.10564599999999999,
            "bin_start": 0.096024,
            "count": 0
           },
           {
            "bin_end": 0.115268,
            "bin_start": 0.10564599999999999,
            "count": 0
           },
           {
            "bin_end": 0.12489,
            "bin_start": 0.115268,
            "count": 1
           },
           {
            "bin_end": 0.134512,
            "bin_start": 0.12489,
            "count": 0
           },
           {
            "bin_end": 0.14413399999999998,
            "bin_start": 0.134512,
            "count": 0
           },
           {
            "bin_end": 0.153756,
            "bin_start": 0.14413399999999998,
            "count": 0
           },
           {
            "bin_end": 0.16337799999999997,
            "bin_start": 0.153756,
            "count": 0
           },
           {
            "bin_end": 0.173,
            "bin_start": 0.16337799999999997,
            "count": 1
           }
          ],
          "max": "0.173",
          "min": "0.07678",
          "nan_count": 0,
          "unique_count": 5
         }
        },
        {
         "dtype": "int64",
         "name": "_deepnote_index_column"
        }
       ],
       "row_count": 5,
       "rows": [
        {
         "Radius_mean": "17.99",
         "Texture_mean": "10.38",
         "_deepnote_index_column": "0",
         "area_mean": "1001.0",
         "area_se": "153.4",
         "area_worst": "2019.0",
         "compactness_mean": "0.2776",
         "compactness_se": "0.04904",
         "compactness_worst": "0.6656",
         "concave points_mean": "0.1471",
         "concave points_se": "0.01587",
         "concave points_worst": "0.2654",
         "concavity_mean": "0.3001",
         "concavity_se": "0.05373",
         "concavity_worst": "0.7119",
         "diagnosis": "M",
         "fractal_dimension_mean": "0.07871",
         "fractal_dimension_se": "0.006193",
         "fractal_dimension_worst": "0.1189",
         "id": "842302",
         "perimeter_mean": "122.8",
         "perimeter_se": "8.589",
         "perimeter_worst": "184.6",
         "radius_se": "1.095",
         "radius_worst": "25.38",
         "smoothness_mean": "0.1184",
         "smoothness_se": "0.006399",
         "smoothness_worst": "0.1622",
         "symmetry_mean": "0.2419",
         "symmetry_se": "0.03003",
         "symmetry_worst": "0.4601",
         "texture_se": "0.9053",
         "texture_worst": "17.33"
        },
        {
         "Radius_mean": "20.57",
         "Texture_mean": "21.77",
         "_deepnote_index_column": "1",
         "area_mean": "1326.0",
         "area_se": "74.08",
         "area_worst": "1956.0",
         "compactness_mean": "0.07864",
         "compactness_se": "0.01308",
         "compactness_worst": "0.1866",
         "concave points_mean": "0.07017",
         "concave points_se": "0.0134",
         "concave points_worst": "0.186",
         "concavity_mean": "0.0869",
         "concavity_se": "0.0186",
         "concavity_worst": "0.2416",
         "diagnosis": "M",
         "fractal_dimension_mean": "0.05667",
         "fractal_dimension_se": "0.003532",
         "fractal_dimension_worst": "0.08902",
         "id": "842517",
         "perimeter_mean": "132.9",
         "perimeter_se": "3.398",
         "perimeter_worst": "158.8",
         "radius_se": "0.5435",
         "radius_worst": "24.99",
         "smoothness_mean": "0.08474",
         "smoothness_se": "0.005225",
         "smoothness_worst": "0.1238",
         "symmetry_mean": "0.1812",
         "symmetry_se": "0.01389",
         "symmetry_worst": "0.275",
         "texture_se": "0.7339",
         "texture_worst": "23.41"
        },
        {
         "Radius_mean": "19.69",
         "Texture_mean": "21.25",
         "_deepnote_index_column": "2",
         "area_mean": "1203.0",
         "area_se": "94.03",
         "area_worst": "1709.0",
         "compactness_mean": "0.1599",
         "compactness_se": "0.04006",
         "compactness_worst": "0.4245",
         "concave points_mean": "0.1279",
         "concave points_se": "0.02058",
         "concave points_worst": "0.243",
         "concavity_mean": "0.1974",
         "concavity_se": "0.03832",
         "concavity_worst": "0.4504",
         "diagnosis": "M",
         "fractal_dimension_mean": "0.05999",
         "fractal_dimension_se": "0.004571",
         "fractal_dimension_worst": "0.08758",
         "id": "84300903",
         "perimeter_mean": "130.0",
         "perimeter_se": "4.585",
         "perimeter_worst": "152.5",
         "radius_se": "0.7456",
         "radius_worst": "23.57",
         "smoothness_mean": "0.1096",
         "smoothness_se": "0.00615",
         "smoothness_worst": "0.1444",
         "symmetry_mean": "0.2069",
         "symmetry_se": "0.0225",
         "symmetry_worst": "0.3613",
         "texture_se": "0.7869",
         "texture_worst": "25.53"
        },
        {
         "Radius_mean": "11.42",
         "Texture_mean": "20.38",
         "_deepnote_index_column": "3",
         "area_mean": "386.1",
         "area_se": "27.23",
         "area_worst": "567.7",
         "compactness_mean": "0.2839",
         "compactness_se": "0.07458",
         "compactness_worst": "0.8663",
         "concave points_mean": "0.1052",
         "concave points_se": "0.01867",
         "concave points_worst": "0.2575",
         "concavity_mean": "0.2414",
         "concavity_se": "0.05661",
         "concavity_worst": "0.6869",
         "diagnosis": "M",
         "fractal_dimension_mean": "0.09744",
         "fractal_dimension_se": "0.009208",
         "fractal_dimension_worst": "0.173",
         "id": "84348301",
         "perimeter_mean": "77.58",
         "perimeter_se": "3.445",
         "perimeter_worst": "98.87",
         "radius_se": "0.4956",
         "radius_worst": "14.91",
         "smoothness_mean": "0.1425",
         "smoothness_se": "0.00911",
         "smoothness_worst": "0.2098",
         "symmetry_mean": "0.2597",
         "symmetry_se": "0.05963",
         "symmetry_worst": "0.6638",
         "texture_se": "1.156",
         "texture_worst": "26.5"
        },
        {
         "Radius_mean": "20.29",
         "Texture_mean": "14.34",
         "_deepnote_index_column": "4",
         "area_mean": "1297.0",
         "area_se": "94.44",
         "area_worst": "1575.0",
         "compactness_mean": "0.1328",
         "compactness_se": "0.02461",
         "compactness_worst": "0.205",
         "concave points_mean": "0.1043",
         "concave points_se": "0.01885",
         "concave points_worst": "0.1625",
         "concavity_mean": "0.198",
         "concavity_se": "0.05688",
         "concavity_worst": "0.4",
         "diagnosis": "M",
         "fractal_dimension_mean": "0.05883",
         "fractal_dimension_se": "0.005115",
         "fractal_dimension_worst": "0.07678",
         "id": "84358402",
         "perimeter_mean": "135.1",
         "perimeter_se": "5.438",
         "perimeter_worst": "152.2",
         "radius_se": "0.7572",
         "radius_worst": "22.54",
         "smoothness_mean": "0.1003",
         "smoothness_se": "0.01149",
         "smoothness_worst": "0.1374",
         "symmetry_mean": "0.1809",
         "symmetry_se": "0.01756",
         "symmetry_worst": "0.2364",
         "texture_se": "0.7813",
         "texture_worst": "16.67"
        }
       ]
      },
      "text/html": [
       "<div>\n",
       "<style scoped>\n",
       "    .dataframe tbody tr th:only-of-type {\n",
       "        vertical-align: middle;\n",
       "    }\n",
       "\n",
       "    .dataframe tbody tr th {\n",
       "        vertical-align: top;\n",
       "    }\n",
       "\n",
       "    .dataframe thead th {\n",
       "        text-align: right;\n",
       "    }\n",
       "</style>\n",
       "<table border=\"1\" class=\"dataframe\">\n",
       "  <thead>\n",
       "    <tr style=\"text-align: right;\">\n",
       "      <th></th>\n",
       "      <th>id</th>\n",
       "      <th>diagnosis</th>\n",
       "      <th>Radius_mean</th>\n",
       "      <th>Texture_mean</th>\n",
       "      <th>perimeter_mean</th>\n",
       "      <th>area_mean</th>\n",
       "      <th>smoothness_mean</th>\n",
       "      <th>compactness_mean</th>\n",
       "      <th>concavity_mean</th>\n",
       "      <th>concave points_mean</th>\n",
       "      <th>...</th>\n",
       "      <th>radius_worst</th>\n",
       "      <th>texture_worst</th>\n",
       "      <th>perimeter_worst</th>\n",
       "      <th>area_worst</th>\n",
       "      <th>smoothness_worst</th>\n",
       "      <th>compactness_worst</th>\n",
       "      <th>concavity_worst</th>\n",
       "      <th>concave points_worst</th>\n",
       "      <th>symmetry_worst</th>\n",
       "      <th>fractal_dimension_worst</th>\n",
       "    </tr>\n",
       "  </thead>\n",
       "  <tbody>\n",
       "    <tr>\n",
       "      <th>0</th>\n",
       "      <td>842302</td>\n",
       "      <td>M</td>\n",
       "      <td>17.99</td>\n",
       "      <td>10.38</td>\n",
       "      <td>122.80</td>\n",
       "      <td>1001.0</td>\n",
       "      <td>0.11840</td>\n",
       "      <td>0.27760</td>\n",
       "      <td>0.3001</td>\n",
       "      <td>0.14710</td>\n",
       "      <td>...</td>\n",
       "      <td>25.38</td>\n",
       "      <td>17.33</td>\n",
       "      <td>184.60</td>\n",
       "      <td>2019.0</td>\n",
       "      <td>0.1622</td>\n",
       "      <td>0.6656</td>\n",
       "      <td>0.7119</td>\n",
       "      <td>0.2654</td>\n",
       "      <td>0.4601</td>\n",
       "      <td>0.11890</td>\n",
       "    </tr>\n",
       "    <tr>\n",
       "      <th>1</th>\n",
       "      <td>842517</td>\n",
       "      <td>M</td>\n",
       "      <td>20.57</td>\n",
       "      <td>21.77</td>\n",
       "      <td>132.90</td>\n",
       "      <td>1326.0</td>\n",
       "      <td>0.08474</td>\n",
       "      <td>0.07864</td>\n",
       "      <td>0.0869</td>\n",
       "      <td>0.07017</td>\n",
       "      <td>...</td>\n",
       "      <td>24.99</td>\n",
       "      <td>23.41</td>\n",
       "      <td>158.80</td>\n",
       "      <td>1956.0</td>\n",
       "      <td>0.1238</td>\n",
       "      <td>0.1866</td>\n",
       "      <td>0.2416</td>\n",
       "      <td>0.1860</td>\n",
       "      <td>0.2750</td>\n",
       "      <td>0.08902</td>\n",
       "    </tr>\n",
       "    <tr>\n",
       "      <th>2</th>\n",
       "      <td>84300903</td>\n",
       "      <td>M</td>\n",
       "      <td>19.69</td>\n",
       "      <td>21.25</td>\n",
       "      <td>130.00</td>\n",
       "      <td>1203.0</td>\n",
       "      <td>0.10960</td>\n",
       "      <td>0.15990</td>\n",
       "      <td>0.1974</td>\n",
       "      <td>0.12790</td>\n",
       "      <td>...</td>\n",
       "      <td>23.57</td>\n",
       "      <td>25.53</td>\n",
       "      <td>152.50</td>\n",
       "      <td>1709.0</td>\n",
       "      <td>0.1444</td>\n",
       "      <td>0.4245</td>\n",
       "      <td>0.4504</td>\n",
       "      <td>0.2430</td>\n",
       "      <td>0.3613</td>\n",
       "      <td>0.08758</td>\n",
       "    </tr>\n",
       "    <tr>\n",
       "      <th>3</th>\n",
       "      <td>84348301</td>\n",
       "      <td>M</td>\n",
       "      <td>11.42</td>\n",
       "      <td>20.38</td>\n",
       "      <td>77.58</td>\n",
       "      <td>386.1</td>\n",
       "      <td>0.14250</td>\n",
       "      <td>0.28390</td>\n",
       "      <td>0.2414</td>\n",
       "      <td>0.10520</td>\n",
       "      <td>...</td>\n",
       "      <td>14.91</td>\n",
       "      <td>26.50</td>\n",
       "      <td>98.87</td>\n",
       "      <td>567.7</td>\n",
       "      <td>0.2098</td>\n",
       "      <td>0.8663</td>\n",
       "      <td>0.6869</td>\n",
       "      <td>0.2575</td>\n",
       "      <td>0.6638</td>\n",
       "      <td>0.17300</td>\n",
       "    </tr>\n",
       "    <tr>\n",
       "      <th>4</th>\n",
       "      <td>84358402</td>\n",
       "      <td>M</td>\n",
       "      <td>20.29</td>\n",
       "      <td>14.34</td>\n",
       "      <td>135.10</td>\n",
       "      <td>1297.0</td>\n",
       "      <td>0.10030</td>\n",
       "      <td>0.13280</td>\n",
       "      <td>0.1980</td>\n",
       "      <td>0.10430</td>\n",
       "      <td>...</td>\n",
       "      <td>22.54</td>\n",
       "      <td>16.67</td>\n",
       "      <td>152.20</td>\n",
       "      <td>1575.0</td>\n",
       "      <td>0.1374</td>\n",
       "      <td>0.2050</td>\n",
       "      <td>0.4000</td>\n",
       "      <td>0.1625</td>\n",
       "      <td>0.2364</td>\n",
       "      <td>0.07678</td>\n",
       "    </tr>\n",
       "  </tbody>\n",
       "</table>\n",
       "<p>5 rows × 32 columns</p>\n",
       "</div>"
      ],
      "text/plain": [
       "         id diagnosis  Radius_mean  Texture_mean  perimeter_mean  area_mean  \\\n",
       "0    842302         M        17.99         10.38          122.80     1001.0   \n",
       "1    842517         M        20.57         21.77          132.90     1326.0   \n",
       "2  84300903         M        19.69         21.25          130.00     1203.0   \n",
       "3  84348301         M        11.42         20.38           77.58      386.1   \n",
       "4  84358402         M        20.29         14.34          135.10     1297.0   \n",
       "\n",
       "   smoothness_mean  compactness_mean  concavity_mean  concave points_mean  \\\n",
       "0          0.11840           0.27760          0.3001              0.14710   \n",
       "1          0.08474           0.07864          0.0869              0.07017   \n",
       "2          0.10960           0.15990          0.1974              0.12790   \n",
       "3          0.14250           0.28390          0.2414              0.10520   \n",
       "4          0.10030           0.13280          0.1980              0.10430   \n",
       "\n",
       "   ...  radius_worst  texture_worst  perimeter_worst  area_worst  \\\n",
       "0  ...         25.38          17.33           184.60      2019.0   \n",
       "1  ...         24.99          23.41           158.80      1956.0   \n",
       "2  ...         23.57          25.53           152.50      1709.0   \n",
       "3  ...         14.91          26.50            98.87       567.7   \n",
       "4  ...         22.54          16.67           152.20      1575.0   \n",
       "\n",
       "   smoothness_worst  compactness_worst  concavity_worst  concave points_worst  \\\n",
       "0            0.1622             0.6656           0.7119                0.2654   \n",
       "1            0.1238             0.1866           0.2416                0.1860   \n",
       "2            0.1444             0.4245           0.4504                0.2430   \n",
       "3            0.2098             0.8663           0.6869                0.2575   \n",
       "4            0.1374             0.2050           0.4000                0.1625   \n",
       "\n",
       "   symmetry_worst  fractal_dimension_worst  \n",
       "0          0.4601                  0.11890  \n",
       "1          0.2750                  0.08902  \n",
       "2          0.3613                  0.08758  \n",
       "3          0.6638                  0.17300  \n",
       "4          0.2364                  0.07678  \n",
       "\n",
       "[5 rows x 32 columns]"
      ]
     },
     "execution_count": 1,
     "metadata": {},
     "output_type": "execute_result"
    }
   ],
   "source": [
    "import pandas as pd\n",
    "\n",
    "file = 'data.csv'\n",
    "\n",
    "data = pd.read_csv(file)\n",
    "data.head()"
   ]
  },
  {
   "cell_type": "markdown",
   "metadata": {
    "cell_id": "ace834a774614fb781079d5832e7643d",
    "deepnote_cell_type": "text-cell-h3",
    "formattedRanges": [],
    "is_collapsed": false,
    "tags": []
   },
   "source": [
    "### Data dimensions "
   ]
  },
  {
   "cell_type": "code",
   "execution_count": null,
   "metadata": {
    "cell_id": "bb49d9d61d074d41a4f629f8eb310278",
    "deepnote_cell_type": "code",
    "deepnote_to_be_reexecuted": false,
    "execution_millis": 19,
    "execution_start": 1670398524798,
    "source_hash": "34874a77",
    "tags": []
   },
   "outputs": [
    {
     "name": "stdout",
     "output_type": "stream",
     "text": [
      "The number of features is 32\n",
      "The number of samples is 569\n"
     ]
    }
   ],
   "source": [
    "print(f'The number of features is {data.shape[1]}')\n",
    "print(f'The number of samples is {data.shape[0]}')"
   ]
  },
  {
   "cell_type": "markdown",
   "metadata": {
    "cell_id": "3ba8107f22ba4f77a3e45da6c354c0ba",
    "deepnote_cell_type": "text-cell-h3",
    "formattedRanges": [],
    "is_collapsed": false,
    "tags": []
   },
   "source": [
    "### Data features "
   ]
  },
  {
   "cell_type": "code",
   "execution_count": null,
   "metadata": {
    "cell_id": "ccaf8dd83c1a42dfbf76f9c0d66752ae",
    "deepnote_cell_type": "code",
    "deepnote_to_be_reexecuted": false,
    "execution_millis": 8,
    "execution_start": 1670398524809,
    "source_hash": "c8a8c27a",
    "tags": []
   },
   "outputs": [
    {
     "data": {
      "text/plain": [
       "Index(['id', 'diagnosis', 'Radius_mean', 'Texture_mean', 'perimeter_mean',\n",
       "       'area_mean', 'smoothness_mean', 'compactness_mean', 'concavity_mean',\n",
       "       'concave points_mean', 'symmetry_mean', 'fractal_dimension_mean',\n",
       "       'radius_se', 'texture_se', 'perimeter_se', 'area_se', 'smoothness_se',\n",
       "       'compactness_se', 'concavity_se', 'concave points_se', 'symmetry_se',\n",
       "       'fractal_dimension_se', 'radius_worst', 'texture_worst',\n",
       "       'perimeter_worst', 'area_worst', 'smoothness_worst',\n",
       "       'compactness_worst', 'concavity_worst', 'concave points_worst',\n",
       "       'symmetry_worst', 'fractal_dimension_worst'],\n",
       "      dtype='object')"
      ]
     },
     "execution_count": 3,
     "metadata": {},
     "output_type": "execute_result"
    }
   ],
   "source": [
    "data.columns"
   ]
  },
  {
   "cell_type": "markdown",
   "metadata": {
    "cell_id": "27c2e8975e5d4ea0b495a5853c9ac65a",
    "deepnote_cell_type": "markdown",
    "tags": []
   },
   "source": [
    "<h4 style=\"color: red;\">Notice:"
   ]
  },
  {
   "cell_type": "markdown",
   "metadata": {
    "cell_id": "95da19ce9c404b22b0b65b06f0e924bc",
    "deepnote_cell_type": "text-cell-bullet",
    "formattedRanges": [
     {
      "fromCodePoint": 44,
      "marks": {
       "bold": true
      },
      "toCodePoint": 48,
      "type": "marks"
     }
    ],
    "is_collapsed": false,
    "tags": []
   },
   "source": [
    "- We can notice that we have a feature called id, which is not important in our study so we will remove it soon."
   ]
  },
  {
   "cell_type": "markdown",
   "metadata": {
    "cell_id": "d0268e5b-6250-4171-8bf9-d55a838ef9d2",
    "deepnote_cell_type": "text-cell-bullet",
    "formattedRanges": [
     {
      "fromCodePoint": 0,
      "marks": {
       "bold": true
      },
      "toCodePoint": 9,
      "type": "marks"
     },
     {
      "fromCodePoint": 15,
      "marks": {
       "bold": true
      },
      "toCodePoint": 27,
      "type": "marks"
     }
    ],
    "is_collapsed": false,
    "tags": []
   },
   "source": [
    "- Diagnosis is a categorical variable."
   ]
  },
  {
   "cell_type": "markdown",
   "metadata": {
    "cell_id": "8b298288b71d42b89eec428f8d184e06",
    "deepnote_cell_type": "text-cell-h3",
    "formattedRanges": [],
    "is_collapsed": false,
    "tags": []
   },
   "source": [
    "### Data information "
   ]
  },
  {
   "cell_type": "code",
   "execution_count": null,
   "metadata": {
    "cell_id": "3e80e47a74484a7380a0e7ffc3dc400d",
    "deepnote_cell_type": "code",
    "deepnote_to_be_reexecuted": false,
    "execution_millis": 18,
    "execution_start": 1670398524819,
    "source_hash": "957547ae",
    "tags": []
   },
   "outputs": [
    {
     "name": "stdout",
     "output_type": "stream",
     "text": [
      "<class 'pandas.core.frame.DataFrame'>\n",
      "RangeIndex: 569 entries, 0 to 568\n",
      "Data columns (total 32 columns):\n",
      " #   Column                   Non-Null Count  Dtype  \n",
      "---  ------                   --------------  -----  \n",
      " 0   id                       569 non-null    int64  \n",
      " 1   diagnosis                569 non-null    object \n",
      " 2   Radius_mean              569 non-null    float64\n",
      " 3   Texture_mean             569 non-null    float64\n",
      " 4   perimeter_mean           569 non-null    float64\n",
      " 5   area_mean                569 non-null    float64\n",
      " 6   smoothness_mean          569 non-null    float64\n",
      " 7   compactness_mean         569 non-null    float64\n",
      " 8   concavity_mean           569 non-null    float64\n",
      " 9   concave points_mean      569 non-null    float64\n",
      " 10  symmetry_mean            569 non-null    float64\n",
      " 11  fractal_dimension_mean   569 non-null    float64\n",
      " 12  radius_se                569 non-null    float64\n",
      " 13  texture_se               569 non-null    float64\n",
      " 14  perimeter_se             569 non-null    float64\n",
      " 15  area_se                  569 non-null    float64\n",
      " 16  smoothness_se            569 non-null    float64\n",
      " 17  compactness_se           569 non-null    float64\n",
      " 18  concavity_se             569 non-null    float64\n",
      " 19  concave points_se        569 non-null    float64\n",
      " 20  symmetry_se              569 non-null    float64\n",
      " 21  fractal_dimension_se     569 non-null    float64\n",
      " 22  radius_worst             569 non-null    float64\n",
      " 23  texture_worst            569 non-null    float64\n",
      " 24  perimeter_worst          569 non-null    float64\n",
      " 25  area_worst               569 non-null    float64\n",
      " 26  smoothness_worst         569 non-null    float64\n",
      " 27  compactness_worst        569 non-null    float64\n",
      " 28  concavity_worst          569 non-null    float64\n",
      " 29  concave points_worst     569 non-null    float64\n",
      " 30  symmetry_worst           569 non-null    float64\n",
      " 31  fractal_dimension_worst  569 non-null    float64\n",
      "dtypes: float64(30), int64(1), object(1)\n",
      "memory usage: 142.4+ KB\n"
     ]
    }
   ],
   "source": [
    "data.info()"
   ]
  },
  {
   "cell_type": "markdown",
   "metadata": {
    "cell_id": "0f35c5d2c3c24e989e6cec4ddfb669ee",
    "deepnote_cell_type": "text-cell-bullet",
    "formattedRanges": [
     {
      "fromCodePoint": 27,
      "marks": {
       "bold": true
      },
      "toCodePoint": 31,
      "type": "marks"
     },
     {
      "fromCodePoint": 62,
      "marks": {
       "bold": true
      },
      "toCodePoint": 75,
      "type": "marks"
     }
    ],
    "is_collapsed": false,
    "tags": []
   },
   "source": [
    "- As we can see, there is no NULL values in our data which is a good news :) "
   ]
  },
  {
   "cell_type": "markdown",
   "metadata": {
    "cell_id": "b24c309b957941199d726fa1ec1ab163",
    "deepnote_cell_type": "text-cell-h3",
    "formattedRanges": [],
    "is_collapsed": false,
    "tags": []
   },
   "source": [
    "### Data statistics "
   ]
  },
  {
   "cell_type": "code",
   "execution_count": null,
   "metadata": {
    "cell_id": "fa8327b0fb04427f93aaec547bbd28af",
    "deepnote_cell_type": "code",
    "deepnote_to_be_reexecuted": false,
    "execution_millis": 323,
    "execution_start": 1670398524844,
    "source_hash": "d786443f",
    "tags": []
   },
   "outputs": [
    {
     "data": {
      "application/vnd.deepnote.dataframe.v3+json": {
       "column_count": 31,
       "columns": [
        {
         "dtype": "float64",
         "name": "id",
         "stats": {
          "histogram": [
           {
            "bin_end": 91132562.3,
            "bin_start": 569,
            "count": 6
           },
           {
            "bin_end": 182264555.6,
            "bin_start": 91132562.3,
            "count": 1
           },
           {
            "bin_end": 273396548.9,
            "bin_start": 182264555.6,
            "count": 0
           },
           {
            "bin_end": 364528542.2,
            "bin_start": 273396548.9,
            "count": 0
           },
           {
            "bin_end": 455660535.5,
            "bin_start": 364528542.2,
            "count": 0
           },
           {
            "bin_end": 546792528.8,
            "bin_start": 455660535.5,
            "count": 0
           },
           {
            "bin_end": 637924522.1,
            "bin_start": 546792528.8,
            "count": 0
           },
           {
            "bin_end": 729056515.4,
            "bin_start": 637924522.1,
            "count": 0
           },
           {
            "bin_end": 820188508.6999999,
            "bin_start": 729056515.4,
            "count": 0
           },
           {
            "bin_end": 911320502,
            "bin_start": 820188508.6999999,
            "count": 1
           }
          ],
          "max": "911320502.0",
          "min": "569.0",
          "nan_count": 0,
          "unique_count": 8
         }
        },
        {
         "dtype": "float64",
         "name": "Radius_mean",
         "stats": {
          "histogram": [
           {
            "bin_end": 60.07164394359088,
            "bin_start": 3.5240488262120775,
            "count": 7
           },
           {
            "bin_end": 116.61923906096968,
            "bin_start": 60.07164394359088,
            "count": 0
           },
           {
            "bin_end": 173.16683417834847,
            "bin_start": 116.61923906096968,
            "count": 0
           },
           {
            "bin_end": 229.71442929572726,
            "bin_start": 173.16683417834847,
            "count": 0
           },
           {
            "bin_end": 286.2620244131061,
            "bin_start": 229.71442929572726,
            "count": 0
           },
           {
            "bin_end": 342.8096195304849,
            "bin_start": 286.2620244131061,
            "count": 0
           },
           {
            "bin_end": 399.35721464786366,
            "bin_start": 342.8096195304849,
            "count": 0
           },
           {
            "bin_end": 455.9048097652425,
            "bin_start": 399.35721464786366,
            "count": 0
           },
           {
            "bin_end": 512.4524048826213,
            "bin_start": 455.9048097652425,
            "count": 0
           },
           {
            "bin_end": 569,
            "bin_start": 512.4524048826213,
            "count": 1
           }
          ],
          "max": "569.0",
          "min": "3.5240488262120775",
          "nan_count": 0,
          "unique_count": 8
         }
        },
        {
         "dtype": "float64",
         "name": "Texture_mean",
         "stats": {
          "histogram": [
           {
            "bin_end": 60.771634796357674,
            "bin_start": 4.30181644039741,
            "count": 7
           },
           {
            "bin_end": 117.24145315231794,
            "bin_start": 60.771634796357674,
            "count": 0
           },
           {
            "bin_end": 173.7112715082782,
            "bin_start": 117.24145315231794,
            "count": 0
           },
           {
            "bin_end": 230.18108986423846,
            "bin_start": 173.7112715082782,
            "count": 0
           },
           {
            "bin_end": 286.65090822019874,
            "bin_start": 230.18108986423846,
            "count": 0
           },
           {
            "bin_end": 343.12072657615903,
            "bin_start": 286.65090822019874,
            "count": 0
           },
           {
            "bin_end": 399.59054493211926,
            "bin_start": 343.12072657615903,
            "count": 0
           },
           {
            "bin_end": 456.06036328807954,
            "bin_start": 399.59054493211926,
            "count": 0
           },
           {
            "bin_end": 512.5301816440398,
            "bin_start": 456.06036328807954,
            "count": 0
           },
           {
            "bin_end": 569,
            "bin_start": 512.5301816440398,
            "count": 1
           }
          ],
          "max": "569.0",
          "min": "4.30181644039741",
          "nan_count": 0,
          "unique_count": 8
         }
        },
        {
         "dtype": "float64",
         "name": "perimeter_mean",
         "stats": {
          "histogram": [
           {
            "bin_end": 78.7690829348794,
            "bin_start": 24.298981038754906,
            "count": 3
           },
           {
            "bin_end": 133.2391848310039,
            "bin_start": 78.7690829348794,
            "count": 3
           },
           {
            "bin_end": 187.70928672712841,
            "bin_start": 133.2391848310039,
            "count": 0
           },
           {
            "bin_end": 242.17938862325292,
            "bin_start": 187.70928672712841,
            "count": 1
           },
           {
            "bin_end": 296.6494905193774,
            "bin_start": 242.17938862325292,
            "count": 0
           },
           {
            "bin_end": 351.1195924155019,
            "bin_start": 296.6494905193774,
            "count": 0
           },
           {
            "bin_end": 405.58969431162643,
            "bin_start": 351.1195924155019,
            "count": 0
           },
           {
            "bin_end": 460.05979620775094,
            "bin_start": 405.58969431162643,
            "count": 0
           },
           {
            "bin_end": 514.5298981038754,
            "bin_start": 460.05979620775094,
            "count": 0
           },
           {
            "bin_end": 569,
            "bin_start": 514.5298981038754,
            "count": 1
           }
          ],
          "max": "569.0",
          "min": "24.298981038754906",
          "nan_count": 0,
          "unique_count": 8
         }
        },
        {
         "dtype": "float64",
         "name": "area_mean",
         "stats": {
          "histogram": [
           {
            "bin_end": 379.25,
            "bin_start": 143.5,
            "count": 2
           },
           {
            "bin_end": 615,
            "bin_start": 379.25,
            "count": 3
           },
           {
            "bin_end": 850.75,
            "bin_start": 615,
            "count": 2
           },
           {
            "bin_end": 1086.5,
            "bin_start": 850.75,
            "count": 0
           },
           {
            "bin_end": 1322.25,
            "bin_start": 1086.5,
            "count": 0
           },
           {
            "bin_end": 1558,
            "bin_start": 1322.25,
            "count": 0
           },
           {
            "bin_end": 1793.75,
            "bin_start": 1558,
            "count": 0
           },
           {
            "bin_end": 2029.5,
            "bin_start": 1793.75,
            "count": 0
           },
           {
            "bin_end": 2265.25,
            "bin_start": 2029.5,
            "count": 0
           },
           {
            "bin_end": 2501,
            "bin_start": 2265.25,
            "count": 1
           }
          ],
          "max": "2501.0",
          "min": "143.5",
          "nan_count": 0,
          "unique_count": 8
         }
        },
        {
         "dtype": "float64",
         "name": "smoothness_mean",
         "stats": {
          "histogram": [
           {
            "bin_end": 56.91265771532391,
            "bin_start": 0.01406412813767362,
            "count": 7
           },
           {
            "bin_end": 113.81125130251014,
            "bin_start": 56.91265771532391,
            "count": 0
           },
           {
            "bin_end": 170.70984488969637,
            "bin_start": 113.81125130251014,
            "count": 0
           },
           {
            "bin_end": 227.6084384768826,
            "bin_start": 170.70984488969637,
            "count": 0
           },
           {
            "bin_end": 284.5070320640688,
            "bin_start": 227.6084384768826,
            "count": 0
           },
           {
            "bin_end": 341.40562565125504,
            "bin_start": 284.5070320640688,
            "count": 0
           },
           {
            "bin_end": 398.3042192384413,
            "bin_start": 341.40562565125504,
            "count": 0
           },
           {
            "bin_end": 455.2028128256275,
            "bin_start": 398.3042192384413,
            "count": 0
           },
           {
            "bin_end": 512.1014064128137,
            "bin_start": 455.2028128256275,
            "count": 0
           },
           {
            "bin_end": 569,
            "bin_start": 512.1014064128137,
            "count": 1
           }
          ],
          "max": "569.0",
          "min": "0.01406412813767362",
          "nan_count": 0,
          "unique_count": 8
         }
        },
        {
         "dtype": "float64",
         "name": "compactness_mean",
         "stats": {
          "histogram": [
           {
            "bin_end": 56.917442,
            "bin_start": 0.01938,
            "count": 7
           },
           {
            "bin_end": 113.815504,
            "bin_start": 56.917442,
            "count": 0
           },
           {
            "bin_end": 170.71356600000001,
            "bin_start": 113.815504,
            "count": 0
           },
           {
            "bin_end": 227.61162800000002,
            "bin_start": 170.71356600000001,
            "count": 0
           },
           {
            "bin_end": 284.50969000000003,
            "bin_start": 227.61162800000002,
            "count": 0
           },
           {
            "bin_end": 341.407752,
            "bin_start": 284.50969000000003,
            "count": 0
           },
           {
            "bin_end": 398.30581400000005,
            "bin_start": 341.407752,
            "count": 0
           },
           {
            "bin_end": 455.20387600000004,
            "bin_start": 398.30581400000005,
            "count": 0
           },
           {
            "bin_end": 512.101938,
            "bin_start": 455.20387600000004,
            "count": 0
           },
           {
            "bin_end": 569,
            "bin_start": 512.101938,
            "count": 1
           }
          ],
          "max": "569.0",
          "min": "0.01938",
          "nan_count": 0,
          "unique_count": 8
         }
        },
        {
         "dtype": "float64",
         "name": "concavity_mean",
         "stats": {
          "histogram": [
           {
            "bin_end": 56.9,
            "bin_start": 0,
            "count": 7
           },
           {
            "bin_end": 113.8,
            "bin_start": 56.9,
            "count": 0
           },
           {
            "bin_end": 170.7,
            "bin_start": 113.8,
            "count": 0
           },
           {
            "bin_end": 227.6,
            "bin_start": 170.7,
            "count": 0
           },
           {
            "bin_end": 284.5,
            "bin_start": 227.6,
            "count": 0
           },
           {
            "bin_end": 341.4,
            "bin_start": 284.5,
            "count": 0
           },
           {
            "bin_end": 398.3,
            "bin_start": 341.4,
            "count": 0
           },
           {
            "bin_end": 455.2,
            "bin_start": 398.3,
            "count": 0
           },
           {
            "bin_end": 512.1,
            "bin_start": 455.2,
            "count": 0
           },
           {
            "bin_end": 569,
            "bin_start": 512.1,
            "count": 1
           }
          ],
          "max": "569.0",
          "min": "0.0",
          "nan_count": 0,
          "unique_count": 8
         }
        },
        {
         "dtype": "float64",
         "name": "concave points_mean",
         "stats": {
          "histogram": [
           {
            "bin_end": 56.9,
            "bin_start": 0,
            "count": 7
           },
           {
            "bin_end": 113.8,
            "bin_start": 56.9,
            "count": 0
           },
           {
            "bin_end": 170.7,
            "bin_start": 113.8,
            "count": 0
           },
           {
            "bin_end": 227.6,
            "bin_start": 170.7,
            "count": 0
           },
           {
            "bin_end": 284.5,
            "bin_start": 227.6,
            "count": 0
           },
           {
            "bin_end": 341.4,
            "bin_start": 284.5,
            "count": 0
           },
           {
            "bin_end": 398.3,
            "bin_start": 341.4,
            "count": 0
           },
           {
            "bin_end": 455.2,
            "bin_start": 398.3,
            "count": 0
           },
           {
            "bin_end": 512.1,
            "bin_start": 455.2,
            "count": 0
           },
           {
            "bin_end": 569,
            "bin_start": 512.1,
            "count": 1
           }
          ],
          "max": "569.0",
          "min": "0.0",
          "nan_count": 0,
          "unique_count": 8
         }
        },
        {
         "dtype": "float64",
         "name": "symmetry_mean",
         "stats": {
          "histogram": [
           {
            "bin_end": 56.92467285320243,
            "bin_start": 0.027414281336035715,
            "count": 7
           },
           {
            "bin_end": 113.82193142506883,
            "bin_start": 56.92467285320243,
            "count": 0
           },
           {
            "bin_end": 170.71918999693523,
            "bin_start": 113.82193142506883,
            "count": 0
           },
           {
            "bin_end": 227.61644856880162,
            "bin_start": 170.71918999693523,
            "count": 0
           },
           {
            "bin_end": 284.51370714066803,
            "bin_start": 227.61644856880162,
            "count": 0
           },
           {
            "bin_end": 341.41096571253445,
            "bin_start": 284.51370714066803,
            "count": 0
           },
           {
            "bin_end": 398.3082242844008,
            "bin_start": 341.41096571253445,
            "count": 0
           },
           {
            "bin_end": 455.2054828562672,
            "bin_start": 398.3082242844008,
            "count": 0
           },
           {
            "bin_end": 512.1027414281336,
            "bin_start": 455.2054828562672,
            "count": 0
           },
           {
            "bin_end": 569,
            "bin_start": 512.1027414281336,
            "count": 1
           }
          ],
          "max": "569.0",
          "min": "0.027414281336035715",
          "nan_count": 0,
          "unique_count": 8
         }
        },
        {
         "dtype": "float64",
         "name": "fractal_dimension_mean",
         "stats": {
          "histogram": [
           {
            "bin_end": 56.90635432651558,
            "bin_start": 0.007060362795084459,
            "count": 7
           },
           {
            "bin_end": 113.80564829023608,
            "bin_start": 56.90635432651558,
            "count": 0
           },
           {
            "bin_end": 170.70494225395657,
            "bin_start": 113.80564829023608,
            "count": 0
           },
           {
            "bin_end": 227.60423621767706,
            "bin_start": 170.70494225395657,
            "count": 0
           },
           {
            "bin_end": 284.50353018139754,
            "bin_start": 227.60423621767706,
            "count": 0
           },
           {
            "bin_end": 341.4028241451181,
            "bin_start": 284.50353018139754,
            "count": 0
           },
           {
            "bin_end": 398.30211810883856,
            "bin_start": 341.4028241451181,
            "count": 0
           },
           {
            "bin_end": 455.20141207255904,
            "bin_start": 398.30211810883856,
            "count": 0
           },
           {
            "bin_end": 512.1007060362796,
            "bin_start": 455.20141207255904,
            "count": 0
           },
           {
            "bin_end": 569,
            "bin_start": 512.1007060362796,
            "count": 1
           }
          ],
          "max": "569.0",
          "min": "0.007060362795084459",
          "nan_count": 0,
          "unique_count": 8
         }
        },
        {
         "dtype": "float64",
         "name": "radius_se",
         "stats": {
          "histogram": [
           {
            "bin_end": 57.000350000000005,
            "bin_start": 0.1115,
            "count": 7
           },
           {
            "bin_end": 113.88920000000002,
            "bin_start": 57.000350000000005,
            "count": 0
           },
           {
            "bin_end": 170.77805000000004,
            "bin_start": 113.88920000000002,
            "count": 0
           },
           {
            "bin_end": 227.66690000000003,
            "bin_start": 170.77805000000004,
            "count": 0
           },
           {
            "bin_end": 284.55575,
            "bin_start": 227.66690000000003,
            "count": 0
           },
           {
            "bin_end": 341.44460000000004,
            "bin_start": 284.55575,
            "count": 0
           },
           {
            "bin_end": 398.33345,
            "bin_start": 341.44460000000004,
            "count": 0
           },
           {
            "bin_end": 455.2223,
            "bin_start": 398.33345,
            "count": 0
           },
           {
            "bin_end": 512.1111500000001,
            "bin_start": 455.2223,
            "count": 0
           },
           {
            "bin_end": 569,
            "bin_start": 512.1111500000001,
            "count": 1
           }
          ],
          "max": "569.0",
          "min": "0.1115",
          "nan_count": 0,
          "unique_count": 8
         }
        },
        {
         "dtype": "float64",
         "name": "texture_se",
         "stats": {
          "histogram": [
           {
            "bin_end": 57.224180000000004,
            "bin_start": 0.3602,
            "count": 7
           },
           {
            "bin_end": 114.08816000000002,
            "bin_start": 57.224180000000004,
            "count": 0
           },
           {
            "bin_end": 170.95214,
            "bin_start": 114.08816000000002,
            "count": 0
           },
           {
            "bin_end": 227.81612,
            "bin_start": 170.95214,
            "count": 0
           },
           {
            "bin_end": 284.68010000000004,
            "bin_start": 227.81612,
            "count": 0
           },
           {
            "bin_end": 341.54408000000006,
            "bin_start": 284.68010000000004,
            "count": 0
           },
           {
            "bin_end": 398.40806000000003,
            "bin_start": 341.54408000000006,
            "count": 0
           },
           {
            "bin_end": 455.27204000000006,
            "bin_start": 398.40806000000003,
            "count": 0
           },
           {
            "bin_end": 512.13602,
            "bin_start": 455.27204000000006,
            "count": 0
           },
           {
            "bin_end": 569,
            "bin_start": 512.13602,
            "count": 1
           }
          ],
          "max": "569.0",
          "min": "0.3602",
          "nan_count": 0,
          "unique_count": 8
         }
        },
        {
         "dtype": "float64",
         "name": "perimeter_se",
         "stats": {
          "histogram": [
           {
            "bin_end": 57.581300000000006,
            "bin_start": 0.757,
            "count": 7
           },
           {
            "bin_end": 114.40560000000002,
            "bin_start": 57.581300000000006,
            "count": 0
           },
           {
            "bin_end": 171.22990000000004,
            "bin_start": 114.40560000000002,
            "count": 0
           },
           {
            "bin_end": 228.05420000000004,
            "bin_start": 171.22990000000004,
            "count": 0
           },
           {
            "bin_end": 284.87850000000003,
            "bin_start": 228.05420000000004,
            "count": 0
           },
           {
            "bin_end": 341.7028000000001,
            "bin_start": 284.87850000000003,
            "count": 0
           },
           {
            "bin_end": 398.5271000000001,
            "bin_start": 341.7028000000001,
            "count": 0
           },
           {
            "bin_end": 455.35140000000007,
            "bin_start": 398.5271000000001,
            "count": 0
           },
           {
            "bin_end": 512.1757,
            "bin_start": 455.35140000000007,
            "count": 0
           },
           {
            "bin_end": 569,
            "bin_start": 512.1757,
            "count": 1
           }
          ],
          "max": "569.0",
          "min": "0.757",
          "nan_count": 0,
          "unique_count": 8
         }
        },
        {
         "dtype": "float64",
         "name": "area_se",
         "stats": {
          "histogram": [
           {
            "bin_end": 63.0218,
            "bin_start": 6.802,
            "count": 6
           },
           {
            "bin_end": 119.2416,
            "bin_start": 63.0218,
            "count": 0
           },
           {
            "bin_end": 175.4614,
            "bin_start": 119.2416,
            "count": 0
           },
           {
            "bin_end": 231.6812,
            "bin_start": 175.4614,
            "count": 0
           },
           {
            "bin_end": 287.901,
            "bin_start": 231.6812,
            "count": 0
           },
           {
            "bin_end": 344.12080000000003,
            "bin_start": 287.901,
            "count": 0
           },
           {
            "bin_end": 400.3406,
            "bin_start": 344.12080000000003,
            "count": 0
           },
           {
            "bin_end": 456.5604,
            "bin_start": 400.3406,
            "count": 0
           },
           {
            "bin_end": 512.7802,
            "bin_start": 456.5604,
            "count": 0
           },
           {
            "bin_end": 569,
            "bin_start": 512.7802,
            "count": 2
           }
          ],
          "max": "569.0",
          "min": "6.802",
          "nan_count": 0,
          "unique_count": 8
         }
        },
        {
         "dtype": "float64",
         "name": "smoothness_se",
         "stats": {
          "histogram": [
           {
            "bin_end": 56.9015417,
            "bin_start": 0.001713,
            "count": 7
           },
           {
            "bin_end": 113.8013704,
            "bin_start": 56.9015417,
            "count": 0
           },
           {
            "bin_end": 170.7011991,
            "bin_start": 113.8013704,
            "count": 0
           },
           {
            "bin_end": 227.6010278,
            "bin_start": 170.7011991,
            "count": 0
           },
           {
            "bin_end": 284.5008565,
            "bin_start": 227.6010278,
            "count": 0
           },
           {
            "bin_end": 341.4006852,
            "bin_start": 284.5008565,
            "count": 0
           },
           {
            "bin_end": 398.3005139,
            "bin_start": 341.4006852,
            "count": 0
           },
           {
            "bin_end": 455.2003426,
            "bin_start": 398.3005139,
            "count": 0
           },
           {
            "bin_end": 512.1001712999999,
            "bin_start": 455.2003426,
            "count": 0
           },
           {
            "bin_end": 569,
            "bin_start": 512.1001712999999,
            "count": 1
           }
          ],
          "max": "569.0",
          "min": "0.001713",
          "nan_count": 0,
          "unique_count": 8
         }
        },
        {
         "dtype": "float64",
         "name": "compactness_se",
         "stats": {
          "histogram": [
           {
            "bin_end": 56.9020268,
            "bin_start": 0.002252,
            "count": 7
           },
           {
            "bin_end": 113.8018016,
            "bin_start": 56.9020268,
            "count": 0
           },
           {
            "bin_end": 170.70157640000002,
            "bin_start": 113.8018016,
            "count": 0
           },
           {
            "bin_end": 227.6013512,
            "bin_start": 170.70157640000002,
            "count": 0
           },
           {
            "bin_end": 284.501126,
            "bin_start": 227.6013512,
            "count": 0
           },
           {
            "bin_end": 341.40090080000004,
            "bin_start": 284.501126,
            "count": 0
           },
           {
            "bin_end": 398.30067560000003,
            "bin_start": 341.40090080000004,
            "count": 0
           },
           {
            "bin_end": 455.2004504,
            "bin_start": 398.30067560000003,
            "count": 0
           },
           {
            "bin_end": 512.1002252000001,
            "bin_start": 455.2004504,
            "count": 0
           },
           {
            "bin_end": 569,
            "bin_start": 512.1002252000001,
            "count": 1
           }
          ],
          "max": "569.0",
          "min": "0.002252",
          "nan_count": 0,
          "unique_count": 8
         }
        },
        {
         "dtype": "float64",
         "name": "concavity_se",
         "stats": {
          "histogram": [
           {
            "bin_end": 56.9,
            "bin_start": 0,
            "count": 7
           },
           {
            "bin_end": 113.8,
            "bin_start": 56.9,
            "count": 0
           },
           {
            "bin_end": 170.7,
            "bin_start": 113.8,
            "count": 0
           },
           {
            "bin_end": 227.6,
            "bin_start": 170.7,
            "count": 0
           },
           {
            "bin_end": 284.5,
            "bin_start": 227.6,
            "count": 0
           },
           {
            "bin_end": 341.4,
            "bin_start": 284.5,
            "count": 0
           },
           {
            "bin_end": 398.3,
            "bin_start": 341.4,
            "count": 0
           },
           {
            "bin_end": 455.2,
            "bin_start": 398.3,
            "count": 0
           },
           {
            "bin_end": 512.1,
            "bin_start": 455.2,
            "count": 0
           },
           {
            "bin_end": 569,
            "bin_start": 512.1,
            "count": 1
           }
          ],
          "max": "569.0",
          "min": "0.0",
          "nan_count": 0,
          "unique_count": 8
         }
        },
        {
         "dtype": "float64",
         "name": "concave points_se",
         "stats": {
          "histogram": [
           {
            "bin_end": 56.9,
            "bin_start": 0,
            "count": 7
           },
           {
            "bin_end": 113.8,
            "bin_start": 56.9,
            "count": 0
           },
           {
            "bin_end": 170.7,
            "bin_start": 113.8,
            "count": 0
           },
           {
            "bin_end": 227.6,
            "bin_start": 170.7,
            "count": 0
           },
           {
            "bin_end": 284.5,
            "bin_start": 227.6,
            "count": 0
           },
           {
            "bin_end": 341.4,
            "bin_start": 284.5,
            "count": 0
           },
           {
            "bin_end": 398.3,
            "bin_start": 341.4,
            "count": 0
           },
           {
            "bin_end": 455.2,
            "bin_start": 398.3,
            "count": 0
           },
           {
            "bin_end": 512.1,
            "bin_start": 455.2,
            "count": 0
           },
           {
            "bin_end": 569,
            "bin_start": 512.1,
            "count": 1
           }
          ],
          "max": "569.0",
          "min": "0.0",
          "nan_count": 0,
          "unique_count": 8
         }
        },
        {
         "dtype": "float64",
         "name": "symmetry_se",
         "stats": {
          "histogram": [
           {
            "bin_end": 56.907093800000006,
            "bin_start": 0.007882,
            "count": 7
           },
           {
            "bin_end": 113.8063056,
            "bin_start": 56.907093800000006,
            "count": 0
           },
           {
            "bin_end": 170.70551740000002,
            "bin_start": 113.8063056,
            "count": 0
           },
           {
            "bin_end": 227.6047292,
            "bin_start": 170.70551740000002,
            "count": 0
           },
           {
            "bin_end": 284.503941,
            "bin_start": 227.6047292,
            "count": 0
           },
           {
            "bin_end": 341.40315280000004,
            "bin_start": 284.503941,
            "count": 0
           },
           {
            "bin_end": 398.30236460000003,
            "bin_start": 341.40315280000004,
            "count": 0
           },
           {
            "bin_end": 455.2015764,
            "bin_start": 398.30236460000003,
            "count": 0
           },
           {
            "bin_end": 512.1007882,
            "bin_start": 455.2015764,
            "count": 0
           },
           {
            "bin_end": 569,
            "bin_start": 512.1007882,
            "count": 1
           }
          ],
          "max": "569.0",
          "min": "0.007882",
          "nan_count": 0,
          "unique_count": 8
         }
        },
        {
         "dtype": "float64",
         "name": "fractal_dimension_se",
         "stats": {
          "histogram": [
           {
            "bin_end": 56.90080532,
            "bin_start": 0.0008948,
            "count": 7
           },
           {
            "bin_end": 113.80071584000001,
            "bin_start": 56.90080532,
            "count": 0
           },
           {
            "bin_end": 170.70062636000003,
            "bin_start": 113.80071584000001,
            "count": 0
           },
           {
            "bin_end": 227.60053688000002,
            "bin_start": 170.70062636000003,
            "count": 0
           },
           {
            "bin_end": 284.50044740000004,
            "bin_start": 227.60053688000002,
            "count": 0
           },
           {
            "bin_end": 341.4003579200001,
            "bin_start": 284.50044740000004,
            "count": 0
           },
           {
            "bin_end": 398.3002684400001,
            "bin_start": 341.4003579200001,
            "count": 0
           },
           {
            "bin_end": 455.2001789600001,
            "bin_start": 398.3002684400001,
            "count": 0
           },
           {
            "bin_end": 512.1000894800001,
            "bin_start": 455.2001789600001,
            "count": 0
           },
           {
            "bin_end": 569,
            "bin_start": 512.1000894800001,
            "count": 1
           }
          ],
          "max": "569.0",
          "min": "0.0008948",
          "nan_count": 0,
          "unique_count": 8
         }
        },
        {
         "dtype": "float64",
         "name": "radius_worst",
         "stats": {
          "histogram": [
           {
            "bin_end": 61.249917422422385,
            "bin_start": 4.833241580469323,
            "count": 7
           },
           {
            "bin_end": 117.66659326437545,
            "bin_start": 61.249917422422385,
            "count": 0
           },
           {
            "bin_end": 174.08326910632852,
            "bin_start": 117.66659326437545,
            "count": 0
           },
           {
            "bin_end": 230.49994494828158,
            "bin_start": 174.08326910632852,
            "count": 0
           },
           {
            "bin_end": 286.9166207902347,
            "bin_start": 230.49994494828158,
            "count": 0
           },
           {
            "bin_end": 343.33329663218774,
            "bin_start": 286.9166207902347,
            "count": 0
           },
           {
            "bin_end": 399.7499724741408,
            "bin_start": 343.33329663218774,
            "count": 0
           },
           {
            "bin_end": 456.16664831609387,
            "bin_start": 399.7499724741408,
            "count": 0
           },
           {
            "bin_end": 512.5833241580469,
            "bin_start": 456.16664831609387,
            "count": 0
           },
           {
            "bin_end": 569,
            "bin_start": 512.5833241580469,
            "count": 1
           }
          ],
          "max": "569.0",
          "min": "4.833241580469323",
          "nan_count": 0,
          "unique_count": 8
         }
        },
        {
         "dtype": "float64",
         "name": "texture_worst",
         "stats": {
          "histogram": [
           {
            "bin_end": 62.431631860734484,
            "bin_start": 6.146257623038319,
            "count": 7
           },
           {
            "bin_end": 118.71700609843066,
            "bin_start": 62.431631860734484,
            "count": 0
           },
           {
            "bin_end": 175.0023803361268,
            "bin_start": 118.71700609843066,
            "count": 0
           },
           {
            "bin_end": 231.28775457382298,
            "bin_start": 175.0023803361268,
            "count": 0
           },
           {
            "bin_end": 287.57312881151915,
            "bin_start": 231.28775457382298,
            "count": 0
           },
           {
            "bin_end": 343.8585030492153,
            "bin_start": 287.57312881151915,
            "count": 0
           },
           {
            "bin_end": 400.1438772869115,
            "bin_start": 343.8585030492153,
            "count": 0
           },
           {
            "bin_end": 456.42925152460765,
            "bin_start": 400.1438772869115,
            "count": 0
           },
           {
            "bin_end": 512.7146257623039,
            "bin_start": 456.42925152460765,
            "count": 0
           },
           {
            "bin_end": 569,
            "bin_start": 512.7146257623039,
            "count": 1
           }
          ],
          "max": "569.0",
          "min": "6.146257623038319",
          "nan_count": 0,
          "unique_count": 8
         }
        },
        {
         "dtype": "float64",
         "name": "perimeter_worst",
         "stats": {
          "histogram": [
           {
            "bin_end": 87.14228804213272,
            "bin_start": 33.602542269036356,
            "count": 3
           },
           {
            "bin_end": 140.6820338152291,
            "bin_start": 87.14228804213272,
            "count": 3
           },
           {
            "bin_end": 194.22177958832543,
            "bin_start": 140.6820338152291,
            "count": 0
           },
           {
            "bin_end": 247.7615253614218,
            "bin_start": 194.22177958832543,
            "count": 0
           },
           {
            "bin_end": 301.3012711345182,
            "bin_start": 247.7615253614218,
            "count": 1
           },
           {
            "bin_end": 354.8410169076145,
            "bin_start": 301.3012711345182,
            "count": 0
           },
           {
            "bin_end": 408.3807626807109,
            "bin_start": 354.8410169076145,
            "count": 0
           },
           {
            "bin_end": 461.92050845380726,
            "bin_start": 408.3807626807109,
            "count": 0
           },
           {
            "bin_end": 515.4602542269037,
            "bin_start": 461.92050845380726,
            "count": 0
           },
           {
            "bin_end": 569,
            "bin_start": 515.4602542269037,
            "count": 1
           }
          ],
          "max": "569.0",
          "min": "33.602542269036356",
          "nan_count": 0,
          "unique_count": 8
         }
        },
        {
         "dtype": "float64",
         "name": "area_worst",
         "stats": {
          "histogram": [
           {
            "bin_end": 592.0799999999999,
            "bin_start": 185.2,
            "count": 4
           },
           {
            "bin_end": 998.96,
            "bin_start": 592.0799999999999,
            "count": 2
           },
           {
            "bin_end": 1405.84,
            "bin_start": 998.96,
            "count": 1
           },
           {
            "bin_end": 1812.72,
            "bin_start": 1405.84,
            "count": 0
           },
           {
            "bin_end": 2219.6,
            "bin_start": 1812.72,
            "count": 0
           },
           {
            "bin_end": 2626.4799999999996,
            "bin_start": 2219.6,
            "count": 0
           },
           {
            "bin_end": 3033.3599999999997,
            "bin_start": 2626.4799999999996,
            "count": 0
           },
           {
            "bin_end": 3440.24,
            "bin_start": 3033.3599999999997,
            "count": 0
           },
           {
            "bin_end": 3847.12,
            "bin_start": 3440.24,
            "count": 0
           },
           {
            "bin_end": 4254,
            "bin_start": 3847.12,
            "count": 1
           }
          ],
          "max": "4254.0",
          "min": "185.2",
          "nan_count": 0,
          "unique_count": 8
         }
        },
        {
         "dtype": "float64",
         "name": "smoothness_worst",
         "stats": {
          "histogram": [
           {
            "bin_end": 56.92054918646435,
            "bin_start": 0.022832429404835465,
            "count": 7
           },
           {
            "bin_end": 113.81826594352385,
            "bin_start": 56.92054918646435,
            "count": 0
           },
           {
            "bin_end": 170.71598270058337,
            "bin_start": 113.81826594352385,
            "count": 0
           },
           {
            "bin_end": 227.6136994576429,
            "bin_start": 170.71598270058337,
            "count": 0
           },
           {
            "bin_end": 284.5114162147024,
            "bin_start": 227.6136994576429,
            "count": 0
           },
           {
            "bin_end": 341.4091329717619,
            "bin_start": 284.5114162147024,
            "count": 0
           },
           {
            "bin_end": 398.3068497288214,
            "bin_start": 341.4091329717619,
            "count": 0
           },
           {
            "bin_end": 455.20456648588095,
            "bin_start": 398.3068497288214,
            "count": 0
           },
           {
            "bin_end": 512.1022832429404,
            "bin_start": 455.20456648588095,
            "count": 0
           },
           {
            "bin_end": 569,
            "bin_start": 512.1022832429404,
            "count": 1
           }
          ],
          "max": "569.0",
          "min": "0.022832429404835465",
          "nan_count": 0,
          "unique_count": 8
         }
        },
        {
         "dtype": "float64",
         "name": "compactness_worst",
         "stats": {
          "histogram": [
           {
            "bin_end": 56.924561000000004,
            "bin_start": 0.02729,
            "count": 7
           },
           {
            "bin_end": 113.821832,
            "bin_start": 56.924561000000004,
            "count": 0
           },
           {
            "bin_end": 170.71910300000002,
            "bin_start": 113.821832,
            "count": 0
           },
           {
            "bin_end": 227.616374,
            "bin_start": 170.71910300000002,
            "count": 0
           },
           {
            "bin_end": 284.513645,
            "bin_start": 227.616374,
            "count": 0
           },
           {
            "bin_end": 341.41091600000004,
            "bin_start": 284.513645,
            "count": 0
           },
           {
            "bin_end": 398.30818700000003,
            "bin_start": 341.41091600000004,
            "count": 0
           },
           {
            "bin_end": 455.205458,
            "bin_start": 398.30818700000003,
            "count": 0
           },
           {
            "bin_end": 512.1027290000001,
            "bin_start": 455.205458,
            "count": 0
           },
           {
            "bin_end": 569,
            "bin_start": 512.1027290000001,
            "count": 1
           }
          ],
          "max": "569.0",
          "min": "0.02729",
          "nan_count": 0,
          "unique_count": 8
         }
        },
        {
         "dtype": "float64",
         "name": "concavity_worst",
         "stats": {
          "histogram": [
           {
            "bin_end": 56.9,
            "bin_start": 0,
            "count": 7
           },
           {
            "bin_end": 113.8,
            "bin_start": 56.9,
            "count": 0
           },
           {
            "bin_end": 170.7,
            "bin_start": 113.8,
            "count": 0
           },
           {
            "bin_end": 227.6,
            "bin_start": 170.7,
            "count": 0
           },
           {
            "bin_end": 284.5,
            "bin_start": 227.6,
            "count": 0
           },
           {
            "bin_end": 341.4,
            "bin_start": 284.5,
            "count": 0
           },
           {
            "bin_end": 398.3,
            "bin_start": 341.4,
            "count": 0
           },
           {
            "bin_end": 455.2,
            "bin_start": 398.3,
            "count": 0
           },
           {
            "bin_end": 512.1,
            "bin_start": 455.2,
            "count": 0
           },
           {
            "bin_end": 569,
            "bin_start": 512.1,
            "count": 1
           }
          ],
          "max": "569.0",
          "min": "0.0",
          "nan_count": 0,
          "unique_count": 8
         }
        },
        {
         "dtype": "float64",
         "name": "concave points_worst",
         "stats": {
          "histogram": [
           {
            "bin_end": 56.9,
            "bin_start": 0,
            "count": 7
           },
           {
            "bin_end": 113.8,
            "bin_start": 56.9,
            "count": 0
           },
           {
            "bin_end": 170.7,
            "bin_start": 113.8,
            "count": 0
           },
           {
            "bin_end": 227.6,
            "bin_start": 170.7,
            "count": 0
           },
           {
            "bin_end": 284.5,
            "bin_start": 227.6,
            "count": 0
           },
           {
            "bin_end": 341.4,
            "bin_start": 284.5,
            "count": 0
           },
           {
            "bin_end": 398.3,
            "bin_start": 341.4,
            "count": 0
           },
           {
            "bin_end": 455.2,
            "bin_start": 398.3,
            "count": 0
           },
           {
            "bin_end": 512.1,
            "bin_start": 455.2,
            "count": 0
           },
           {
            "bin_end": 569,
            "bin_start": 512.1,
            "count": 1
           }
          ],
          "max": "569.0",
          "min": "0.0",
          "nan_count": 0,
          "unique_count": 8
         }
        },
        {
         "dtype": "float64",
         "name": "symmetry_worst",
         "stats": {
          "histogram": [
           {
            "bin_end": 56.95568072078377,
            "bin_start": 0.061867467537518685,
            "count": 7
           },
           {
            "bin_end": 113.84949397403003,
            "bin_start": 56.95568072078377,
            "count": 0
           },
           {
            "bin_end": 170.74330722727626,
            "bin_start": 113.84949397403003,
            "count": 0
           },
           {
            "bin_end": 227.63712048052253,
            "bin_start": 170.74330722727626,
            "count": 0
           },
           {
            "bin_end": 284.5309337337688,
            "bin_start": 227.63712048052253,
            "count": 0
           },
           {
            "bin_end": 341.424746987015,
            "bin_start": 284.5309337337688,
            "count": 0
           },
           {
            "bin_end": 398.31856024026126,
            "bin_start": 341.424746987015,
            "count": 0
           },
           {
            "bin_end": 455.2123734935075,
            "bin_start": 398.31856024026126,
            "count": 0
           },
           {
            "bin_end": 512.1061867467537,
            "bin_start": 455.2123734935075,
            "count": 0
           },
           {
            "bin_end": 569,
            "bin_start": 512.1061867467537,
            "count": 1
           }
          ],
          "max": "569.0",
          "min": "0.061867467537518685",
          "nan_count": 0,
          "unique_count": 8
         }
        },
        {
         "dtype": "float64",
         "name": "fractal_dimension_worst",
         "stats": {
          "histogram": [
           {
            "bin_end": 56.916255140614,
            "bin_start": 0.018061267348893986,
            "count": 7
           },
           {
            "bin_end": 113.81444901387911,
            "bin_start": 56.916255140614,
            "count": 0
           },
           {
            "bin_end": 170.7126428871442,
            "bin_start": 113.81444901387911,
            "count": 0
           },
           {
            "bin_end": 227.6108367604093,
            "bin_start": 170.7126428871442,
            "count": 0
           },
           {
            "bin_end": 284.50903063367446,
            "bin_start": 227.6108367604093,
            "count": 0
           },
           {
            "bin_end": 341.40722450693954,
            "bin_start": 284.50903063367446,
            "count": 0
           },
           {
            "bin_end": 398.3054183802047,
            "bin_start": 341.40722450693954,
            "count": 0
           },
           {
            "bin_end": 455.20361225346977,
            "bin_start": 398.3054183802047,
            "count": 0
           },
           {
            "bin_end": 512.1018061267349,
            "bin_start": 455.20361225346977,
            "count": 0
           },
           {
            "bin_end": 569,
            "bin_start": 512.1018061267349,
            "count": 1
           }
          ],
          "max": "569.0",
          "min": "0.018061267348893986",
          "nan_count": 0,
          "unique_count": 8
         }
        },
        {
         "dtype": "object",
         "name": "_deepnote_index_column"
        }
       ],
       "row_count": 8,
       "rows": [
        {
         "Radius_mean": "569.0",
         "Texture_mean": "569.0",
         "_deepnote_index_column": "count",
         "area_mean": "569.0",
         "area_se": "569.0",
         "area_worst": "569.0",
         "compactness_mean": "569.0",
         "compactness_se": "569.0",
         "compactness_worst": "569.0",
         "concave points_mean": "569.0",
         "concave points_se": "569.0",
         "concave points_worst": "569.0",
         "concavity_mean": "569.0",
         "concavity_se": "569.0",
         "concavity_worst": "569.0",
         "fractal_dimension_mean": "569.0",
         "fractal_dimension_se": "569.0",
         "fractal_dimension_worst": "569.0",
         "id": "569.0",
         "perimeter_mean": "569.0",
         "perimeter_se": "569.0",
         "perimeter_worst": "569.0",
         "radius_se": "569.0",
         "radius_worst": "569.0",
         "smoothness_mean": "569.0",
         "smoothness_se": "569.0",
         "smoothness_worst": "569.0",
         "symmetry_mean": "569.0",
         "symmetry_se": "569.0",
         "symmetry_worst": "569.0",
         "texture_se": "569.0",
         "texture_worst": "569.0"
        },
        {
         "Radius_mean": "14.127291739894552",
         "Texture_mean": "19.296678383128295",
         "_deepnote_index_column": "mean",
         "area_mean": "654.8891036906855",
         "area_se": "40.337079086116",
         "area_worst": "880.5831282952548",
         "compactness_mean": "0.10434098418277679",
         "compactness_se": "0.025478138840070295",
         "compactness_worst": "0.25426504393673116",
         "concave points_mean": "0.04891914586994728",
         "concave points_se": "0.011796137082601054",
         "concave points_worst": "0.11460622319859401",
         "concavity_mean": "0.0887993158172232",
         "concavity_se": "0.03189371634446397",
         "concavity_worst": "0.27218848330404216",
         "fractal_dimension_mean": "0.06279760984182776",
         "fractal_dimension_se": "0.0037949038664323374",
         "fractal_dimension_worst": "0.0839458172231986",
         "id": "30371831.432337433",
         "perimeter_mean": "91.96903339191564",
         "perimeter_se": "2.8660592267135327",
         "perimeter_worst": "107.26121265377857",
         "radius_se": "0.40517205623901575",
         "radius_worst": "16.269189806678387",
         "smoothness_mean": "0.0963602811950791",
         "smoothness_se": "0.007040978910369069",
         "smoothness_worst": "0.13236859402460457",
         "symmetry_mean": "0.18116186291739894",
         "symmetry_se": "0.02054229876977153",
         "symmetry_worst": "0.2900755711775044",
         "texture_se": "1.2168534270650264",
         "texture_worst": "25.677223198594024"
        },
        {
         "Radius_mean": "3.5240488262120775",
         "Texture_mean": "4.30181644039741",
         "_deepnote_index_column": "std",
         "area_mean": "351.914129181653",
         "area_se": "45.49100551613181",
         "area_worst": "569.356992669949",
         "compactness_mean": "0.052812757932512194",
         "compactness_se": "0.017908179325677388",
         "compactness_worst": "0.157336488913742",
         "concave points_mean": "0.038802844859153605",
         "concave points_se": "0.006170285174046869",
         "concave points_worst": "0.06573234119594207",
         "concavity_mean": "0.07971980870789348",
         "concavity_se": "0.03018606032298841",
         "concavity_worst": "0.2086242806081323",
         "fractal_dimension_mean": "0.007060362795084459",
         "fractal_dimension_se": "0.002646070967089195",
         "fractal_dimension_worst": "0.018061267348893986",
         "id": "125020585.61222365",
         "perimeter_mean": "24.298981038754906",
         "perimeter_se": "2.0218545540421076",
         "perimeter_worst": "33.602542269036356",
         "radius_se": "0.2773127329861039",
         "radius_worst": "4.833241580469323",
         "smoothness_mean": "0.01406412813767362",
         "smoothness_se": "0.0030025179438390656",
         "smoothness_worst": "0.022832429404835465",
         "symmetry_mean": "0.027414281336035715",
         "symmetry_se": "0.008266371528798399",
         "symmetry_worst": "0.061867467537518685",
         "texture_se": "0.5516483926172023",
         "texture_worst": "6.146257623038319"
        },
        {
         "Radius_mean": "6.981",
         "Texture_mean": "9.71",
         "_deepnote_index_column": "min",
         "area_mean": "143.5",
         "area_se": "6.802",
         "area_worst": "185.2",
         "compactness_mean": "0.01938",
         "compactness_se": "0.002252",
         "compactness_worst": "0.02729",
         "concave points_mean": "0.0",
         "concave points_se": "0.0",
         "concave points_worst": "0.0",
         "concavity_mean": "0.0",
         "concavity_se": "0.0",
         "concavity_worst": "0.0",
         "fractal_dimension_mean": "0.04996",
         "fractal_dimension_se": "0.0008948",
         "fractal_dimension_worst": "0.05504",
         "id": "8670.0",
         "perimeter_mean": "43.79",
         "perimeter_se": "0.757",
         "perimeter_worst": "50.41",
         "radius_se": "0.1115",
         "radius_worst": "7.93",
         "smoothness_mean": "0.05263",
         "smoothness_se": "0.001713",
         "smoothness_worst": "0.07117",
         "symmetry_mean": "0.106",
         "symmetry_se": "0.007882",
         "symmetry_worst": "0.1565",
         "texture_se": "0.3602",
         "texture_worst": "12.02"
        },
        {
         "Radius_mean": "11.7",
         "Texture_mean": "16.17",
         "_deepnote_index_column": "25%",
         "area_mean": "420.3",
         "area_se": "17.85",
         "area_worst": "515.3",
         "compactness_mean": "0.06492",
         "compactness_se": "0.01308",
         "compactness_worst": "0.1472",
         "concave points_mean": "0.02031",
         "concave points_se": "0.007638",
         "concave points_worst": "0.06493",
         "concavity_mean": "0.02956",
         "concavity_se": "0.01509",
         "concavity_worst": "0.1145",
         "fractal_dimension_mean": "0.0577",
         "fractal_dimension_se": "0.002248",
         "fractal_dimension_worst": "0.07146",
         "id": "869218.0",
         "perimeter_mean": "75.17",
         "perimeter_se": "1.606",
         "perimeter_worst": "84.11",
         "radius_se": "0.2324",
         "radius_worst": "13.01",
         "smoothness_mean": "0.08637",
         "smoothness_se": "0.005169",
         "smoothness_worst": "0.1166",
         "symmetry_mean": "0.1619",
         "symmetry_se": "0.01516",
         "symmetry_worst": "0.2504",
         "texture_se": "0.8339",
         "texture_worst": "21.08"
        },
        {
         "Radius_mean": "13.37",
         "Texture_mean": "18.87",
         "_deepnote_index_column": "50%",
         "area_mean": "551.1",
         "area_se": "24.53",
         "area_worst": "686.5",
         "compactness_mean": "0.09263",
         "compactness_se": "0.02045",
         "compactness_worst": "0.2119",
         "concave points_mean": "0.0335",
         "concave points_se": "0.01093",
         "concave points_worst": "0.09993",
         "concavity_mean": "0.06154",
         "concavity_se": "0.02589",
         "concavity_worst": "0.2267",
         "fractal_dimension_mean": "0.06154",
         "fractal_dimension_se": "0.003187",
         "fractal_dimension_worst": "0.08004",
         "id": "906024.0",
         "perimeter_mean": "86.24",
         "perimeter_se": "2.287",
         "perimeter_worst": "97.66",
         "radius_se": "0.3242",
         "radius_worst": "14.97",
         "smoothness_mean": "0.09587",
         "smoothness_se": "0.00638",
         "smoothness_worst": "0.1313",
         "symmetry_mean": "0.1792",
         "symmetry_se": "0.01873",
         "symmetry_worst": "0.2822",
         "texture_se": "1.108",
         "texture_worst": "25.41"
        },
        {
         "Radius_mean": "15.78",
         "Texture_mean": "21.8",
         "_deepnote_index_column": "75%",
         "area_mean": "782.7",
         "area_se": "45.19",
         "area_worst": "1084.0",
         "compactness_mean": "0.1304",
         "compactness_se": "0.03245",
         "compactness_worst": "0.3391",
         "concave points_mean": "0.074",
         "concave points_se": "0.01471",
         "concave points_worst": "0.1614",
         "concavity_mean": "0.1307",
         "concavity_se": "0.04205",
         "concavity_worst": "0.3829",
         "fractal_dimension_mean": "0.06612",
         "fractal_dimension_se": "0.004558",
         "fractal_dimension_worst": "0.09208",
         "id": "8813129.0",
         "perimeter_mean": "104.1",
         "perimeter_se": "3.357",
         "perimeter_worst": "125.4",
         "radius_se": "0.4789",
         "radius_worst": "18.79",
         "smoothness_mean": "0.1053",
         "smoothness_se": "0.008146",
         "smoothness_worst": "0.146",
         "symmetry_mean": "0.1957",
         "symmetry_se": "0.02348",
         "symmetry_worst": "0.3179",
         "texture_se": "1.474",
         "texture_worst": "29.72"
        },
        {
         "Radius_mean": "28.11",
         "Texture_mean": "39.28",
         "_deepnote_index_column": "max",
         "area_mean": "2501.0",
         "area_se": "542.2",
         "area_worst": "4254.0",
         "compactness_mean": "0.3454",
         "compactness_se": "0.1354",
         "compactness_worst": "1.058",
         "concave points_mean": "0.2012",
         "concave points_se": "0.05279",
         "concave points_worst": "0.291",
         "concavity_mean": "0.4268",
         "concavity_se": "0.396",
         "concavity_worst": "1.252",
         "fractal_dimension_mean": "0.09744",
         "fractal_dimension_se": "0.02984",
         "fractal_dimension_worst": "0.2075",
         "id": "911320502.0",
         "perimeter_mean": "188.5",
         "perimeter_se": "21.98",
         "perimeter_worst": "251.2",
         "radius_se": "2.873",
         "radius_worst": "36.04",
         "smoothness_mean": "0.1634",
         "smoothness_se": "0.03113",
         "smoothness_worst": "0.2226",
         "symmetry_mean": "0.304",
         "symmetry_se": "0.07895",
         "symmetry_worst": "0.6638",
         "texture_se": "4.885",
         "texture_worst": "49.54"
        }
       ]
      },
      "text/html": [
       "<div>\n",
       "<style scoped>\n",
       "    .dataframe tbody tr th:only-of-type {\n",
       "        vertical-align: middle;\n",
       "    }\n",
       "\n",
       "    .dataframe tbody tr th {\n",
       "        vertical-align: top;\n",
       "    }\n",
       "\n",
       "    .dataframe thead th {\n",
       "        text-align: right;\n",
       "    }\n",
       "</style>\n",
       "<table border=\"1\" class=\"dataframe\">\n",
       "  <thead>\n",
       "    <tr style=\"text-align: right;\">\n",
       "      <th></th>\n",
       "      <th>id</th>\n",
       "      <th>Radius_mean</th>\n",
       "      <th>Texture_mean</th>\n",
       "      <th>perimeter_mean</th>\n",
       "      <th>area_mean</th>\n",
       "      <th>smoothness_mean</th>\n",
       "      <th>compactness_mean</th>\n",
       "      <th>concavity_mean</th>\n",
       "      <th>concave points_mean</th>\n",
       "      <th>symmetry_mean</th>\n",
       "      <th>...</th>\n",
       "      <th>radius_worst</th>\n",
       "      <th>texture_worst</th>\n",
       "      <th>perimeter_worst</th>\n",
       "      <th>area_worst</th>\n",
       "      <th>smoothness_worst</th>\n",
       "      <th>compactness_worst</th>\n",
       "      <th>concavity_worst</th>\n",
       "      <th>concave points_worst</th>\n",
       "      <th>symmetry_worst</th>\n",
       "      <th>fractal_dimension_worst</th>\n",
       "    </tr>\n",
       "  </thead>\n",
       "  <tbody>\n",
       "    <tr>\n",
       "      <th>count</th>\n",
       "      <td>5.690000e+02</td>\n",
       "      <td>569.000000</td>\n",
       "      <td>569.000000</td>\n",
       "      <td>569.000000</td>\n",
       "      <td>569.000000</td>\n",
       "      <td>569.000000</td>\n",
       "      <td>569.000000</td>\n",
       "      <td>569.000000</td>\n",
       "      <td>569.000000</td>\n",
       "      <td>569.000000</td>\n",
       "      <td>...</td>\n",
       "      <td>569.000000</td>\n",
       "      <td>569.000000</td>\n",
       "      <td>569.000000</td>\n",
       "      <td>569.000000</td>\n",
       "      <td>569.000000</td>\n",
       "      <td>569.000000</td>\n",
       "      <td>569.000000</td>\n",
       "      <td>569.000000</td>\n",
       "      <td>569.000000</td>\n",
       "      <td>569.000000</td>\n",
       "    </tr>\n",
       "    <tr>\n",
       "      <th>mean</th>\n",
       "      <td>3.037183e+07</td>\n",
       "      <td>14.127292</td>\n",
       "      <td>19.296678</td>\n",
       "      <td>91.969033</td>\n",
       "      <td>654.889104</td>\n",
       "      <td>0.096360</td>\n",
       "      <td>0.104341</td>\n",
       "      <td>0.088799</td>\n",
       "      <td>0.048919</td>\n",
       "      <td>0.181162</td>\n",
       "      <td>...</td>\n",
       "      <td>16.269190</td>\n",
       "      <td>25.677223</td>\n",
       "      <td>107.261213</td>\n",
       "      <td>880.583128</td>\n",
       "      <td>0.132369</td>\n",
       "      <td>0.254265</td>\n",
       "      <td>0.272188</td>\n",
       "      <td>0.114606</td>\n",
       "      <td>0.290076</td>\n",
       "      <td>0.083946</td>\n",
       "    </tr>\n",
       "    <tr>\n",
       "      <th>std</th>\n",
       "      <td>1.250206e+08</td>\n",
       "      <td>3.524049</td>\n",
       "      <td>4.301816</td>\n",
       "      <td>24.298981</td>\n",
       "      <td>351.914129</td>\n",
       "      <td>0.014064</td>\n",
       "      <td>0.052813</td>\n",
       "      <td>0.079720</td>\n",
       "      <td>0.038803</td>\n",
       "      <td>0.027414</td>\n",
       "      <td>...</td>\n",
       "      <td>4.833242</td>\n",
       "      <td>6.146258</td>\n",
       "      <td>33.602542</td>\n",
       "      <td>569.356993</td>\n",
       "      <td>0.022832</td>\n",
       "      <td>0.157336</td>\n",
       "      <td>0.208624</td>\n",
       "      <td>0.065732</td>\n",
       "      <td>0.061867</td>\n",
       "      <td>0.018061</td>\n",
       "    </tr>\n",
       "    <tr>\n",
       "      <th>min</th>\n",
       "      <td>8.670000e+03</td>\n",
       "      <td>6.981000</td>\n",
       "      <td>9.710000</td>\n",
       "      <td>43.790000</td>\n",
       "      <td>143.500000</td>\n",
       "      <td>0.052630</td>\n",
       "      <td>0.019380</td>\n",
       "      <td>0.000000</td>\n",
       "      <td>0.000000</td>\n",
       "      <td>0.106000</td>\n",
       "      <td>...</td>\n",
       "      <td>7.930000</td>\n",
       "      <td>12.020000</td>\n",
       "      <td>50.410000</td>\n",
       "      <td>185.200000</td>\n",
       "      <td>0.071170</td>\n",
       "      <td>0.027290</td>\n",
       "      <td>0.000000</td>\n",
       "      <td>0.000000</td>\n",
       "      <td>0.156500</td>\n",
       "      <td>0.055040</td>\n",
       "    </tr>\n",
       "    <tr>\n",
       "      <th>25%</th>\n",
       "      <td>8.692180e+05</td>\n",
       "      <td>11.700000</td>\n",
       "      <td>16.170000</td>\n",
       "      <td>75.170000</td>\n",
       "      <td>420.300000</td>\n",
       "      <td>0.086370</td>\n",
       "      <td>0.064920</td>\n",
       "      <td>0.029560</td>\n",
       "      <td>0.020310</td>\n",
       "      <td>0.161900</td>\n",
       "      <td>...</td>\n",
       "      <td>13.010000</td>\n",
       "      <td>21.080000</td>\n",
       "      <td>84.110000</td>\n",
       "      <td>515.300000</td>\n",
       "      <td>0.116600</td>\n",
       "      <td>0.147200</td>\n",
       "      <td>0.114500</td>\n",
       "      <td>0.064930</td>\n",
       "      <td>0.250400</td>\n",
       "      <td>0.071460</td>\n",
       "    </tr>\n",
       "    <tr>\n",
       "      <th>50%</th>\n",
       "      <td>9.060240e+05</td>\n",
       "      <td>13.370000</td>\n",
       "      <td>18.870000</td>\n",
       "      <td>86.240000</td>\n",
       "      <td>551.100000</td>\n",
       "      <td>0.095870</td>\n",
       "      <td>0.092630</td>\n",
       "      <td>0.061540</td>\n",
       "      <td>0.033500</td>\n",
       "      <td>0.179200</td>\n",
       "      <td>...</td>\n",
       "      <td>14.970000</td>\n",
       "      <td>25.410000</td>\n",
       "      <td>97.660000</td>\n",
       "      <td>686.500000</td>\n",
       "      <td>0.131300</td>\n",
       "      <td>0.211900</td>\n",
       "      <td>0.226700</td>\n",
       "      <td>0.099930</td>\n",
       "      <td>0.282200</td>\n",
       "      <td>0.080040</td>\n",
       "    </tr>\n",
       "    <tr>\n",
       "      <th>75%</th>\n",
       "      <td>8.813129e+06</td>\n",
       "      <td>15.780000</td>\n",
       "      <td>21.800000</td>\n",
       "      <td>104.100000</td>\n",
       "      <td>782.700000</td>\n",
       "      <td>0.105300</td>\n",
       "      <td>0.130400</td>\n",
       "      <td>0.130700</td>\n",
       "      <td>0.074000</td>\n",
       "      <td>0.195700</td>\n",
       "      <td>...</td>\n",
       "      <td>18.790000</td>\n",
       "      <td>29.720000</td>\n",
       "      <td>125.400000</td>\n",
       "      <td>1084.000000</td>\n",
       "      <td>0.146000</td>\n",
       "      <td>0.339100</td>\n",
       "      <td>0.382900</td>\n",
       "      <td>0.161400</td>\n",
       "      <td>0.317900</td>\n",
       "      <td>0.092080</td>\n",
       "    </tr>\n",
       "    <tr>\n",
       "      <th>max</th>\n",
       "      <td>9.113205e+08</td>\n",
       "      <td>28.110000</td>\n",
       "      <td>39.280000</td>\n",
       "      <td>188.500000</td>\n",
       "      <td>2501.000000</td>\n",
       "      <td>0.163400</td>\n",
       "      <td>0.345400</td>\n",
       "      <td>0.426800</td>\n",
       "      <td>0.201200</td>\n",
       "      <td>0.304000</td>\n",
       "      <td>...</td>\n",
       "      <td>36.040000</td>\n",
       "      <td>49.540000</td>\n",
       "      <td>251.200000</td>\n",
       "      <td>4254.000000</td>\n",
       "      <td>0.222600</td>\n",
       "      <td>1.058000</td>\n",
       "      <td>1.252000</td>\n",
       "      <td>0.291000</td>\n",
       "      <td>0.663800</td>\n",
       "      <td>0.207500</td>\n",
       "    </tr>\n",
       "  </tbody>\n",
       "</table>\n",
       "<p>8 rows × 31 columns</p>\n",
       "</div>"
      ],
      "text/plain": [
       "                 id  Radius_mean  Texture_mean  perimeter_mean    area_mean  \\\n",
       "count  5.690000e+02   569.000000    569.000000      569.000000   569.000000   \n",
       "mean   3.037183e+07    14.127292     19.296678       91.969033   654.889104   \n",
       "std    1.250206e+08     3.524049      4.301816       24.298981   351.914129   \n",
       "min    8.670000e+03     6.981000      9.710000       43.790000   143.500000   \n",
       "25%    8.692180e+05    11.700000     16.170000       75.170000   420.300000   \n",
       "50%    9.060240e+05    13.370000     18.870000       86.240000   551.100000   \n",
       "75%    8.813129e+06    15.780000     21.800000      104.100000   782.700000   \n",
       "max    9.113205e+08    28.110000     39.280000      188.500000  2501.000000   \n",
       "\n",
       "       smoothness_mean  compactness_mean  concavity_mean  concave points_mean  \\\n",
       "count       569.000000        569.000000      569.000000           569.000000   \n",
       "mean          0.096360          0.104341        0.088799             0.048919   \n",
       "std           0.014064          0.052813        0.079720             0.038803   \n",
       "min           0.052630          0.019380        0.000000             0.000000   \n",
       "25%           0.086370          0.064920        0.029560             0.020310   \n",
       "50%           0.095870          0.092630        0.061540             0.033500   \n",
       "75%           0.105300          0.130400        0.130700             0.074000   \n",
       "max           0.163400          0.345400        0.426800             0.201200   \n",
       "\n",
       "       symmetry_mean  ...  radius_worst  texture_worst  perimeter_worst  \\\n",
       "count     569.000000  ...    569.000000     569.000000       569.000000   \n",
       "mean        0.181162  ...     16.269190      25.677223       107.261213   \n",
       "std         0.027414  ...      4.833242       6.146258        33.602542   \n",
       "min         0.106000  ...      7.930000      12.020000        50.410000   \n",
       "25%         0.161900  ...     13.010000      21.080000        84.110000   \n",
       "50%         0.179200  ...     14.970000      25.410000        97.660000   \n",
       "75%         0.195700  ...     18.790000      29.720000       125.400000   \n",
       "max         0.304000  ...     36.040000      49.540000       251.200000   \n",
       "\n",
       "        area_worst  smoothness_worst  compactness_worst  concavity_worst  \\\n",
       "count   569.000000        569.000000         569.000000       569.000000   \n",
       "mean    880.583128          0.132369           0.254265         0.272188   \n",
       "std     569.356993          0.022832           0.157336         0.208624   \n",
       "min     185.200000          0.071170           0.027290         0.000000   \n",
       "25%     515.300000          0.116600           0.147200         0.114500   \n",
       "50%     686.500000          0.131300           0.211900         0.226700   \n",
       "75%    1084.000000          0.146000           0.339100         0.382900   \n",
       "max    4254.000000          0.222600           1.058000         1.252000   \n",
       "\n",
       "       concave points_worst  symmetry_worst  fractal_dimension_worst  \n",
       "count            569.000000      569.000000               569.000000  \n",
       "mean               0.114606        0.290076                 0.083946  \n",
       "std                0.065732        0.061867                 0.018061  \n",
       "min                0.000000        0.156500                 0.055040  \n",
       "25%                0.064930        0.250400                 0.071460  \n",
       "50%                0.099930        0.282200                 0.080040  \n",
       "75%                0.161400        0.317900                 0.092080  \n",
       "max                0.291000        0.663800                 0.207500  \n",
       "\n",
       "[8 rows x 31 columns]"
      ]
     },
     "execution_count": 5,
     "metadata": {},
     "output_type": "execute_result"
    }
   ],
   "source": [
    "data.describe()"
   ]
  },
  {
   "cell_type": "markdown",
   "metadata": {
    "cell_id": "9282e094ef60490c8a8950345f386c95",
    "deepnote_cell_type": "text-cell-bullet",
    "formattedRanges": [],
    "is_collapsed": false,
    "tags": []
   },
   "source": [
    "- We can see here all the statistics concern each one of our features."
   ]
  },
  {
   "cell_type": "markdown",
   "metadata": {
    "cell_id": "89cd153ffe51457ab9f839ec9050b7b4",
    "deepnote_cell_type": "markdown",
    "tags": []
   },
   "source": [
    "<h1 style=\"color: green;\">Data Visualization</h1>"
   ]
  },
  {
   "cell_type": "markdown",
   "metadata": {
    "cell_id": "4de536e98e894235a7b3ea968dac8496",
    "deepnote_cell_type": "text-cell-p",
    "formattedRanges": [
     {
      "fromCodePoint": 71,
      "marks": {
       "bold": true
      },
      "toCodePoint": 79,
      "type": "marks"
     },
     {
      "fromCodePoint": 100,
      "marks": {
       "bold": true
      },
      "toCodePoint": 120,
      "type": "marks"
     },
     {
      "fromCodePoint": 124,
      "marks": {
       "bold": true
      },
      "toCodePoint": 130,
      "type": "marks"
     },
     {
      "fromCodePoint": 159,
      "marks": {
       "bold": true
      },
      "toCodePoint": 173,
      "type": "marks"
     },
     {
      "fromCodePoint": 193,
      "marks": {
       "bold": true
      },
      "toCodePoint": 208,
      "type": "marks"
     },
     {
      "fromCodePoint": 213,
      "marks": {
       "bold": true
      },
      "toCodePoint": 238,
      "type": "marks"
     }
    ],
    "is_collapsed": false,
    "tags": []
   },
   "source": [
    "One of the main goals of visualizing the data here is to observe which features are most helpful in predicting malignant or benign cancer. The other is to see general trends that may aid us in model selection and hyper parameter selection."
   ]
  },
  {
   "cell_type": "markdown",
   "metadata": {
    "cell_id": "f2bcb49ab5dc45cb8edfb2c7daaa4b22",
    "deepnote_cell_type": "text-cell-h3",
    "formattedRanges": [],
    "is_collapsed": false,
    "tags": []
   },
   "source": [
    "### Importing libraries required"
   ]
  },
  {
   "cell_type": "code",
   "execution_count": null,
   "metadata": {
    "cell_id": "7a10c57f71bc4d17989de97f9c630dd0",
    "deepnote_cell_type": "code",
    "deepnote_to_be_reexecuted": false,
    "execution_millis": 2294,
    "execution_start": 1670398525165,
    "source_hash": "cf9bbfa5",
    "tags": []
   },
   "outputs": [],
   "source": [
    "import seaborn as sns\n",
    "import matplotlib.pyplot as plt"
   ]
  },
  {
   "cell_type": "markdown",
   "metadata": {
    "cell_id": "502c0b6d247641aa819c36a7b5bc8319",
    "deepnote_cell_type": "text-cell-h3",
    "formattedRanges": [
     {
      "fromCodePoint": 11,
      "marks": {
       "bold": true
      },
      "toCodePoint": 16,
      "type": "marks"
     }
    ],
    "is_collapsed": false,
    "tags": []
   },
   "source": [
    "### Malignant/Benign in Dataset"
   ]
  },
  {
   "cell_type": "code",
   "execution_count": null,
   "metadata": {
    "cell_id": "567e76e7b89f45abafba57ac3109d10f",
    "deepnote_cell_type": "code",
    "deepnote_to_be_reexecuted": false,
    "execution_millis": 455,
    "execution_start": 1670398527496,
    "source_hash": "7b7b4270",
    "tags": []
   },
   "outputs": [
    {
     "data": {
      "image/png": "[encoded data removed]",
      "text/plain": [
       "<Figure size 640x480 with 1 Axes>"
      ]
     },
     "metadata": {
      "image/png": {
       "height": 411,
       "width": 389
      }
     },
     "output_type": "display_data"
    }
   ],
   "source": [
    "labels = [\"M\", \"B\"]\n",
    "counts = [\n",
    "    data[data.diagnosis == \"M\"].count()[0],\n",
    "    data[data.diagnosis == \"B\"].count()[0],\n",
    "]\n",
    "plt.pie(counts, labels=labels, autopct=\"%.2f%%\")\n",
    "plt.title(\"Pourcentage of Malignant/Begnin in Dataset\")\n",
    "plt.legend()\n",
    "plt.show()\n"
   ]
  },
  {
   "cell_type": "markdown",
   "metadata": {
    "cell_id": "c0736477d7ce4a288d648590ecbc4236",
    "deepnote_cell_type": "text-cell-bullet",
    "formattedRanges": [],
    "is_collapsed": false,
    "tags": []
   },
   "source": [
    "- M = Malignant (indicates presence of cancer cells) "
   ]
  },
  {
   "cell_type": "markdown",
   "metadata": {
    "cell_id": "edc5f9e6-83d2-4584-b94b-a58d960966ea",
    "deepnote_cell_type": "text-cell-bullet",
    "formattedRanges": [],
    "is_collapsed": false,
    "tags": []
   },
   "source": [
    "- B = Benign (indicates absence) "
   ]
  },
  {
   "cell_type": "code",
   "execution_count": null,
   "metadata": {
    "cell_id": "5c51b8f8960a4cb581296d23345d1065",
    "deepnote_cell_type": "code",
    "deepnote_to_be_reexecuted": false,
    "execution_millis": 7,
    "execution_start": 1670398528000,
    "source_hash": "c397a28c",
    "tags": []
   },
   "outputs": [
    {
     "name": "stdout",
     "output_type": "stream",
     "text": [
      "The number of Begnin is 357, which is 62.74%\n",
      "The number of Malignant is 212, which is 37.26%\n"
     ]
    }
   ],
   "source": [
    "print(f\"The number of Begnin is {data.diagnosis.value_counts()['B']}, which is 62.74%\")\n",
    "print(f\"The number of Malignant is {data.diagnosis.value_counts()['M']}, which is 37.26%\")"
   ]
  },
  {
   "cell_type": "markdown",
   "metadata": {
    "cell_id": "1c540d22aebf49d3b3569984dfcc8526",
    "deepnote_cell_type": "text-cell-h3",
    "formattedRanges": [],
    "is_collapsed": false,
    "tags": []
   },
   "source": [
    "### Visualize distribution of data via histograms"
   ]
  },
  {
   "cell_type": "markdown",
   "metadata": {
    "cell_id": "7a9b3e6157a4492a9c7776bfbf7d9222",
    "deepnote_cell_type": "text-cell-bullet",
    "formattedRanges": [
     {
      "fromCodePoint": 54,
      "marks": {
       "bold": true
      },
      "toCodePoint": 58,
      "type": "marks"
     },
     {
      "fromCodePoint": 61,
      "marks": {
       "bold": true
      },
      "toCodePoint": 65,
      "type": "marks"
     },
     {
      "fromCodePoint": 89,
      "marks": {
       "bold": true
      },
      "toCodePoint": 93,
      "type": "marks"
     }
    ],
    "is_collapsed": false,
    "tags": []
   },
   "source": [
    "- Since we will get the same result of distribution for MEAN & SE, so we will work only on mean"
   ]
  },
  {
   "cell_type": "code",
   "execution_count": null,
   "metadata": {
    "cell_id": "e06d2c1343ed4f3294fb7276ecf536dd",
    "deepnote_cell_type": "code",
    "deepnote_to_be_reexecuted": false,
    "execution_millis": 4502,
    "execution_start": 1670398528011,
    "source_hash": "da448426",
    "tags": []
   },
   "outputs": [
    {
     "data": {
      "image/png": "[encoded data removed]",
      "text/plain": [
       "<Figure size 1000x800 with 10 Axes>"
      ]
     },
     "metadata": {
      "image/png": {
       "height": 811,
       "width": 1011
      }
     },
     "output_type": "display_data"
    }
   ],
   "source": [
    "colors = [\n",
    "    \"DeepSkyBlue\",\n",
    "    \"DodgerBlue\",\n",
    "    \"CornflowerBlue\",\n",
    "    \"MediumSlateBlue\",\n",
    "    \"RoyalBlue\",\n",
    "    \"Blue\",\n",
    "    \"MediumBlue\",\n",
    "    \"DarkBlue\",\n",
    "    \"Navy\",\n",
    "    \"MidnightBlue\",\n",
    "]\n",
    "fig, axs = plt.subplots(3, 4, figsize=(10, 8), constrained_layout=True)\n",
    "index = []\n",
    "for i in range(3):\n",
    "    for j in range(4):\n",
    "        index.append(axs[i][j])\n",
    "for i in range(10):\n",
    "    sns.histplot(\n",
    "        data=data, x=data.columns[i + 2], kde=True, ax=index[i], color=colors[i]\n",
    "    ).set(title=data.columns[i + 2], xlabel=None, ylabel=None)\n",
    "\n",
    "axs[2, 2].remove()\n",
    "axs[2, 3].remove()\n",
    "fig.supxlabel(\"Value\").set_fontsize(14)\n",
    "fig.supylabel(\"Count\").set_fontsize(14)\n",
    "fig.suptitle(\"Distribution of data via Histograms\").set_fontsize(16)\n"
   ]
  },
  {
   "cell_type": "code",
   "execution_count": null,
   "metadata": {
    "cell_id": "97614f3aa91f4f7992f649dcebabfc28",
    "deepnote_cell_type": "code",
    "deepnote_to_be_reexecuted": false,
    "execution_millis": 27,
    "execution_start": 1670401373692,
    "source_hash": "ec04c5f8",
    "tags": []
   },
   "outputs": [
    {
     "data": {
      "application/vnd.deepnote.dataframe.v3+json": {
       "column_count": 2,
       "columns": [
        {
         "dtype": "object",
         "name": "feature",
         "stats": {
          "categories": [
           {
            "count": 1,
            "name": "Radius_mean"
           },
           {
            "count": 1,
            "name": "Texture_mean"
           },
           {
            "count": 8,
            "name": "8 others"
           }
          ],
          "nan_count": 0,
          "unique_count": 10
         }
        },
        {
         "dtype": "float64",
         "name": "Skewness",
         "stats": {
          "histogram": [
           {
            "bin_end": 0.5780000000000001,
            "bin_start": 0.46,
            "count": 1
           },
           {
            "bin_end": 0.696,
            "bin_start": 0.5780000000000001,
            "count": 1
           },
           {
            "bin_end": 0.8140000000000001,
            "bin_start": 0.696,
            "count": 1
           },
           {
            "bin_end": 0.9319999999999999,
            "bin_start": 0.8140000000000001,
            "count": 0
           },
           {
            "bin_end": 1.05,
            "bin_start": 0.9319999999999999,
            "count": 2
           },
           {
            "bin_end": 1.168,
            "bin_start": 1.05,
            "count": 0
           },
           {
            "bin_end": 1.286,
            "bin_start": 1.168,
            "count": 2
           },
           {
            "bin_end": 1.404,
            "bin_start": 1.286,
            "count": 2
           },
           {
            "bin_end": 1.5219999999999998,
            "bin_start": 1.404,
            "count": 0
           },
           {
            "bin_end": 1.64,
            "bin_start": 1.5219999999999998,
            "count": 1
           }
          ],
          "max": "1.64",
          "min": "0.46",
          "nan_count": 0,
          "unique_count": 10
         }
        },
        {
         "dtype": "int64",
         "name": "_deepnote_index_column"
        }
       ],
       "row_count": 10,
       "rows": [
        {
         "Skewness": "0.94",
         "_deepnote_index_column": "0",
         "feature": "Radius_mean"
        },
        {
         "Skewness": "0.64",
         "_deepnote_index_column": "1",
         "feature": "Texture_mean"
        },
        {
         "Skewness": "0.99",
         "_deepnote_index_column": "2",
         "feature": "perimeter_mean"
        },
        {
         "Skewness": "1.64",
         "_deepnote_index_column": "3",
         "feature": "area_mean"
        },
        {
         "Skewness": "0.46",
         "_deepnote_index_column": "4",
         "feature": "smoothness_mean"
        },
        {
         "Skewness": "1.19",
         "_deepnote_index_column": "5",
         "feature": "compactness_mean"
        },
        {
         "Skewness": "1.4",
         "_deepnote_index_column": "6",
         "feature": "concavity_mean"
        },
        {
         "Skewness": "1.17",
         "_deepnote_index_column": "7",
         "feature": "concave points_mean"
        },
        {
         "Skewness": "0.72",
         "_deepnote_index_column": "8",
         "feature": "symmetry_mean"
        },
        {
         "Skewness": "1.3",
         "_deepnote_index_column": "9",
         "feature": "fractal_dimension_mean"
        }
       ]
      },
      "text/html": [
       "<div>\n",
       "<style scoped>\n",
       "    .dataframe tbody tr th:only-of-type {\n",
       "        vertical-align: middle;\n",
       "    }\n",
       "\n",
       "    .dataframe tbody tr th {\n",
       "        vertical-align: top;\n",
       "    }\n",
       "\n",
       "    .dataframe thead th {\n",
       "        text-align: right;\n",
       "    }\n",
       "</style>\n",
       "<table border=\"1\" class=\"dataframe\">\n",
       "  <thead>\n",
       "    <tr style=\"text-align: right;\">\n",
       "      <th></th>\n",
       "      <th>feature</th>\n",
       "      <th>Skewness</th>\n",
       "    </tr>\n",
       "  </thead>\n",
       "  <tbody>\n",
       "    <tr>\n",
       "      <th>0</th>\n",
       "      <td>Radius_mean</td>\n",
       "      <td>0.94</td>\n",
       "    </tr>\n",
       "    <tr>\n",
       "      <th>1</th>\n",
       "      <td>Texture_mean</td>\n",
       "      <td>0.64</td>\n",
       "    </tr>\n",
       "    <tr>\n",
       "      <th>2</th>\n",
       "      <td>perimeter_mean</td>\n",
       "      <td>0.99</td>\n",
       "    </tr>\n",
       "    <tr>\n",
       "      <th>3</th>\n",
       "      <td>area_mean</td>\n",
       "      <td>1.64</td>\n",
       "    </tr>\n",
       "    <tr>\n",
       "      <th>4</th>\n",
       "      <td>smoothness_mean</td>\n",
       "      <td>0.46</td>\n",
       "    </tr>\n",
       "    <tr>\n",
       "      <th>5</th>\n",
       "      <td>compactness_mean</td>\n",
       "      <td>1.19</td>\n",
       "    </tr>\n",
       "    <tr>\n",
       "      <th>6</th>\n",
       "      <td>concavity_mean</td>\n",
       "      <td>1.40</td>\n",
       "    </tr>\n",
       "    <tr>\n",
       "      <th>7</th>\n",
       "      <td>concave points_mean</td>\n",
       "      <td>1.17</td>\n",
       "    </tr>\n",
       "    <tr>\n",
       "      <th>8</th>\n",
       "      <td>symmetry_mean</td>\n",
       "      <td>0.72</td>\n",
       "    </tr>\n",
       "    <tr>\n",
       "      <th>9</th>\n",
       "      <td>fractal_dimension_mean</td>\n",
       "      <td>1.30</td>\n",
       "    </tr>\n",
       "  </tbody>\n",
       "</table>\n",
       "</div>"
      ],
      "text/plain": [
       "                  feature  Skewness\n",
       "0             Radius_mean      0.94\n",
       "1            Texture_mean      0.64\n",
       "2          perimeter_mean      0.99\n",
       "3               area_mean      1.64\n",
       "4         smoothness_mean      0.46\n",
       "5        compactness_mean      1.19\n",
       "6          concavity_mean      1.40\n",
       "7     concave points_mean      1.17\n",
       "8           symmetry_mean      0.72\n",
       "9  fractal_dimension_mean      1.30"
      ]
     },
     "execution_count": 64,
     "metadata": {},
     "output_type": "execute_result"
    }
   ],
   "source": [
    "from scipy.stats import skew\n",
    "dict_skew = {\"feature\": [], \"Skewness\": []}\n",
    "for col in data.columns[2:12]:\n",
    "    dict_skew[\"feature\"].append(col)\n",
    "    dict_skew[\"Skewness\"].append(round(skew(data[col]),2))\n",
    "df_skew = pd.DataFrame(dict_skew)\n",
    "df_skew"
   ]
  },
  {
   "cell_type": "markdown",
   "metadata": {
    "cell_id": "216570f1a8c4426c915328199baf661b",
    "deepnote_cell_type": "markdown",
    "tags": []
   },
   "source": [
    "<h4 style=\"color: red;\">Notice:</h4>"
   ]
  },
  {
   "cell_type": "markdown",
   "metadata": {
    "cell_id": "3a2a44765b3d4052999392b55ffcf588",
    "deepnote_cell_type": "text-cell-bullet",
    "formattedRanges": [
     {
      "fromCodePoint": 46,
      "marks": {
       "bold": true
      },
      "toCodePoint": 58,
      "type": "marks"
     },
     {
      "fromCodePoint": 60,
      "marks": {
       "bold": true
      },
      "toCodePoint": 75,
      "type": "marks"
     },
     {
      "fromCodePoint": 77,
      "marks": {
       "bold": true
      },
      "toCodePoint": 91,
      "type": "marks"
     }
    ],
    "is_collapsed": false,
    "tags": []
   },
   "source": [
    "- We can see that we have a normal distribution Texture_mean, Smoothness_mean, symmetry_mean."
   ]
  },
  {
   "cell_type": "markdown",
   "metadata": {
    "cell_id": "03cd9f07-c502-47fa-9423-871d40cd58d6",
    "deepnote_cell_type": "text-cell-bullet",
    "formattedRanges": [
     {
      "fromCodePoint": 40,
      "marks": {
       "bold": true,
       "italic": true
      },
      "toCodePoint": 57,
      "type": "marks"
     }
    ],
    "is_collapsed": false,
    "tags": []
   },
   "source": [
    "- All the features have a right skewness (Positive Skewness)."
   ]
  },
  {
   "cell_type": "code",
   "execution_count": null,
   "metadata": {
    "cell_id": "d5aa3fce9a344df091444bab8cb1e894",
    "deepnote_cell_type": "code",
    "deepnote_to_be_reexecuted": false,
    "execution_millis": 5043,
    "execution_start": 1670401032266,
    "source_hash": "e7d8a3eb",
    "tags": []
   },
   "outputs": [
    {
     "data": {
      "image/png": "[encoded data removed]",
      "text/plain": [
       "<Figure size 1000x800 with 10 Axes>"
      ]
     },
     "metadata": {
      "image/png": {
       "height": 811,
       "width": 1011
      }
     },
     "output_type": "display_data"
    }
   ],
   "source": [
    "fig, axs = plt.subplots(3, 4, figsize=(10, 8), constrained_layout=True)\n",
    "index = []\n",
    "for i in range(3):\n",
    "    for j in range(4):\n",
    "        index.append(axs[i][j])\n",
    "for i in range(10):\n",
    "    sns.histplot(\n",
    "        data=data, x=data.columns[i + 2], hue=data.columns[1], kde=True, ax=index[i]\n",
    "    ).set(title=data.columns[i + 2], xlabel=None, ylabel=None)\n",
    "\n",
    "axs[2, 2].remove()\n",
    "axs[2, 3].remove()\n",
    "fig.supxlabel(\"Value\").set_fontsize(14)\n",
    "fig.supylabel(\"Count\").set_fontsize(14)\n",
    "fig.suptitle(\"Distribution of data via Histograms grouped by malignancy\").set_fontsize(16)\n"
   ]
  },
  {
   "cell_type": "markdown",
   "metadata": {
    "cell_id": "61f950d1e0d445fdb057e70ef04f2e67",
    "deepnote_cell_type": "markdown",
    "tags": []
   },
   "source": [
    "<h4 style=\"color: red\">Notice:</h4>"
   ]
  },
  {
   "cell_type": "markdown",
   "metadata": {
    "cell_id": "1966864fc41b4acbb053ec3192e78fe6",
    "deepnote_cell_type": "text-cell-bullet",
    "formattedRanges": [
     {
      "fromCodePoint": 21,
      "marks": {
       "bold": true,
       "italic": true
      },
      "toCodePoint": 39,
      "type": "marks"
     },
     {
      "fromCodePoint": 45,
      "marks": {
       "bold": true,
       "italic": true
      },
      "toCodePoint": 54,
      "type": "marks"
     }
    ],
    "is_collapsed": false,
    "tags": []
   },
   "source": [
    "- Larger values have a higher correlation with malignant diagnosis."
   ]
  },
  {
   "cell_type": "markdown",
   "metadata": {
    "cell_id": "24d3145f7f7b4e219793f20601028782",
    "deepnote_cell_type": "text-cell-h2",
    "formattedRanges": [],
    "is_collapsed": false,
    "tags": []
   },
   "source": [
    "## Detect the outliers via Boxplot"
   ]
  },
  {
   "cell_type": "code",
   "execution_count": null,
   "metadata": {
    "cell_id": "19ec3edb4db84aed9f7e2b8a811116a7",
    "deepnote_cell_type": "code",
    "deepnote_to_be_reexecuted": false,
    "execution_millis": 2683,
    "execution_start": 1670401351668,
    "source_hash": "a35e029e",
    "tags": []
   },
   "outputs": [
    {
     "data": {
      "image/png": "[encoded data removed]",
      "text/plain": [
       "<Figure size 1000x800 with 10 Axes>"
      ]
     },
     "metadata": {
      "image/png": {
       "height": 811,
       "width": 1011
      }
     },
     "output_type": "display_data"
    }
   ],
   "source": [
    "fig, axs = plt.subplots(3, 4, figsize=(10,8),constrained_layout = True)\n",
    "index = []\n",
    "for i in range(3):\n",
    "    for j in range(4):\n",
    "        index.append(axs[i][j])\n",
    "for i in range(10):    \n",
    "    sns.boxplot(data=data,x=data.columns[i+2],y=data.columns[1],hue=data.columns[1],  ax=index[i], orient=\"h\").set(title=data.columns[i+2],xlabel=None,ylabel=None)\n",
    "\n",
    "axs[2,2].remove()\n",
    "axs[2,3].remove()\n",
    "fig.suptitle('Distribution of data via BoxPlot Grouped by Malignancy').set_fontsize(18)"
   ]
  },
  {
   "cell_type": "markdown",
   "metadata": {
    "cell_id": "824aac8985c44d4f80c25dca334858aa",
    "deepnote_cell_type": "markdown",
    "tags": []
   },
   "source": [
    "<h4 style=\"color: red\">Notice:</h4>"
   ]
  },
  {
   "cell_type": "markdown",
   "metadata": {
    "cell_id": "07f7ed7e0ea34cbb8938eaf28db805d7",
    "deepnote_cell_type": "text-cell-bullet",
    "formattedRanges": [
     {
      "fromCodePoint": 66,
      "marks": {
       "bold": true,
       "italic": true
      },
      "toCodePoint": 76,
      "type": "marks"
     }
    ],
    "is_collapsed": false,
    "tags": []
   },
   "source": [
    "- We can see that we have some outliers, but they do not impact the malignancy of a tumor."
   ]
  },
  {
   "cell_type": "code",
   "execution_count": null,
   "metadata": {
    "cell_id": "99b6550638fa4343bf7bfa3d926b6f2d",
    "deepnote_cell_type": "code",
    "deepnote_to_be_reexecuted": false,
    "execution_millis": 614,
    "execution_start": 1670403740781,
    "source_hash": "624b5f99",
    "tags": []
   },
   "outputs": [
    {
     "data": {
      "image/png": "[encoded data removed]",
      "text/plain": [
       "<Figure size 640x480 with 2 Axes>"
      ]
     },
     "metadata": {
      "image/png": {
       "height": 545,
       "width": 647
      }
     },
     "output_type": "display_data"
    }
   ],
   "source": [
    "import numpy as np\n",
    "import copy\n",
    "data1= copy.deepcopy(data)\n",
    "data1.replace(to_replace=['B','M'],value=[0,1],inplace=True)\n",
    "corr_matrix = data1[data1.columns[13:22]].corr()\n",
    "# Generate a mask for the upper triangle\n",
    "mask = np.triu(np.ones_like(corr_matrix, dtype=bool))\n",
    "plot = sns.heatmap(corr_matrix, mask=mask, cmap=\"YlGnBu\", annot=True)"
   ]
  },
  {
   "cell_type": "markdown",
   "metadata": {
    "cell_id": "341dd16f718245b68f5602d9f7516dc6",
    "deepnote_cell_type": "text-cell-h2",
    "formattedRanges": [],
    "is_collapsed": false,
    "tags": []
   },
   "source": [
    "## Observations"
   ]
  },
  {
   "cell_type": "markdown",
   "metadata": {
    "cell_id": "e651fa0e6e6544deae3447021df534ff",
    "deepnote_cell_type": "text-cell-bullet",
    "formattedRanges": [],
    "is_collapsed": false,
    "tags": []
   },
   "source": [
    "- Larger values of these parameters tends to show a correlation with malignant tumors."
   ]
  },
  {
   "cell_type": "markdown",
   "metadata": {
    "cell_id": "cb5b40fc-93bb-4a86-81f4-272e864f5ee3",
    "deepnote_cell_type": "text-cell-bullet",
    "formattedRanges": [],
    "is_collapsed": false,
    "tags": []
   },
   "source": [
    "- mean values of texture, smoothness, symmetry or fractal dimension does not show a particular preference of one diagnosis over the other."
   ]
  },
  {
   "cell_type": "markdown",
   "metadata": {
    "cell_id": "3691f333-8221-4400-96af-529293cbc85e",
    "deepnote_cell_type": "text-cell-bullet",
    "formattedRanges": [],
    "is_collapsed": false,
    "tags": []
   },
   "source": [
    "- In any of the histograms there are no noticeable large outliers that needs a further cleanup."
   ]
  },
  {
   "cell_type": "markdown",
   "metadata": {
    "cell_id": "4125222dec0e455dba3f8ff03b9f9fd3",
    "deepnote_cell_type": "markdown",
    "tags": []
   },
   "source": [
    "<h1 style=\"color: green;\">Generating the model dataset</h1>"
   ]
  },
  {
   "cell_type": "markdown",
   "metadata": {
    "cell_id": "bba486ed34084bf095de18f9f63e0a93",
    "deepnote_cell_type": "text-cell-h2",
    "formattedRanges": [],
    "is_collapsed": false,
    "tags": []
   },
   "source": [
    "## Features selection"
   ]
  },
  {
   "cell_type": "markdown",
   "metadata": {
    "cell_id": "b100e438f0554117a000c9709c945156",
    "deepnote_cell_type": "text-cell-p",
    "formattedRanges": [
     {
      "fromCodePoint": 81,
      "marks": {
       "bold": true,
       "italic": true
      },
      "toCodePoint": 85,
      "type": "marks"
     }
    ],
    "is_collapsed": false,
    "tags": []
   },
   "source": [
    "To choose the best features for our model we will use a threshold value equal to 0.60."
   ]
  },
  {
   "cell_type": "code",
   "execution_count": null,
   "metadata": {
    "cell_id": "d3795bc22ff14a02a52879ca66fb8648",
    "deepnote_cell_type": "code",
    "deepnote_to_be_reexecuted": false,
    "execution_millis": 22,
    "execution_start": 1670404397523,
    "source_hash": "6d9f03d7",
    "tags": []
   },
   "outputs": [
    {
     "data": {
      "text/plain": [
       "diagnosis               1.000000\n",
       "Radius_mean             0.730029\n",
       "perimeter_mean          0.742636\n",
       "area_mean               0.708984\n",
       "concavity_mean          0.696360\n",
       "concave points_mean     0.776614\n",
       "radius_worst            0.776454\n",
       "perimeter_worst         0.782914\n",
       "area_worst              0.733825\n",
       "concavity_worst         0.659610\n",
       "concave points_worst    0.793566\n",
       "dtype: float64"
      ]
     },
     "execution_count": 96,
     "metadata": {},
     "output_type": "execute_result"
    }
   ],
   "source": [
    "# Correlation with malignancy\n",
    "corr_var = data1.corrwith(data1.diagnosis)\n",
    "\n",
    "# Thershold value\n",
    "seuil = 0.6\n",
    "\n",
    "# The output\n",
    "corr_var[corr_var > seuil]\n"
   ]
  },
  {
   "cell_type": "markdown",
   "metadata": {
    "cell_id": "e218c50e8fcf4c7db9603c668005d594",
    "deepnote_cell_type": "text-cell-h2",
    "formattedRanges": [],
    "is_collapsed": false,
    "tags": []
   },
   "source": [
    "## Generate the final data"
   ]
  },
  {
   "cell_type": "code",
   "execution_count": null,
   "metadata": {
    "cell_id": "5e7ecd14fc854644834bd478725eb9fc",
    "deepnote_cell_type": "code",
    "deepnote_to_be_reexecuted": false,
    "execution_millis": 31,
    "execution_start": 1670404651825,
    "source_hash": "f25e7c2",
    "tags": []
   },
   "outputs": [
    {
     "data": {
      "application/vnd.deepnote.dataframe.v3+json": {
       "column_count": 11,
       "columns": [
        {
         "dtype": "int64",
         "name": "diagnosis",
         "stats": {
          "histogram": [
           {
            "bin_end": 0.6,
            "bin_start": 0.5,
            "count": 0
           },
           {
            "bin_end": 0.7,
            "bin_start": 0.6,
            "count": 0
           },
           {
            "bin_end": 0.8,
            "bin_start": 0.7,
            "count": 0
           },
           {
            "bin_end": 0.9,
            "bin_start": 0.8,
            "count": 0
           },
           {
            "bin_end": 1,
            "bin_start": 0.9,
            "count": 0
           },
           {
            "bin_end": 1.1,
            "bin_start": 1,
            "count": 5
           },
           {
            "bin_end": 1.2000000000000002,
            "bin_start": 1.1,
            "count": 0
           },
           {
            "bin_end": 1.3,
            "bin_start": 1.2000000000000002,
            "count": 0
           },
           {
            "bin_end": 1.4,
            "bin_start": 1.3,
            "count": 0
           },
           {
            "bin_end": 1.5,
            "bin_start": 1.4,
            "count": 0
           }
          ],
          "max": "1",
          "min": "1",
          "nan_count": 0,
          "unique_count": 1
         }
        },
        {
         "dtype": "float64",
         "name": "Radius_mean",
         "stats": {
          "histogram": [
           {
            "bin_end": 12.335,
            "bin_start": 11.42,
            "count": 1
           },
           {
            "bin_end": 13.25,
            "bin_start": 12.335,
            "count": 0
           },
           {
            "bin_end": 14.165,
            "bin_start": 13.25,
            "count": 0
           },
           {
            "bin_end": 15.08,
            "bin_start": 14.165,
            "count": 0
           },
           {
            "bin_end": 15.995000000000001,
            "bin_start": 15.08,
            "count": 0
           },
           {
            "bin_end": 16.91,
            "bin_start": 15.995000000000001,
            "count": 0
           },
           {
            "bin_end": 17.825,
            "bin_start": 16.91,
            "count": 0
           },
           {
            "bin_end": 18.740000000000002,
            "bin_start": 17.825,
            "count": 1
           },
           {
            "bin_end": 19.655,
            "bin_start": 18.740000000000002,
            "count": 0
           },
           {
            "bin_end": 20.57,
            "bin_start": 19.655,
            "count": 3
           }
          ],
          "max": "20.57",
          "min": "11.42",
          "nan_count": 0,
          "unique_count": 5
         }
        },
        {
         "dtype": "float64",
         "name": "perimeter_mean",
         "stats": {
          "histogram": [
           {
            "bin_end": 83.332,
            "bin_start": 77.58,
            "count": 1
           },
           {
            "bin_end": 89.084,
            "bin_start": 83.332,
            "count": 0
           },
           {
            "bin_end": 94.836,
            "bin_start": 89.084,
            "count": 0
           },
           {
            "bin_end": 100.588,
            "bin_start": 94.836,
            "count": 0
           },
           {
            "bin_end": 106.34,
            "bin_start": 100.588,
            "count": 0
           },
           {
            "bin_end": 112.092,
            "bin_start": 106.34,
            "count": 0
           },
           {
            "bin_end": 117.844,
            "bin_start": 112.092,
            "count": 0
           },
           {
            "bin_end": 123.596,
            "bin_start": 117.844,
            "count": 1
           },
           {
            "bin_end": 129.348,
            "bin_start": 123.596,
            "count": 0
           },
           {
            "bin_end": 135.1,
            "bin_start": 129.348,
            "count": 3
           }
          ],
          "max": "135.1",
          "min": "77.58",
          "nan_count": 0,
          "unique_count": 5
         }
        },
        {
         "dtype": "float64",
         "name": "area_mean",
         "stats": {
          "histogram": [
           {
            "bin_end": 480.09000000000003,
            "bin_start": 386.1,
            "count": 1
           },
           {
            "bin_end": 574.08,
            "bin_start": 480.09000000000003,
            "count": 0
           },
           {
            "bin_end": 668.0699999999999,
            "bin_start": 574.08,
            "count": 0
           },
           {
            "bin_end": 762.06,
            "bin_start": 668.0699999999999,
            "count": 0
           },
           {
            "bin_end": 856.05,
            "bin_start": 762.06,
            "count": 0
           },
           {
            "bin_end": 950.04,
            "bin_start": 856.05,
            "count": 0
           },
           {
            "bin_end": 1044.03,
            "bin_start": 950.04,
            "count": 1
           },
           {
            "bin_end": 1138.02,
            "bin_start": 1044.03,
            "count": 0
           },
           {
            "bin_end": 1232.01,
            "bin_start": 1138.02,
            "count": 1
           },
           {
            "bin_end": 1326,
            "bin_start": 1232.01,
            "count": 2
           }
          ],
          "max": "1326.0",
          "min": "386.1",
          "nan_count": 0,
          "unique_count": 5
         }
        },
        {
         "dtype": "float64",
         "name": "concavity_mean",
         "stats": {
          "histogram": [
           {
            "bin_end": 0.10822000000000001,
            "bin_start": 0.0869,
            "count": 1
           },
           {
            "bin_end": 0.12954,
            "bin_start": 0.10822000000000001,
            "count": 0
           },
           {
            "bin_end": 0.15086,
            "bin_start": 0.12954,
            "count": 0
           },
           {
            "bin_end": 0.17218,
            "bin_start": 0.15086,
            "count": 0
           },
           {
            "bin_end": 0.1935,
            "bin_start": 0.17218,
            "count": 0
           },
           {
            "bin_end": 0.21481999999999998,
            "bin_start": 0.1935,
            "count": 2
           },
           {
            "bin_end": 0.23614,
            "bin_start": 0.21481999999999998,
            "count": 0
           },
           {
            "bin_end": 0.25746,
            "bin_start": 0.23614,
            "count": 1
           },
           {
            "bin_end": 0.27878000000000003,
            "bin_start": 0.25746,
            "count": 0
           },
           {
            "bin_end": 0.3001,
            "bin_start": 0.27878000000000003,
            "count": 1
           }
          ],
          "max": "0.3001",
          "min": "0.0869",
          "nan_count": 0,
          "unique_count": 5
         }
        },
        {
         "dtype": "float64",
         "name": "concave points_mean",
         "stats": {
          "histogram": [
           {
            "bin_end": 0.077863,
            "bin_start": 0.07017,
            "count": 1
           },
           {
            "bin_end": 0.085556,
            "bin_start": 0.077863,
            "count": 0
           },
           {
            "bin_end": 0.093249,
            "bin_start": 0.085556,
            "count": 0
           },
           {
            "bin_end": 0.100942,
            "bin_start": 0.093249,
            "count": 0
           },
           {
            "bin_end": 0.10863500000000001,
            "bin_start": 0.100942,
            "count": 2
           },
           {
            "bin_end": 0.116328,
            "bin_start": 0.10863500000000001,
            "count": 0
           },
           {
            "bin_end": 0.124021,
            "bin_start": 0.116328,
            "count": 0
           },
           {
            "bin_end": 0.131714,
            "bin_start": 0.124021,
            "count": 1
           },
           {
            "bin_end": 0.139407,
            "bin_start": 0.131714,
            "count": 0
           },
           {
            "bin_end": 0.1471,
            "bin_start": 0.139407,
            "count": 1
           }
          ],
          "max": "0.1471",
          "min": "0.07017",
          "nan_count": 0,
          "unique_count": 5
         }
        },
        {
         "dtype": "float64",
         "name": "radius_worst",
         "stats": {
          "histogram": [
           {
            "bin_end": 15.957,
            "bin_start": 14.91,
            "count": 1
           },
           {
            "bin_end": 17.004,
            "bin_start": 15.957,
            "count": 0
           },
           {
            "bin_end": 18.051000000000002,
            "bin_start": 17.004,
            "count": 0
           },
           {
            "bin_end": 19.098,
            "bin_start": 18.051000000000002,
            "count": 0
           },
           {
            "bin_end": 20.145,
            "bin_start": 19.098,
            "count": 0
           },
           {
            "bin_end": 21.192,
            "bin_start": 20.145,
            "count": 0
           },
           {
            "bin_end": 22.239,
            "bin_start": 21.192,
            "count": 0
           },
           {
            "bin_end": 23.286,
            "bin_start": 22.239,
            "count": 1
           },
           {
            "bin_end": 24.333,
            "bin_start": 23.286,
            "count": 1
           },
           {
            "bin_end": 25.38,
            "bin_start": 24.333,
            "count": 2
           }
          ],
          "max": "25.38",
          "min": "14.91",
          "nan_count": 0,
          "unique_count": 5
         }
        },
        {
         "dtype": "float64",
         "name": "perimeter_worst",
         "stats": {
          "histogram": [
           {
            "bin_end": 107.443,
            "bin_start": 98.87,
            "count": 1
           },
           {
            "bin_end": 116.016,
            "bin_start": 107.443,
            "count": 0
           },
           {
            "bin_end": 124.589,
            "bin_start": 116.016,
            "count": 0
           },
           {
            "bin_end": 133.162,
            "bin_start": 124.589,
            "count": 0
           },
           {
            "bin_end": 141.735,
            "bin_start": 133.162,
            "count": 0
           },
           {
            "bin_end": 150.308,
            "bin_start": 141.735,
            "count": 0
           },
           {
            "bin_end": 158.881,
            "bin_start": 150.308,
            "count": 3
           },
           {
            "bin_end": 167.454,
            "bin_start": 158.881,
            "count": 0
           },
           {
            "bin_end": 176.027,
            "bin_start": 167.454,
            "count": 0
           },
           {
            "bin_end": 184.6,
            "bin_start": 176.027,
            "count": 1
           }
          ],
          "max": "184.6",
          "min": "98.87",
          "nan_count": 0,
          "unique_count": 5
         }
        },
        {
         "dtype": "float64",
         "name": "area_worst",
         "stats": {
          "histogram": [
           {
            "bin_end": 712.83,
            "bin_start": 567.7,
            "count": 1
           },
           {
            "bin_end": 857.96,
            "bin_start": 712.83,
            "count": 0
           },
           {
            "bin_end": 1003.09,
            "bin_start": 857.96,
            "count": 0
           },
           {
            "bin_end": 1148.22,
            "bin_start": 1003.09,
            "count": 0
           },
           {
            "bin_end": 1293.35,
            "bin_start": 1148.22,
            "count": 0
           },
           {
            "bin_end": 1438.48,
            "bin_start": 1293.35,
            "count": 0
           },
           {
            "bin_end": 1583.6100000000001,
            "bin_start": 1438.48,
            "count": 1
           },
           {
            "bin_end": 1728.74,
            "bin_start": 1583.6100000000001,
            "count": 1
           },
           {
            "bin_end": 1873.8700000000001,
            "bin_start": 1728.74,
            "count": 0
           },
           {
            "bin_end": 2019,
            "bin_start": 1873.8700000000001,
            "count": 2
           }
          ],
          "max": "2019.0",
          "min": "567.7",
          "nan_count": 0,
          "unique_count": 5
         }
        },
        {
         "dtype": "float64",
         "name": "concavity_worst",
         "stats": {
          "histogram": [
           {
            "bin_end": 0.28863,
            "bin_start": 0.2416,
            "count": 1
           },
           {
            "bin_end": 0.33566,
            "bin_start": 0.28863,
            "count": 0
           },
           {
            "bin_end": 0.38269,
            "bin_start": 0.33566,
            "count": 0
           },
           {
            "bin_end": 0.42972,
            "bin_start": 0.38269,
            "count": 1
           },
           {
            "bin_end": 0.47675,
            "bin_start": 0.42972,
            "count": 1
           },
           {
            "bin_end": 0.52378,
            "bin_start": 0.47675,
            "count": 0
           },
           {
            "bin_end": 0.5708099999999999,
            "bin_start": 0.52378,
            "count": 0
           },
           {
            "bin_end": 0.61784,
            "bin_start": 0.5708099999999999,
            "count": 0
           },
           {
            "bin_end": 0.66487,
            "bin_start": 0.61784,
            "count": 0
           },
           {
            "bin_end": 0.7119,
            "bin_start": 0.66487,
            "count": 2
           }
          ],
          "max": "0.7119",
          "min": "0.2416",
          "nan_count": 0,
          "unique_count": 5
         }
        },
        {
         "dtype": "float64",
         "name": "concave points_worst",
         "stats": {
          "histogram": [
           {
            "bin_end": 0.17279,
            "bin_start": 0.1625,
            "count": 1
           },
           {
            "bin_end": 0.18308000000000002,
            "bin_start": 0.17279,
            "count": 0
           },
           {
            "bin_end": 0.19337000000000001,
            "bin_start": 0.18308000000000002,
            "count": 1
           },
           {
            "bin_end": 0.20366,
            "bin_start": 0.19337000000000001,
            "count": 0
           },
           {
            "bin_end": 0.21395000000000003,
            "bin_start": 0.20366,
            "count": 0
           },
           {
            "bin_end": 0.22424000000000002,
            "bin_start": 0.21395000000000003,
            "count": 0
           },
           {
            "bin_end": 0.23453000000000002,
            "bin_start": 0.22424000000000002,
            "count": 0
           },
           {
            "bin_end": 0.24482000000000004,
            "bin_start": 0.23453000000000002,
            "count": 1
           },
           {
            "bin_end": 0.25511000000000006,
            "bin_start": 0.24482000000000004,
            "count": 0
           },
           {
            "bin_end": 0.2654,
            "bin_start": 0.25511000000000006,
            "count": 2
           }
          ],
          "max": "0.2654",
          "min": "0.1625",
          "nan_count": 0,
          "unique_count": 5
         }
        },
        {
         "dtype": "int64",
         "name": "_deepnote_index_column"
        }
       ],
       "row_count": 5,
       "rows": [
        {
         "Radius_mean": "17.99",
         "_deepnote_index_column": "0",
         "area_mean": "1001.0",
         "area_worst": "2019.0",
         "concave points_mean": "0.1471",
         "concave points_worst": "0.2654",
         "concavity_mean": "0.3001",
         "concavity_worst": "0.7119",
         "diagnosis": "1",
         "perimeter_mean": "122.8",
         "perimeter_worst": "184.6",
         "radius_worst": "25.38"
        },
        {
         "Radius_mean": "20.57",
         "_deepnote_index_column": "1",
         "area_mean": "1326.0",
         "area_worst": "1956.0",
         "concave points_mean": "0.07017",
         "concave points_worst": "0.186",
         "concavity_mean": "0.0869",
         "concavity_worst": "0.2416",
         "diagnosis": "1",
         "perimeter_mean": "132.9",
         "perimeter_worst": "158.8",
         "radius_worst": "24.99"
        },
        {
         "Radius_mean": "19.69",
         "_deepnote_index_column": "2",
         "area_mean": "1203.0",
         "area_worst": "1709.0",
         "concave points_mean": "0.1279",
         "concave points_worst": "0.243",
         "concavity_mean": "0.1974",
         "concavity_worst": "0.4504",
         "diagnosis": "1",
         "perimeter_mean": "130.0",
         "perimeter_worst": "152.5",
         "radius_worst": "23.57"
        },
        {
         "Radius_mean": "11.42",
         "_deepnote_index_column": "3",
         "area_mean": "386.1",
         "area_worst": "567.7",
         "concave points_mean": "0.1052",
         "concave points_worst": "0.2575",
         "concavity_mean": "0.2414",
         "concavity_worst": "0.6869",
         "diagnosis": "1",
         "perimeter_mean": "77.58",
         "perimeter_worst": "98.87",
         "radius_worst": "14.91"
        },
        {
         "Radius_mean": "20.29",
         "_deepnote_index_column": "4",
         "area_mean": "1297.0",
         "area_worst": "1575.0",
         "concave points_mean": "0.1043",
         "concave points_worst": "0.1625",
         "concavity_mean": "0.198",
         "concavity_worst": "0.4",
         "diagnosis": "1",
         "perimeter_mean": "135.1",
         "perimeter_worst": "152.2",
         "radius_worst": "22.54"
        }
       ]
      },
      "text/html": [
       "<div>\n",
       "<style scoped>\n",
       "    .dataframe tbody tr th:only-of-type {\n",
       "        vertical-align: middle;\n",
       "    }\n",
       "\n",
       "    .dataframe tbody tr th {\n",
       "        vertical-align: top;\n",
       "    }\n",
       "\n",
       "    .dataframe thead th {\n",
       "        text-align: right;\n",
       "    }\n",
       "</style>\n",
       "<table border=\"1\" class=\"dataframe\">\n",
       "  <thead>\n",
       "    <tr style=\"text-align: right;\">\n",
       "      <th></th>\n",
       "      <th>diagnosis</th>\n",
       "      <th>Radius_mean</th>\n",
       "      <th>perimeter_mean</th>\n",
       "      <th>area_mean</th>\n",
       "      <th>concavity_mean</th>\n",
       "      <th>concave points_mean</th>\n",
       "      <th>radius_worst</th>\n",
       "      <th>perimeter_worst</th>\n",
       "      <th>area_worst</th>\n",
       "      <th>concavity_worst</th>\n",
       "      <th>concave points_worst</th>\n",
       "    </tr>\n",
       "  </thead>\n",
       "  <tbody>\n",
       "    <tr>\n",
       "      <th>0</th>\n",
       "      <td>1</td>\n",
       "      <td>17.99</td>\n",
       "      <td>122.80</td>\n",
       "      <td>1001.0</td>\n",
       "      <td>0.3001</td>\n",
       "      <td>0.14710</td>\n",
       "      <td>25.38</td>\n",
       "      <td>184.60</td>\n",
       "      <td>2019.0</td>\n",
       "      <td>0.7119</td>\n",
       "      <td>0.2654</td>\n",
       "    </tr>\n",
       "    <tr>\n",
       "      <th>1</th>\n",
       "      <td>1</td>\n",
       "      <td>20.57</td>\n",
       "      <td>132.90</td>\n",
       "      <td>1326.0</td>\n",
       "      <td>0.0869</td>\n",
       "      <td>0.07017</td>\n",
       "      <td>24.99</td>\n",
       "      <td>158.80</td>\n",
       "      <td>1956.0</td>\n",
       "      <td>0.2416</td>\n",
       "      <td>0.1860</td>\n",
       "    </tr>\n",
       "    <tr>\n",
       "      <th>2</th>\n",
       "      <td>1</td>\n",
       "      <td>19.69</td>\n",
       "      <td>130.00</td>\n",
       "      <td>1203.0</td>\n",
       "      <td>0.1974</td>\n",
       "      <td>0.12790</td>\n",
       "      <td>23.57</td>\n",
       "      <td>152.50</td>\n",
       "      <td>1709.0</td>\n",
       "      <td>0.4504</td>\n",
       "      <td>0.2430</td>\n",
       "    </tr>\n",
       "    <tr>\n",
       "      <th>3</th>\n",
       "      <td>1</td>\n",
       "      <td>11.42</td>\n",
       "      <td>77.58</td>\n",
       "      <td>386.1</td>\n",
       "      <td>0.2414</td>\n",
       "      <td>0.10520</td>\n",
       "      <td>14.91</td>\n",
       "      <td>98.87</td>\n",
       "      <td>567.7</td>\n",
       "      <td>0.6869</td>\n",
       "      <td>0.2575</td>\n",
       "    </tr>\n",
       "    <tr>\n",
       "      <th>4</th>\n",
       "      <td>1</td>\n",
       "      <td>20.29</td>\n",
       "      <td>135.10</td>\n",
       "      <td>1297.0</td>\n",
       "      <td>0.1980</td>\n",
       "      <td>0.10430</td>\n",
       "      <td>22.54</td>\n",
       "      <td>152.20</td>\n",
       "      <td>1575.0</td>\n",
       "      <td>0.4000</td>\n",
       "      <td>0.1625</td>\n",
       "    </tr>\n",
       "  </tbody>\n",
       "</table>\n",
       "</div>"
      ],
      "text/plain": [
       "   diagnosis  Radius_mean  perimeter_mean  area_mean  concavity_mean  \\\n",
       "0          1        17.99          122.80     1001.0          0.3001   \n",
       "1          1        20.57          132.90     1326.0          0.0869   \n",
       "2          1        19.69          130.00     1203.0          0.1974   \n",
       "3          1        11.42           77.58      386.1          0.2414   \n",
       "4          1        20.29          135.10     1297.0          0.1980   \n",
       "\n",
       "   concave points_mean  radius_worst  perimeter_worst  area_worst  \\\n",
       "0              0.14710         25.38           184.60      2019.0   \n",
       "1              0.07017         24.99           158.80      1956.0   \n",
       "2              0.12790         23.57           152.50      1709.0   \n",
       "3              0.10520         14.91            98.87       567.7   \n",
       "4              0.10430         22.54           152.20      1575.0   \n",
       "\n",
       "   concavity_worst  concave points_worst  \n",
       "0           0.7119                0.2654  \n",
       "1           0.2416                0.1860  \n",
       "2           0.4504                0.2430  \n",
       "3           0.6869                0.2575  \n",
       "4           0.4000                0.1625  "
      ]
     },
     "execution_count": 100,
     "metadata": {},
     "output_type": "execute_result"
    }
   ],
   "source": [
    "data_final = data1[data1.columns[corr_var > seuil]]\n",
    "data_final.head()"
   ]
  },
  {
   "cell_type": "code",
   "execution_count": null,
   "metadata": {
    "cell_id": "013d308605fc4f64a3134f990c061cf1",
    "deepnote_cell_type": "code",
    "deepnote_to_be_reexecuted": false,
    "execution_millis": 10,
    "execution_start": 1670405359366,
    "source_hash": "ab470215",
    "tags": []
   },
   "outputs": [
    {
     "name": "stdout",
     "output_type": "stream",
     "text": [
      "Compelete\n"
     ]
    }
   ],
   "source": [
    "# the csv file for model data\n",
    "data_final.to_csv('model_data.csv', index=False)\n",
    "print('Compelete')"
   ]
  },
  {
   "cell_type": "markdown",
   "metadata": {
    "cell_id": "05acdb3605634e6cba313c50bf69a1ba",
    "deepnote_cell_type": "markdown",
    "tags": []
   },
   "source": [
    "<hr>\n",
    "<p style=\"text-align: right\">Breast Cancer, EDA | <span style=\"color: green\">Successfuly Completed</span></p>"
   ]
  },
  {
   "cell_type": "markdown",
   "metadata": {
    "created_in_deepnote_cell": true,
    "deepnote_cell_type": "markdown",
    "tags": []
   },
   "source": [
    "<a style='text-decoration:none;line-height:16px;display:flex;color:#5B5B62;padding:10px;justify-content:end;' href='https://deepnote.com?utm_source=created-in-deepnote-cell&projectId=9bbe9ee2-d8a7-4805-9f8f-4e89f150f368' target=\"_blank\">\n",
    "<img alt='Created in deepnote.com' style='display:inline;max-height:16px;margin:0px;margin-right:7.5px;' src='data:image/svg+xml;base64,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' > </img>\n",
    "Created in <span style='font-weight:600;margin-left:4px;'>Deepnote</span></a>"
   ]
  }
 ],
 "metadata": {
  "deepnote": {},
  "deepnote_execution_queue": [],
  "deepnote_notebook_id": "7b934c3777d34aebb0a9356bb8614581",
  "deepnote_persisted_session": {
   "createdAt": "2022-12-07T10:31:28.356Z"
  },
  "kernelspec": {
   "display_name": "Python 3 (ipykernel)",
   "language": "python",
   "name": "python3"
  },
  "language_info": {
   "codemirror_mode": {
    "name": "ipython",
    "version": 3
   },
   "file_extension": ".py",
   "mimetype": "text/x-python",
   "name": "python",
   "nbconvert_exporter": "python",
   "pygments_lexer": "ipython3",
   "version": "3.9.13"
  }
 },
 "nbformat": 4,
 "nbformat_minor": 1
}
