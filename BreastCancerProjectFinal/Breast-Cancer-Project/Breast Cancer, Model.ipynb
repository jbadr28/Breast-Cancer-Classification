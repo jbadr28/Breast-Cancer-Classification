{
 "cells": [
  {
   "cell_type": "markdown",
   "metadata": {
    "cell_id": "1e05aa35f6af411e9f66903ce5402eca",
    "deepnote_cell_type": "markdown",
    "tags": []
   },
   "source": [
    "<h1 style=\"color: red; text-align: center;\">Breast Cancer, Model</h1>\n",
    "<h2 style=\"color: blue; text-align: center;\">National School of Applied Science</h2>\n",
    "<h3 style=\"color: green; text-align: center;\">Supervisor:  Pr.Hayat ROUTAIB</h3>\n",
    "<hr width: 5px>\n",
    "<h3>❖ Authors:</h3>\n",
    "<p>TATI Mohammed<br>JALILI Badr Eddine</p>\n",
    "<p style=\"text-align: right;\"><b>07-DEC | <span style=\"color: green;\">2022</span></b></p> "
   ]
  },
  {
   "cell_type": "markdown",
   "metadata": {
    "cell_id": "6e39278721cb45ba96fd7160f43608dc",
    "deepnote_cell_type": "text-cell-h2",
    "formattedRanges": [],
    "is_collapsed": false,
    "tags": []
   },
   "source": [
    "## Importing the data"
   ]
  },
  {
   "cell_type": "code",
   "execution_count": 1,
   "metadata": {
    "cell_id": "ac885d01c195408191f674f602e5d034",
    "deepnote_cell_type": "code",
    "deepnote_to_be_reexecuted": false,
    "execution_millis": 257,
    "execution_start": 1670700267017,
    "source_hash": "d081d3fe",
    "tags": []
   },
   "outputs": [
    {
     "data": {
      "application/vnd.deepnote.dataframe.v3+json": {
       "column_count": 11,
       "columns": [
        {
         "dtype": "int64",
         "name": "diagnosis",
         "stats": {
          "histogram": [
           {
            "bin_end": 0.1,
            "bin_start": 0,
            "count": 1
           },
           {
            "bin_end": 0.2,
            "bin_start": 0.1,
            "count": 0
           },
           {
            "bin_end": 0.30000000000000004,
            "bin_start": 0.2,
            "count": 0
           },
           {
            "bin_end": 0.4,
            "bin_start": 0.30000000000000004,
            "count": 0
           },
           {
            "bin_end": 0.5,
            "bin_start": 0.4,
            "count": 0
           },
           {
            "bin_end": 0.6000000000000001,
            "bin_start": 0.5,
            "count": 0
           },
           {
            "bin_end": 0.7000000000000001,
            "bin_start": 0.6000000000000001,
            "count": 0
           },
           {
            "bin_end": 0.8,
            "bin_start": 0.7000000000000001,
            "count": 0
           },
           {
            "bin_end": 0.9,
            "bin_start": 0.8,
            "count": 0
           },
           {
            "bin_end": 1,
            "bin_start": 0.9,
            "count": 4
           }
          ],
          "max": "1",
          "min": "0",
          "nan_count": 0,
          "unique_count": 2
         }
        },
        {
         "dtype": "float64",
         "name": "Radius_mean",
         "stats": {
          "histogram": [
           {
            "bin_end": 9.14,
            "bin_start": 7.76,
            "count": 1
           },
           {
            "bin_end": 10.52,
            "bin_start": 9.14,
            "count": 0
           },
           {
            "bin_end": 11.899999999999999,
            "bin_start": 10.52,
            "count": 0
           },
           {
            "bin_end": 13.28,
            "bin_start": 11.899999999999999,
            "count": 0
           },
           {
            "bin_end": 14.66,
            "bin_start": 13.28,
            "count": 0
           },
           {
            "bin_end": 16.04,
            "bin_start": 14.66,
            "count": 0
           },
           {
            "bin_end": 17.42,
            "bin_start": 16.04,
            "count": 1
           },
           {
            "bin_end": 18.799999999999997,
            "bin_start": 17.42,
            "count": 0
           },
           {
            "bin_end": 20.18,
            "bin_start": 18.799999999999997,
            "count": 1
           },
           {
            "bin_end": 21.56,
            "bin_start": 20.18,
            "count": 2
           }
          ],
          "max": "21.56",
          "min": "7.76",
          "nan_count": 0,
          "unique_count": 5
         }
        },
        {
         "dtype": "float64",
         "name": "perimeter_mean",
         "stats": {
          "histogram": [
           {
            "bin_end": 57.328,
            "bin_start": 47.92,
            "count": 1
           },
           {
            "bin_end": 66.736,
            "bin_start": 57.328,
            "count": 0
           },
           {
            "bin_end": 76.144,
            "bin_start": 66.736,
            "count": 0
           },
           {
            "bin_end": 85.55199999999999,
            "bin_start": 76.144,
            "count": 0
           },
           {
            "bin_end": 94.96000000000001,
            "bin_start": 85.55199999999999,
            "count": 0
           },
           {
            "bin_end": 104.368,
            "bin_start": 94.96000000000001,
            "count": 0
           },
           {
            "bin_end": 113.776,
            "bin_start": 104.368,
            "count": 1
           },
           {
            "bin_end": 123.184,
            "bin_start": 113.776,
            "count": 0
           },
           {
            "bin_end": 132.59199999999998,
            "bin_start": 123.184,
            "count": 1
           },
           {
            "bin_end": 142,
            "bin_start": 132.59199999999998,
            "count": 2
           }
          ],
          "max": "142.0",
          "min": "47.92",
          "nan_count": 0,
          "unique_count": 5
         }
        },
        {
         "dtype": "float64",
         "name": "area_mean",
         "stats": {
          "histogram": [
           {
            "bin_end": 310.8,
            "bin_start": 181,
            "count": 1
           },
           {
            "bin_end": 440.6,
            "bin_start": 310.8,
            "count": 0
           },
           {
            "bin_end": 570.4000000000001,
            "bin_start": 440.6,
            "count": 0
           },
           {
            "bin_end": 700.2,
            "bin_start": 570.4000000000001,
            "count": 0
           },
           {
            "bin_end": 830,
            "bin_start": 700.2,
            "count": 0
           },
           {
            "bin_end": 959.8000000000001,
            "bin_start": 830,
            "count": 1
           },
           {
            "bin_end": 1089.6000000000001,
            "bin_start": 959.8000000000001,
            "count": 0
           },
           {
            "bin_end": 1219.4,
            "bin_start": 1089.6000000000001,
            "count": 0
           },
           {
            "bin_end": 1349.2,
            "bin_start": 1219.4,
            "count": 2
           },
           {
            "bin_end": 1479,
            "bin_start": 1349.2,
            "count": 1
           }
          ],
          "max": "1479.0",
          "min": "181.0",
          "nan_count": 0,
          "unique_count": 5
         }
        },
        {
         "dtype": "float64",
         "name": "concavity_mean",
         "stats": {
          "histogram": [
           {
            "bin_end": 0.03514,
            "bin_start": 0,
            "count": 1
           },
           {
            "bin_end": 0.07028,
            "bin_start": 0.03514,
            "count": 0
           },
           {
            "bin_end": 0.10541999999999999,
            "bin_start": 0.07028,
            "count": 1
           },
           {
            "bin_end": 0.14056,
            "bin_start": 0.10541999999999999,
            "count": 0
           },
           {
            "bin_end": 0.1757,
            "bin_start": 0.14056,
            "count": 1
           },
           {
            "bin_end": 0.21083999999999997,
            "bin_start": 0.1757,
            "count": 0
           },
           {
            "bin_end": 0.24597999999999998,
            "bin_start": 0.21083999999999997,
            "count": 1
           },
           {
            "bin_end": 0.28112,
            "bin_start": 0.24597999999999998,
            "count": 0
           },
           {
            "bin_end": 0.31626,
            "bin_start": 0.28112,
            "count": 0
           },
           {
            "bin_end": 0.3514,
            "bin_start": 0.31626,
            "count": 1
           }
          ],
          "max": "0.3514",
          "min": "0.0",
          "nan_count": 0,
          "unique_count": 5
         }
        },
        {
         "dtype": "float64",
         "name": "concave points_mean",
         "stats": {
          "histogram": [
           {
            "bin_end": 0.0152,
            "bin_start": 0,
            "count": 1
           },
           {
            "bin_end": 0.0304,
            "bin_start": 0.0152,
            "count": 0
           },
           {
            "bin_end": 0.0456,
            "bin_start": 0.0304,
            "count": 0
           },
           {
            "bin_end": 0.0608,
            "bin_start": 0.0456,
            "count": 1
           },
           {
            "bin_end": 0.076,
            "bin_start": 0.0608,
            "count": 0
           },
           {
            "bin_end": 0.0912,
            "bin_start": 0.076,
            "count": 0
           },
           {
            "bin_end": 0.1064,
            "bin_start": 0.0912,
            "count": 1
           },
           {
            "bin_end": 0.1216,
            "bin_start": 0.1064,
            "count": 0
           },
           {
            "bin_end": 0.1368,
            "bin_start": 0.1216,
            "count": 0
           },
           {
            "bin_end": 0.152,
            "bin_start": 0.1368,
            "count": 2
           }
          ],
          "max": "0.152",
          "min": "0.0",
          "nan_count": 0,
          "unique_count": 5
         }
        },
        {
         "dtype": "float64",
         "name": "radius_worst",
         "stats": {
          "histogram": [
           {
            "bin_end": 11.084399999999999,
            "bin_start": 9.456,
            "count": 1
           },
           {
            "bin_end": 12.7128,
            "bin_start": 11.084399999999999,
            "count": 0
           },
           {
            "bin_end": 14.341199999999999,
            "bin_start": 12.7128,
            "count": 0
           },
           {
            "bin_end": 15.9696,
            "bin_start": 14.341199999999999,
            "count": 0
           },
           {
            "bin_end": 17.598,
            "bin_start": 15.9696,
            "count": 0
           },
           {
            "bin_end": 19.226399999999998,
            "bin_start": 17.598,
            "count": 1
           },
           {
            "bin_end": 20.854799999999997,
            "bin_start": 19.226399999999998,
            "count": 0
           },
           {
            "bin_end": 22.483199999999997,
            "bin_start": 20.854799999999997,
            "count": 0
           },
           {
            "bin_end": 24.111599999999996,
            "bin_start": 22.483199999999997,
            "count": 1
           },
           {
            "bin_end": 25.74,
            "bin_start": 24.111599999999996,
            "count": 2
           }
          ],
          "max": "25.74",
          "min": "9.456",
          "nan_count": 0,
          "unique_count": 5
         }
        },
        {
         "dtype": "float64",
         "name": "perimeter_worst",
         "stats": {
          "histogram": [
           {
            "bin_end": 71.704,
            "bin_start": 59.16,
            "count": 1
           },
           {
            "bin_end": 84.24799999999999,
            "bin_start": 71.704,
            "count": 0
           },
           {
            "bin_end": 96.792,
            "bin_start": 84.24799999999999,
            "count": 0
           },
           {
            "bin_end": 109.336,
            "bin_start": 96.792,
            "count": 0
           },
           {
            "bin_end": 121.88,
            "bin_start": 109.336,
            "count": 0
           },
           {
            "bin_end": 134.424,
            "bin_start": 121.88,
            "count": 1
           },
           {
            "bin_end": 146.96800000000002,
            "bin_start": 134.424,
            "count": 0
           },
           {
            "bin_end": 159.512,
            "bin_start": 146.96800000000002,
            "count": 1
           },
           {
            "bin_end": 172.05599999999998,
            "bin_start": 159.512,
            "count": 1
           },
           {
            "bin_end": 184.6,
            "bin_start": 172.05599999999998,
            "count": 1
           }
          ],
          "max": "184.6",
          "min": "59.16",
          "nan_count": 0,
          "unique_count": 5
         }
        },
        {
         "dtype": "float64",
         "name": "area_worst",
         "stats": {
          "histogram": [
           {
            "bin_end": 444.44000000000005,
            "bin_start": 268.6,
            "count": 1
           },
           {
            "bin_end": 620.28,
            "bin_start": 444.44000000000005,
            "count": 0
           },
           {
            "bin_end": 796.12,
            "bin_start": 620.28,
            "count": 0
           },
           {
            "bin_end": 971.96,
            "bin_start": 796.12,
            "count": 0
           },
           {
            "bin_end": 1147.8000000000002,
            "bin_start": 971.96,
            "count": 1
           },
           {
            "bin_end": 1323.6399999999999,
            "bin_start": 1147.8000000000002,
            "count": 0
           },
           {
            "bin_end": 1499.48,
            "bin_start": 1323.6399999999999,
            "count": 0
           },
           {
            "bin_end": 1675.3200000000002,
            "bin_start": 1499.48,
            "count": 0
           },
           {
            "bin_end": 1851.1599999999999,
            "bin_start": 1675.3200000000002,
            "count": 2
           },
           {
            "bin_end": 2027,
            "bin_start": 1851.1599999999999,
            "count": 1
           }
          ],
          "max": "2027.0",
          "min": "268.6",
          "nan_count": 0,
          "unique_count": 5
         }
        },
        {
         "dtype": "float64",
         "name": "concavity_worst",
         "stats": {
          "histogram": [
           {
            "bin_end": 0.09387,
            "bin_start": 0,
            "count": 1
           },
           {
            "bin_end": 0.18774,
            "bin_start": 0.09387,
            "count": 0
           },
           {
            "bin_end": 0.28160999999999997,
            "bin_start": 0.18774,
            "count": 0
           },
           {
            "bin_end": 0.37548,
            "bin_start": 0.28160999999999997,
            "count": 2
           },
           {
            "bin_end": 0.46935,
            "bin_start": 0.37548,
            "count": 1
           },
           {
            "bin_end": 0.5632199999999999,
            "bin_start": 0.46935,
            "count": 0
           },
           {
            "bin_end": 0.65709,
            "bin_start": 0.5632199999999999,
            "count": 0
           },
           {
            "bin_end": 0.75096,
            "bin_start": 0.65709,
            "count": 0
           },
           {
            "bin_end": 0.84483,
            "bin_start": 0.75096,
            "count": 0
           },
           {
            "bin_end": 0.9387,
            "bin_start": 0.84483,
            "count": 1
           }
          ],
          "max": "0.9387",
          "min": "0.0",
          "nan_count": 0,
          "unique_count": 5
         }
        },
        {
         "dtype": "float64",
         "name": "concave points_worst",
         "stats": {
          "histogram": [
           {
            "bin_end": 0.026500000000000003,
            "bin_start": 0,
            "count": 1
           },
           {
            "bin_end": 0.053000000000000005,
            "bin_start": 0.026500000000000003,
            "count": 0
           },
           {
            "bin_end": 0.07950000000000002,
            "bin_start": 0.053000000000000005,
            "count": 0
           },
           {
            "bin_end": 0.10600000000000001,
            "bin_start": 0.07950000000000002,
            "count": 0
           },
           {
            "bin_end": 0.1325,
            "bin_start": 0.10600000000000001,
            "count": 0
           },
           {
            "bin_end": 0.15900000000000003,
            "bin_start": 0.1325,
            "count": 1
           },
           {
            "bin_end": 0.18550000000000003,
            "bin_start": 0.15900000000000003,
            "count": 1
           },
           {
            "bin_end": 0.21200000000000002,
            "bin_start": 0.18550000000000003,
            "count": 0
           },
           {
            "bin_end": 0.23850000000000002,
            "bin_start": 0.21200000000000002,
            "count": 1
           },
           {
            "bin_end": 0.265,
            "bin_start": 0.23850000000000002,
            "count": 1
           }
          ],
          "max": "0.265",
          "min": "0.0",
          "nan_count": 0,
          "unique_count": 5
         }
        },
        {
         "dtype": "int64",
         "name": "_deepnote_index_column"
        }
       ],
       "row_count": 5,
       "rows": [
        {
         "Radius_mean": "21.56",
         "_deepnote_index_column": "564",
         "area_mean": "1479.0",
         "area_worst": "2027.0",
         "concave points_mean": "0.1389",
         "concave points_worst": "0.2216",
         "concavity_mean": "0.2439",
         "concavity_worst": "0.4107",
         "diagnosis": "1",
         "perimeter_mean": "142.0",
         "perimeter_worst": "166.1",
         "radius_worst": "25.45"
        },
        {
         "Radius_mean": "20.13",
         "_deepnote_index_column": "565",
         "area_mean": "1261.0",
         "area_worst": "1731.0",
         "concave points_mean": "0.09791",
         "concave points_worst": "0.1628",
         "concavity_mean": "0.144",
         "concavity_worst": "0.3215",
         "diagnosis": "1",
         "perimeter_mean": "131.2",
         "perimeter_worst": "155.0",
         "radius_worst": "23.69"
        },
        {
         "Radius_mean": "16.6",
         "_deepnote_index_column": "566",
         "area_mean": "858.1",
         "area_worst": "1124.0",
         "concave points_mean": "0.05302",
         "concave points_worst": "0.1418",
         "concavity_mean": "0.09251",
         "concavity_worst": "0.3403",
         "diagnosis": "1",
         "perimeter_mean": "108.3",
         "perimeter_worst": "126.7",
         "radius_worst": "18.98"
        },
        {
         "Radius_mean": "20.6",
         "_deepnote_index_column": "567",
         "area_mean": "1265.0",
         "area_worst": "1821.0",
         "concave points_mean": "0.152",
         "concave points_worst": "0.265",
         "concavity_mean": "0.3514",
         "concavity_worst": "0.9387",
         "diagnosis": "1",
         "perimeter_mean": "140.1",
         "perimeter_worst": "184.6",
         "radius_worst": "25.74"
        },
        {
         "Radius_mean": "7.76",
         "_deepnote_index_column": "568",
         "area_mean": "181.0",
         "area_worst": "268.6",
         "concave points_mean": "0.0",
         "concave points_worst": "0.0",
         "concavity_mean": "0.0",
         "concavity_worst": "0.0",
         "diagnosis": "0",
         "perimeter_mean": "47.92",
         "perimeter_worst": "59.16",
         "radius_worst": "9.456"
        }
       ]
      },
      "text/html": [
       "<div>\n",
       "<style scoped>\n",
       "    .dataframe tbody tr th:only-of-type {\n",
       "        vertical-align: middle;\n",
       "    }\n",
       "\n",
       "    .dataframe tbody tr th {\n",
       "        vertical-align: top;\n",
       "    }\n",
       "\n",
       "    .dataframe thead th {\n",
       "        text-align: right;\n",
       "    }\n",
       "</style>\n",
       "<table border=\"1\" class=\"dataframe\">\n",
       "  <thead>\n",
       "    <tr style=\"text-align: right;\">\n",
       "      <th></th>\n",
       "      <th>diagnosis</th>\n",
       "      <th>Radius_mean</th>\n",
       "      <th>perimeter_mean</th>\n",
       "      <th>area_mean</th>\n",
       "      <th>concavity_mean</th>\n",
       "      <th>concave points_mean</th>\n",
       "      <th>radius_worst</th>\n",
       "      <th>perimeter_worst</th>\n",
       "      <th>area_worst</th>\n",
       "      <th>concavity_worst</th>\n",
       "      <th>concave points_worst</th>\n",
       "    </tr>\n",
       "  </thead>\n",
       "  <tbody>\n",
       "    <tr>\n",
       "      <th>564</th>\n",
       "      <td>1</td>\n",
       "      <td>21.56</td>\n",
       "      <td>142.00</td>\n",
       "      <td>1479.0</td>\n",
       "      <td>0.24390</td>\n",
       "      <td>0.13890</td>\n",
       "      <td>25.450</td>\n",
       "      <td>166.10</td>\n",
       "      <td>2027.0</td>\n",
       "      <td>0.4107</td>\n",
       "      <td>0.2216</td>\n",
       "    </tr>\n",
       "    <tr>\n",
       "      <th>565</th>\n",
       "      <td>1</td>\n",
       "      <td>20.13</td>\n",
       "      <td>131.20</td>\n",
       "      <td>1261.0</td>\n",
       "      <td>0.14400</td>\n",
       "      <td>0.09791</td>\n",
       "      <td>23.690</td>\n",
       "      <td>155.00</td>\n",
       "      <td>1731.0</td>\n",
       "      <td>0.3215</td>\n",
       "      <td>0.1628</td>\n",
       "    </tr>\n",
       "    <tr>\n",
       "      <th>566</th>\n",
       "      <td>1</td>\n",
       "      <td>16.60</td>\n",
       "      <td>108.30</td>\n",
       "      <td>858.1</td>\n",
       "      <td>0.09251</td>\n",
       "      <td>0.05302</td>\n",
       "      <td>18.980</td>\n",
       "      <td>126.70</td>\n",
       "      <td>1124.0</td>\n",
       "      <td>0.3403</td>\n",
       "      <td>0.1418</td>\n",
       "    </tr>\n",
       "    <tr>\n",
       "      <th>567</th>\n",
       "      <td>1</td>\n",
       "      <td>20.60</td>\n",
       "      <td>140.10</td>\n",
       "      <td>1265.0</td>\n",
       "      <td>0.35140</td>\n",
       "      <td>0.15200</td>\n",
       "      <td>25.740</td>\n",
       "      <td>184.60</td>\n",
       "      <td>1821.0</td>\n",
       "      <td>0.9387</td>\n",
       "      <td>0.2650</td>\n",
       "    </tr>\n",
       "    <tr>\n",
       "      <th>568</th>\n",
       "      <td>0</td>\n",
       "      <td>7.76</td>\n",
       "      <td>47.92</td>\n",
       "      <td>181.0</td>\n",
       "      <td>0.00000</td>\n",
       "      <td>0.00000</td>\n",
       "      <td>9.456</td>\n",
       "      <td>59.16</td>\n",
       "      <td>268.6</td>\n",
       "      <td>0.0000</td>\n",
       "      <td>0.0000</td>\n",
       "    </tr>\n",
       "  </tbody>\n",
       "</table>\n",
       "</div>"
      ],
      "text/plain": [
       "     diagnosis  Radius_mean  perimeter_mean  area_mean  concavity_mean  \\\n",
       "564          1        21.56          142.00     1479.0         0.24390   \n",
       "565          1        20.13          131.20     1261.0         0.14400   \n",
       "566          1        16.60          108.30      858.1         0.09251   \n",
       "567          1        20.60          140.10     1265.0         0.35140   \n",
       "568          0         7.76           47.92      181.0         0.00000   \n",
       "\n",
       "     concave points_mean  radius_worst  perimeter_worst  area_worst  \\\n",
       "564              0.13890        25.450           166.10      2027.0   \n",
       "565              0.09791        23.690           155.00      1731.0   \n",
       "566              0.05302        18.980           126.70      1124.0   \n",
       "567              0.15200        25.740           184.60      1821.0   \n",
       "568              0.00000         9.456            59.16       268.6   \n",
       "\n",
       "     concavity_worst  concave points_worst  \n",
       "564           0.4107                0.2216  \n",
       "565           0.3215                0.1628  \n",
       "566           0.3403                0.1418  \n",
       "567           0.9387                0.2650  \n",
       "568           0.0000                0.0000  "
      ]
     },
     "execution_count": 1,
     "metadata": {},
     "output_type": "execute_result"
    }
   ],
   "source": [
    "import pandas as pd\n",
    "file = 'model_data.csv'\n",
    "\n",
    "data = pd.read_csv(file)\n",
    "data.tail()"
   ]
  },
  {
   "cell_type": "markdown",
   "metadata": {
    "cell_id": "ce6c74c6532149b387321d3314408c6f",
    "deepnote_cell_type": "text-cell-h2",
    "formattedRanges": [],
    "is_collapsed": false,
    "tags": []
   },
   "source": [
    "## Split data"
   ]
  },
  {
   "cell_type": "code",
   "execution_count": 2,
   "metadata": {
    "cell_id": "22eb59780ffc4fdaa6d602e2fcfcef03",
    "deepnote_cell_type": "code",
    "deepnote_to_be_reexecuted": false,
    "execution_millis": 0,
    "execution_start": 1670700267018,
    "source_hash": "c2602aa8",
    "tags": []
   },
   "outputs": [],
   "source": [
    "import numpy as np"
   ]
  },
  {
   "cell_type": "code",
   "execution_count": 3,
   "metadata": {
    "cell_id": "374845b4c372433b9ed20e7d5fc5ff13",
    "deepnote_cell_type": "code",
    "deepnote_to_be_reexecuted": false,
    "execution_millis": 255,
    "execution_start": 1670700267019,
    "source_hash": "c7bba0da",
    "tags": []
   },
   "outputs": [
    {
     "data": {
      "text/plain": [
       "(569, 10)"
      ]
     },
     "execution_count": 3,
     "metadata": {},
     "output_type": "execute_result"
    }
   ],
   "source": [
    "X = data[data.columns[1:]]\n",
    "X.shape"
   ]
  },
  {
   "cell_type": "code",
   "execution_count": 4,
   "metadata": {
    "cell_id": "23d187ae99f04dd8a37906e65448de2c",
    "deepnote_cell_type": "code",
    "deepnote_to_be_reexecuted": false,
    "execution_millis": 255,
    "execution_start": 1670700267019,
    "source_hash": "ce47ed0e",
    "tags": []
   },
   "outputs": [
    {
     "data": {
      "text/plain": [
       "(569,)"
      ]
     },
     "execution_count": 4,
     "metadata": {},
     "output_type": "execute_result"
    }
   ],
   "source": [
    "y = data['diagnosis']\n",
    "y.shape"
   ]
  },
  {
   "cell_type": "code",
   "execution_count": 5,
   "metadata": {
    "cell_id": "9abcde886b9d426aaa91e160c3dd4acd",
    "deepnote_cell_type": "code",
    "deepnote_to_be_reexecuted": false,
    "execution_millis": 1116,
    "execution_start": 1670700267020,
    "source_hash": "565e4d93",
    "tags": []
   },
   "outputs": [],
   "source": [
    "from sklearn.model_selection import train_test_split\n",
    "\n",
    "X_train, X_test, y_train, y_test = train_test_split(X, y, test_size=0.3)"
   ]
  },
  {
   "cell_type": "markdown",
   "metadata": {
    "cell_id": "8acef7b4f542455e9420c4bbe5f49e05",
    "deepnote_cell_type": "text-cell-bullet",
    "formattedRanges": [],
    "is_collapsed": false,
    "tags": []
   },
   "source": [
    "- Logistic Regression\n",
    "k-Nearest Neighbors\n",
    "Decision Trees\n",
    "Support Vector Machine\n",
    "Naive Bayes"
   ]
  },
  {
   "cell_type": "markdown",
   "metadata": {
    "cell_id": "a5ee5c7b-d733-4cd1-a51a-67c61dc782b7",
    "deepnote_cell_type": "text-cell-bullet",
    "formattedRanges": [],
    "is_collapsed": false,
    "tags": []
   },
   "source": [
    "- RandomForestClassifier"
   ]
  },
  {
   "cell_type": "code",
   "execution_count": 6,
   "metadata": {
    "cell_id": "f52b95de1429405a87bcca10026dc93f",
    "deepnote_cell_type": "code",
    "deepnote_to_be_reexecuted": false,
    "execution_millis": 113,
    "execution_start": 1670700268181,
    "source_hash": "526e5399",
    "tags": []
   },
   "outputs": [],
   "source": [
    "from sklearn.linear_model import LogisticRegression\n",
    "from sklearn.svm import SVC\n",
    "from sklearn.neighbors import KNeighborsClassifier\n",
    "from sklearn.tree import DecisionTreeClassifier\n",
    "from sklearn.naive_bayes import GaussianNB\n",
    "from sklearn.ensemble import RandomForestClassifier\n",
    "\n",
    "# metrics\n",
    "from sklearn.metrics import roc_auc_score"
   ]
  },
  {
   "cell_type": "code",
   "execution_count": 7,
   "metadata": {
    "cell_id": "8d1f3049f92a4eefb9f7e721ff62e2d8",
    "deepnote_cell_type": "code",
    "deepnote_to_be_reexecuted": false,
    "execution_millis": 558,
    "execution_start": 1670700268345,
    "source_hash": "7329460b",
    "tags": []
   },
   "outputs": [
    {
     "name": "stderr",
     "output_type": "stream",
     "text": [
      "/shared-libs/python3.9/py/lib/python3.9/site-packages/sklearn/linear_model/_logistic.py:444: ConvergenceWarning: lbfgs failed to converge (status=1):\n",
      "STOP: TOTAL NO. of ITERATIONS REACHED LIMIT.\n",
      "\n",
      "Increase the number of iterations (max_iter) or scale the data as shown in:\n",
      "    https://scikit-learn.org/stable/modules/preprocessing.html\n",
      "Please also refer to the documentation for alternative solver options:\n",
      "    https://scikit-learn.org/stable/modules/linear_model.html#logistic-regression\n",
      "  n_iter_i = _check_optimize_result(\n"
     ]
    }
   ],
   "source": [
    "algos = [\n",
    "    RandomForestClassifier(random_state=2),\n",
    "    GaussianNB(),\n",
    "    DecisionTreeClassifier(),\n",
    "    KNeighborsClassifier(),\n",
    "    LogisticRegression()\n",
    "]\n",
    "\n",
    "df = {\"Model\": [], \"Roc_Auc Score\": [], \"Score\":[]}\n",
    "for algo in algos:\n",
    "    model = algo.fit(X_train, y_train)\n",
    "    y_pred = algo.predict_proba(X_test)[:, 1]\n",
    "    df[\"Model\"].append(str(algo)[:str(algo).find('(')])\n",
    "    df[\"Roc_Auc Score\"].append(roc_auc_score(y_test, y_pred))\n",
    "    df['Score'].append(algo.score(X_test, y_test))\n",
    "\n",
    "models = pd.DataFrame(df)"
   ]
  },
  {
   "cell_type": "code",
   "execution_count": 8,
   "metadata": {
    "cell_id": "1d6d1420fba84952891623a0000689a3",
    "deepnote_cell_type": "code",
    "deepnote_to_be_reexecuted": false,
    "execution_millis": 31,
    "execution_start": 1670700268912,
    "source_hash": "6d6890ff",
    "tags": []
   },
   "outputs": [
    {
     "data": {
      "application/vnd.deepnote.dataframe.v3+json": {
       "column_count": 3,
       "columns": [
        {
         "dtype": "object",
         "name": "Model",
         "stats": {
          "categories": [
           {
            "count": 1,
            "name": "RandomForestClassifier"
           },
           {
            "count": 1,
            "name": "GaussianNB"
           },
           {
            "count": 3,
            "name": "3 others"
           }
          ],
          "nan_count": 0,
          "unique_count": 5
         }
        },
        {
         "dtype": "float64",
         "name": "Roc_Auc Score",
         "stats": {
          "histogram": [
           {
            "bin_end": 0.92136803874092,
            "bin_start": 0.9129842615012106,
            "count": 1
           },
           {
            "bin_end": 0.9297518159806295,
            "bin_start": 0.92136803874092,
            "count": 0
           },
           {
            "bin_end": 0.9381355932203389,
            "bin_start": 0.9297518159806295,
            "count": 0
           },
           {
            "bin_end": 0.9465193704600484,
            "bin_start": 0.9381355932203389,
            "count": 0
           },
           {
            "bin_end": 0.9549031476997578,
            "bin_start": 0.9465193704600484,
            "count": 0
           },
           {
            "bin_end": 0.9632869249394672,
            "bin_start": 0.9549031476997578,
            "count": 0
           },
           {
            "bin_end": 0.9716707021791767,
            "bin_start": 0.9632869249394672,
            "count": 0
           },
           {
            "bin_end": 0.9800544794188861,
            "bin_start": 0.9716707021791767,
            "count": 0
           },
           {
            "bin_end": 0.9884382566585956,
            "bin_start": 0.9800544794188861,
            "count": 1
           },
           {
            "bin_end": 0.996822033898305,
            "bin_start": 0.9884382566585956,
            "count": 3
           }
          ],
          "max": "0.996822033898305",
          "min": "0.9129842615012106",
          "nan_count": 0,
          "unique_count": 5
         }
        },
        {
         "dtype": "float64",
         "name": "Score",
         "stats": {
          "histogram": [
           {
            "bin_end": 0.9181286549707601,
            "bin_start": 0.9122807017543859,
            "count": 1
           },
           {
            "bin_end": 0.9239766081871345,
            "bin_start": 0.9181286549707601,
            "count": 0
           },
           {
            "bin_end": 0.9298245614035088,
            "bin_start": 0.9239766081871345,
            "count": 0
           },
           {
            "bin_end": 0.935672514619883,
            "bin_start": 0.9298245614035088,
            "count": 0
           },
           {
            "bin_end": 0.9415204678362572,
            "bin_start": 0.935672514619883,
            "count": 0
           },
           {
            "bin_end": 0.9473684210526315,
            "bin_start": 0.9415204678362572,
            "count": 2
           },
           {
            "bin_end": 0.9532163742690059,
            "bin_start": 0.9473684210526315,
            "count": 1
           },
           {
            "bin_end": 0.9590643274853801,
            "bin_start": 0.9532163742690059,
            "count": 0
           },
           {
            "bin_end": 0.9649122807017543,
            "bin_start": 0.9590643274853801,
            "count": 0
           },
           {
            "bin_end": 0.9707602339181286,
            "bin_start": 0.9649122807017543,
            "count": 1
           }
          ],
          "max": "0.9707602339181286",
          "min": "0.9122807017543859",
          "nan_count": 0,
          "unique_count": 4
         }
        },
        {
         "dtype": "int64",
         "name": "_deepnote_index_column"
        }
       ],
       "row_count": 5,
       "rows": [
        {
         "Model": "RandomForestClassifier",
         "Roc_Auc Score": "0.9924334140435835",
         "Score": "0.9415204678362573",
         "_deepnote_index_column": "0"
        },
        {
         "Model": "GaussianNB",
         "Roc_Auc Score": "0.9904661016949152",
         "Score": "0.9415204678362573",
         "_deepnote_index_column": "1"
        },
        {
         "Model": "DecisionTreeClassifier",
         "Roc_Auc Score": "0.9129842615012106",
         "Score": "0.9122807017543859",
         "_deepnote_index_column": "2"
        },
        {
         "Model": "KNeighborsClassifier",
         "Roc_Auc Score": "0.9814618644067796",
         "Score": "0.9473684210526315",
         "_deepnote_index_column": "3"
        },
        {
         "Model": "LogisticRegression",
         "Roc_Auc Score": "0.996822033898305",
         "Score": "0.9707602339181286",
         "_deepnote_index_column": "4"
        }
       ]
      },
      "text/html": [
       "<div>\n",
       "<style scoped>\n",
       "    .dataframe tbody tr th:only-of-type {\n",
       "        vertical-align: middle;\n",
       "    }\n",
       "\n",
       "    .dataframe tbody tr th {\n",
       "        vertical-align: top;\n",
       "    }\n",
       "\n",
       "    .dataframe thead th {\n",
       "        text-align: right;\n",
       "    }\n",
       "</style>\n",
       "<table border=\"1\" class=\"dataframe\">\n",
       "  <thead>\n",
       "    <tr style=\"text-align: right;\">\n",
       "      <th></th>\n",
       "      <th>Model</th>\n",
       "      <th>Roc_Auc Score</th>\n",
       "      <th>Score</th>\n",
       "    </tr>\n",
       "  </thead>\n",
       "  <tbody>\n",
       "    <tr>\n",
       "      <th>0</th>\n",
       "      <td>RandomForestClassifier</td>\n",
       "      <td>0.992433</td>\n",
       "      <td>0.941520</td>\n",
       "    </tr>\n",
       "    <tr>\n",
       "      <th>1</th>\n",
       "      <td>GaussianNB</td>\n",
       "      <td>0.990466</td>\n",
       "      <td>0.941520</td>\n",
       "    </tr>\n",
       "    <tr>\n",
       "      <th>2</th>\n",
       "      <td>DecisionTreeClassifier</td>\n",
       "      <td>0.912984</td>\n",
       "      <td>0.912281</td>\n",
       "    </tr>\n",
       "    <tr>\n",
       "      <th>3</th>\n",
       "      <td>KNeighborsClassifier</td>\n",
       "      <td>0.981462</td>\n",
       "      <td>0.947368</td>\n",
       "    </tr>\n",
       "    <tr>\n",
       "      <th>4</th>\n",
       "      <td>LogisticRegression</td>\n",
       "      <td>0.996822</td>\n",
       "      <td>0.970760</td>\n",
       "    </tr>\n",
       "  </tbody>\n",
       "</table>\n",
       "</div>"
      ],
      "text/plain": [
       "                    Model  Roc_Auc Score     Score\n",
       "0  RandomForestClassifier       0.992433  0.941520\n",
       "1              GaussianNB       0.990466  0.941520\n",
       "2  DecisionTreeClassifier       0.912984  0.912281\n",
       "3    KNeighborsClassifier       0.981462  0.947368\n",
       "4      LogisticRegression       0.996822  0.970760"
      ]
     },
     "execution_count": 8,
     "metadata": {},
     "output_type": "execute_result"
    }
   ],
   "source": [
    "models"
   ]
  },
  {
   "cell_type": "code",
   "execution_count": 9,
   "metadata": {
    "cell_id": "b5abbe8ca0404800acd820d387062b08",
    "deepnote_cell_type": "visualization",
    "deepnote_config_collapsed": true,
    "deepnote_to_be_reexecuted": false,
    "deepnote_variable_name": "models",
    "deepnote_visualization_spec": {
     "$schema": "https://vega.github.io/schema/vega-lite/v5.json",
     "config": {
      "legend": {
       "orient": "bottom"
      }
     },
     "encoding": {},
     "layer": [
      {
       "encoding": {
        "color": {
         "datum": "Sum of Roc_Auc Score"
        },
        "x": {
         "axis": {
          "title": "Models"
         },
         "field": "Model",
         "scale": {
          "type": "linear"
         },
         "sort": null,
         "type": "nominal"
        },
        "xOffset": {
         "datum": "Sum of Roc_Auc Score"
        },
        "y": {
         "aggregate": "sum",
         "axis": {
          "title": "Roc_Auc Score"
         },
         "field": "Roc_Auc Score",
         "scale": {
          "type": "linear"
         },
         "sort": null,
         "type": "quantitative"
        }
       },
       "mark": {
        "clip": true,
        "color": "#4c78a8",
        "tooltip": true,
        "type": "bar"
       }
      },
      {
       "encoding": {
        "color": {
         "datum": "Sum of Score"
        },
        "x": {
         "field": "Model",
         "scale": {
          "type": "linear"
         },
         "sort": null,
         "type": "nominal"
        },
        "xOffset": {
         "datum": "Sum of Score"
        },
        "y": {
         "aggregate": "sum",
         "field": "Score",
         "scale": {
          "type": "linear"
         },
         "sort": null,
         "type": "quantitative"
        }
       },
       "mark": {
        "clip": true,
        "color": "#f58518",
        "tooltip": true,
        "type": "bar"
       }
      }
     ],
     "resolve": {
      "scale": {
       "y": "independent"
      }
     },
     "title": "Models statistics"
    },
    "execution_millis": 366,
    "execution_start": 1670700268999,
    "output_cleared": false,
    "source_hash": "7856e9b0"
   },
   "outputs": [
    {
     "data": {
      "application/vnd.vegalite.v5+json": {
       "$schema": "https://vega.github.io/schema/vega-lite/v5.json",
       "config": {
        "legend": {
         "orient": "bottom"
        }
       },
       "data": {
        "values": [
         {
          "Model": "RandomForestClassifier",
          "Roc_Auc Score": 0.9924334140435835,
          "Score": 0.9415204678362573
         },
         {
          "Model": "GaussianNB",
          "Roc_Auc Score": 0.9904661016949152,
          "Score": 0.9415204678362573
         },
         {
          "Model": "DecisionTreeClassifier",
          "Roc_Auc Score": 0.9129842615012106,
          "Score": 0.9122807017543859
         },
         {
          "Model": "KNeighborsClassifier",
          "Roc_Auc Score": 0.9814618644067796,
          "Score": 0.9473684210526315
         },
         {
          "Model": "LogisticRegression",
          "Roc_Auc Score": 0.996822033898305,
          "Score": 0.9707602339181286
         }
        ]
       },
       "encoding": {},
       "layer": [
        {
         "encoding": {
          "color": {
           "datum": "Sum of Roc_Auc Score"
          },
          "x": {
           "axis": {
            "title": "Models"
           },
           "field": "Model",
           "scale": {
            "type": "linear"
           },
           "sort": null,
           "type": "nominal"
          },
          "xOffset": {
           "datum": "Sum of Roc_Auc Score"
          },
          "y": {
           "aggregate": "sum",
           "axis": {
            "title": "Roc_Auc Score"
           },
           "field": "Roc_Auc Score",
           "scale": {
            "type": "linear"
           },
           "sort": null,
           "type": "quantitative"
          }
         },
         "mark": {
          "clip": true,
          "color": "#4c78a8",
          "tooltip": true,
          "type": "bar"
         }
        },
        {
         "encoding": {
          "color": {
           "datum": "Sum of Score"
          },
          "x": {
           "field": "Model",
           "scale": {
            "type": "linear"
           },
           "sort": null,
           "type": "nominal"
          },
          "xOffset": {
           "datum": "Sum of Score"
          },
          "y": {
           "aggregate": "sum",
           "field": "Score",
           "scale": {
            "type": "linear"
           },
           "sort": null,
           "type": "quantitative"
          }
         },
         "mark": {
          "clip": true,
          "color": "#f58518",
          "tooltip": true,
          "type": "bar"
         }
        }
       ],
       "resolve": {
        "scale": {
         "y": "independent"
        }
       },
       "title": "Models statistics"
      },
      "text/plain": [
       "<__main__.DeepnoteChart at 0x7f4d29e197c0>"
      ]
     },
     "execution_count": 9,
     "metadata": {},
     "output_type": "execute_result"
    }
   ],
   "source": [
    "DeepnoteChart(models, \"\"\"{\"layer\":[{\"mark\":{\"clip\":true,\"type\":\"bar\",\"color\":\"#4c78a8\",\"tooltip\":true},\"encoding\":{\"x\":{\"axis\":{\"title\":\"Models\"},\"sort\":null,\"type\":\"nominal\",\"field\":\"Model\",\"scale\":{\"type\":\"linear\"}},\"y\":{\"axis\":{\"title\":\"Roc_Auc Score\"},\"sort\":null,\"type\":\"quantitative\",\"field\":\"Roc_Auc Score\",\"scale\":{\"type\":\"linear\"},\"aggregate\":\"sum\"},\"color\":{\"datum\":\"Sum of Roc_Auc Score\"},\"xOffset\":{\"datum\":\"Sum of Roc_Auc Score\"}}},{\"mark\":{\"clip\":true,\"type\":\"bar\",\"color\":\"#f58518\",\"tooltip\":true},\"encoding\":{\"x\":{\"sort\":null,\"type\":\"nominal\",\"field\":\"Model\",\"scale\":{\"type\":\"linear\"}},\"y\":{\"sort\":null,\"type\":\"quantitative\",\"field\":\"Score\",\"scale\":{\"type\":\"linear\"},\"aggregate\":\"sum\"},\"color\":{\"datum\":\"Sum of Score\"},\"xOffset\":{\"datum\":\"Sum of Score\"}}}],\"title\":\"Models statistics\",\"config\":{\"legend\":{\"orient\":\"bottom\"}},\"$schema\":\"https://vega.github.io/schema/vega-lite/v5.json\",\"resolve\":{\"scale\":{\"y\":\"independent\"}},\"encoding\":{}}\"\"\")"
   ]
  },
  {
   "cell_type": "code",
   "execution_count": 10,
   "metadata": {
    "cell_id": "1912bdf65b32424492d00e640d280a25",
    "deepnote_cell_type": "code",
    "deepnote_to_be_reexecuted": false,
    "execution_millis": 4331,
    "execution_start": 1670700269371,
    "source_hash": "20dc7bfa",
    "tags": []
   },
   "outputs": [
    {
     "data": {
      "image/png": "[encoded data removed]",
      "text/plain": [
       "<Figure size 640x480 with 2 Axes>"
      ]
     },
     "metadata": {
      "image/png": {
       "height": 455,
       "width": 507
      }
     },
     "output_type": "display_data"
    },
    {
     "data": {
      "image/png": "[encoded data removed]",
      "text/plain": [
       "<Figure size 640x480 with 2 Axes>"
      ]
     },
     "metadata": {
      "image/png": {
       "height": 455,
       "width": 507
      }
     },
     "output_type": "display_data"
    },
    {
     "data": {
      "image/png": "[encoded data removed]",
      "text/plain": [
       "<Figure size 640x480 with 2 Axes>"
      ]
     },
     "metadata": {
      "image/png": {
       "height": 455,
       "width": 507
      }
     },
     "output_type": "display_data"
    },
    {
     "data": {
      "image/png": "[encoded data removed]",
      "text/plain": [
       "<Figure size 640x480 with 2 Axes>"
      ]
     },
     "metadata": {
      "image/png": {
       "height": 455,
       "width": 507
      }
     },
     "output_type": "display_data"
    },
    {
     "name": "stderr",
     "output_type": "stream",
     "text": [
      "/shared-libs/python3.9/py/lib/python3.9/site-packages/sklearn/linear_model/_logistic.py:444: ConvergenceWarning: lbfgs failed to converge (status=1):\n",
      "STOP: TOTAL NO. of ITERATIONS REACHED LIMIT.\n",
      "\n",
      "Increase the number of iterations (max_iter) or scale the data as shown in:\n",
      "    https://scikit-learn.org/stable/modules/preprocessing.html\n",
      "Please also refer to the documentation for alternative solver options:\n",
      "    https://scikit-learn.org/stable/modules/linear_model.html#logistic-regression\n",
      "  n_iter_i = _check_optimize_result(\n"
     ]
    },
    {
     "data": {
      "image/png": "[encoded data removed]",
      "text/plain": [
       "<Figure size 640x480 with 2 Axes>"
      ]
     },
     "metadata": {
      "image/png": {
       "height": 455,
       "width": 507
      }
     },
     "output_type": "display_data"
    }
   ],
   "source": [
    "from sklearn.metrics import confusion_matrix\n",
    "from sklearn.metrics import ConfusionMatrixDisplay\n",
    "from matplotlib import pyplot as plt\n",
    "\n",
    "for algo in algos:\n",
    "    algo.fit(X_train, y_train)\n",
    "\n",
    "    y = algo.predict_proba(X_test)\n",
    "    y_pred = []\n",
    "    for l in y:\n",
    "        if l[0] > l[1]:\n",
    "            y_pred.append(0)\n",
    "        else:\n",
    "            y_pred.append(1)\n",
    "    cm = confusion_matrix(y_test,y_pred)\n",
    "    cm_display = ConfusionMatrixDisplay(cm).plot()\n",
    "    plt.title(str(algo)[:str(algo).find('(')])\n",
    "    plt.show()"
   ]
  },
  {
   "cell_type": "markdown",
   "metadata": {
    "cell_id": "d2f3e2f626d346dc82e6d2280c6dc7c5",
    "deepnote_cell_type": "text-cell-p",
    "formattedRanges": [
     {
      "fromCodePoint": 35,
      "marks": {
       "bold": true
      },
      "toCodePoint": 49,
      "type": "marks"
     },
     {
      "fromCodePoint": 89,
      "marks": {
       "bold": true
      },
      "toCodePoint": 109,
      "type": "marks"
     }
    ],
    "is_collapsed": false,
    "tags": []
   },
   "source": [
    "as a result of the comparaison of (TP, TN, FP, FN) it's abvous that the optimal model is Logistic Regression."
   ]
  },
  {
   "cell_type": "markdown",
   "metadata": {
    "cell_id": "b86a44840ca949c5961bead1b53786f6",
    "deepnote_cell_type": "text-cell-h2",
    "formattedRanges": [],
    "is_collapsed": false,
    "tags": []
   },
   "source": [
    "## The selected model: LogisticRegression"
   ]
  },
  {
   "cell_type": "code",
   "execution_count": 11,
   "metadata": {
    "cell_id": "1af141ba3cb4432bbe82c7219d55489c",
    "deepnote_cell_type": "code",
    "deepnote_to_be_reexecuted": false,
    "execution_millis": 31,
    "execution_start": 1670700273689,
    "source_hash": "8b5e71ed",
    "tags": []
   },
   "outputs": [
    {
     "name": "stderr",
     "output_type": "stream",
     "text": [
      "/shared-libs/python3.9/py/lib/python3.9/site-packages/sklearn/linear_model/_logistic.py:444: ConvergenceWarning: lbfgs failed to converge (status=1):\n",
      "STOP: TOTAL NO. of ITERATIONS REACHED LIMIT.\n",
      "\n",
      "Increase the number of iterations (max_iter) or scale the data as shown in:\n",
      "    https://scikit-learn.org/stable/modules/preprocessing.html\n",
      "Please also refer to the documentation for alternative solver options:\n",
      "    https://scikit-learn.org/stable/modules/linear_model.html#logistic-regression\n",
      "  n_iter_i = _check_optimize_result(\n"
     ]
    },
    {
     "data": {
      "text/plain": [
       "0.9707602339181286"
      ]
     },
     "execution_count": 11,
     "metadata": {},
     "output_type": "execute_result"
    }
   ],
   "source": [
    "model = LogisticRegression()\n",
    "model.fit(X_train, y_train)\n",
    "\n",
    "# Score\n",
    "model.score(X_test, y_test)\n"
   ]
  },
  {
   "cell_type": "markdown",
   "metadata": {
    "cell_id": "d7662c5a12f34582944b4efdd9d90a2a",
    "deepnote_cell_type": "text-cell-h2",
    "formattedRanges": [],
    "is_collapsed": false,
    "tags": []
   },
   "source": [
    "## Model deployment"
   ]
  },
  {
   "cell_type": "code",
   "execution_count": 12,
   "metadata": {
    "cell_id": "ca3c6756284b4276838eb0610aaa3963",
    "deepnote_cell_type": "code",
    "deepnote_to_be_reexecuted": false,
    "execution_millis": 0,
    "execution_start": 1670700273765,
    "source_hash": "feb5cf74",
    "tags": []
   },
   "outputs": [],
   "source": [
    "import pickle\n",
    "\n",
    "with open('Breast Cancer LR.pickle', 'wb') as f:\n",
    "    pickle.dump(model, f)"
   ]
  },
  {
   "cell_type": "markdown",
   "metadata": {
    "cell_id": "c048235e09fe4c7e8226e40506fecef6",
    "deepnote_cell_type": "markdown",
    "tags": []
   },
   "source": [
    "<hr>\n",
    "<p style=\"text-align: right\">Breast Cancer, Model | <span style=\"color: green\">Successfuly Completed</span></p>"
   ]
  },
  {
   "cell_type": "markdown",
   "metadata": {
    "created_in_deepnote_cell": true,
    "deepnote_cell_type": "markdown",
    "tags": []
   },
   "source": [
    "<a style='text-decoration:none;line-height:16px;display:flex;color:#5B5B62;padding:10px;justify-content:end;' href='https://deepnote.com?utm_source=created-in-deepnote-cell&projectId=9bbe9ee2-d8a7-4805-9f8f-4e89f150f368' target=\"_blank\">\n",
    "<img alt='Created in deepnote.com' style='display:inline;max-height:16px;margin:0px;margin-right:7.5px;' src='data:image/svg+xml;base64,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' > </img>\n",
    "Created in <span style='font-weight:600;margin-left:4px;'>Deepnote</span></a>"
   ]
  }
 ],
 "metadata": {
  "deepnote": {},
  "deepnote_execution_queue": [],
  "deepnote_notebook_id": "57e8629027144977ba4a0b90b0c020cd",
  "deepnote_persisted_session": {
   "createdAt": "2022-12-10T09:17:44.418Z"
  },
  "kernelspec": {
   "display_name": "Python 3 (ipykernel)",
   "language": "python",
   "name": "python3"
  },
  "language_info": {
   "codemirror_mode": {
    "name": "ipython",
    "version": 3
   },
   "file_extension": ".py",
   "mimetype": "text/x-python",
   "name": "python",
   "nbconvert_exporter": "python",
   "pygments_lexer": "ipython3",
   "version": "3.9.13"
  }
 },
 "nbformat": 4,
 "nbformat_minor": 1
}
